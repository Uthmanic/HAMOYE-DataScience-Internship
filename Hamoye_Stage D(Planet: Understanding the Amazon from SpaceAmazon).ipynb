{
  "nbformat": 4,
  "nbformat_minor": 0,
  "metadata": {
    "colab": {
      "name": "Hamoye_Amazon.ipynb",
      "provenance": [],
      "collapsed_sections": [],
      "authorship_tag": "ABX9TyPB3Cu5LJXyLA17bmGQBBkj",
      "include_colab_link": true
    },
    "kernelspec": {
      "name": "python3",
      "display_name": "Python 3"
    },
    "accelerator": "GPU"
  },
  "cells": [
    {
      "cell_type": "markdown",
      "metadata": {
        "id": "view-in-github",
        "colab_type": "text"
      },
      "source": [
        "<a href=\"https://colab.research.google.com/github/Uthmanic/HAMOYE-DataScience-Internship/blob/master/Hamoye_Stage%20D(Planet%3A%20Understanding%20the%20Amazon%20from%20SpaceAmazon).ipynb\" target=\"_parent\"><img src=\"https://colab.research.google.com/assets/colab-badge.svg\" alt=\"Open In Colab\"/></a>"
      ]
    },
    {
      "cell_type": "code",
      "metadata": {
        "id": "smgBbZPTyzYD",
        "colab_type": "code",
        "colab": {
          "base_uri": "https://localhost:8080/",
          "height": 221
        },
        "outputId": "155085da-87a2-4ade-c844-3190864202f9"
      },
      "source": [
        "#install kaggle\n",
        "!pip install kaggle"
      ],
      "execution_count": null,
      "outputs": [
        {
          "output_type": "stream",
          "text": [
            "Requirement already satisfied: kaggle in /usr/local/lib/python3.6/dist-packages (1.5.8)\n",
            "Requirement already satisfied: six>=1.10 in /usr/local/lib/python3.6/dist-packages (from kaggle) (1.15.0)\n",
            "Requirement already satisfied: python-dateutil in /usr/local/lib/python3.6/dist-packages (from kaggle) (2.8.1)\n",
            "Requirement already satisfied: python-slugify in /usr/local/lib/python3.6/dist-packages (from kaggle) (4.0.1)\n",
            "Requirement already satisfied: urllib3<1.25,>=1.21.1 in /usr/local/lib/python3.6/dist-packages (from kaggle) (1.24.3)\n",
            "Requirement already satisfied: requests in /usr/local/lib/python3.6/dist-packages (from kaggle) (2.23.0)\n",
            "Requirement already satisfied: certifi in /usr/local/lib/python3.6/dist-packages (from kaggle) (2020.6.20)\n",
            "Requirement already satisfied: slugify in /usr/local/lib/python3.6/dist-packages (from kaggle) (0.0.1)\n",
            "Requirement already satisfied: tqdm in /usr/local/lib/python3.6/dist-packages (from kaggle) (4.41.1)\n",
            "Requirement already satisfied: text-unidecode>=1.3 in /usr/local/lib/python3.6/dist-packages (from python-slugify->kaggle) (1.3)\n",
            "Requirement already satisfied: idna<3,>=2.5 in /usr/local/lib/python3.6/dist-packages (from requests->kaggle) (2.10)\n",
            "Requirement already satisfied: chardet<4,>=3.0.2 in /usr/local/lib/python3.6/dist-packages (from requests->kaggle) (3.0.4)\n"
          ],
          "name": "stdout"
        }
      ]
    },
    {
      "cell_type": "code",
      "metadata": {
        "id": "O8UUzeqTzKZi",
        "colab_type": "code",
        "colab": {
          "base_uri": "https://localhost:8080/",
          "height": 34
        },
        "outputId": "6c40ea68-ec35-41b1-b260-2d45b09b8b22"
      },
      "source": [
        "!mkdir .kaggle"
      ],
      "execution_count": null,
      "outputs": [
        {
          "output_type": "stream",
          "text": [
            "mkdir: cannot create directory ‘.kaggle’: File exists\n"
          ],
          "name": "stdout"
        }
      ]
    },
    {
      "cell_type": "code",
      "metadata": {
        "id": "7YdEvA42zP56",
        "colab_type": "code",
        "colab": {}
      },
      "source": [
        "import json\n",
        "token = {\"username\":\"tijaniuthman\",\"key\":\"42a091ba934aa0b6d9ef884eb7f52567\"}\n",
        "with open('/content/.kaggle/kaggle.json', 'w') as file:\n",
        "    json.dump(token, file)"
      ],
      "execution_count": null,
      "outputs": []
    },
    {
      "cell_type": "code",
      "metadata": {
        "id": "_Huo15CLzl2d",
        "colab_type": "code",
        "colab": {}
      },
      "source": [
        "!cp /content/.kaggle/kaggle.json ~/.kaggle/kaggle.json"
      ],
      "execution_count": null,
      "outputs": []
    },
    {
      "cell_type": "code",
      "metadata": {
        "id": "PMfiq9Vyzthe",
        "colab_type": "code",
        "colab": {
          "base_uri": "https://localhost:8080/",
          "height": 34
        },
        "outputId": "414e6a31-2e24-4dd2-8f7b-d9f3875e9b02"
      },
      "source": [
        "!kaggle config set -n path -v{/content}"
      ],
      "execution_count": null,
      "outputs": [
        {
          "output_type": "stream",
          "text": [
            "- path is now set to: {/content}\n"
          ],
          "name": "stdout"
        }
      ]
    },
    {
      "cell_type": "code",
      "metadata": {
        "id": "zhFqIRSIz2_o",
        "colab_type": "code",
        "colab": {}
      },
      "source": [
        "!chmod 600 /root/.kaggle/kaggle.json"
      ],
      "execution_count": null,
      "outputs": []
    },
    {
      "cell_type": "code",
      "metadata": {
        "id": "n3Rr2drt0qqn",
        "colab_type": "code",
        "colab": {
          "base_uri": "https://localhost:8080/",
          "height": 408
        },
        "outputId": "6fbf3874-7dfe-4843-fbe0-e702e2458a75"
      },
      "source": [
        "!kaggle datasets list"
      ],
      "execution_count": null,
      "outputs": [
        {
          "output_type": "stream",
          "text": [
            "Warning: Looks like you're using an outdated API Version, please consider updating (server 1.5.6 / client 1.5.4)\n",
            "ref                                                    title                                              size  lastUpdated          downloadCount  \n",
            "-----------------------------------------------------  ------------------------------------------------  -----  -------------------  -------------  \n",
            "anmolkumar/health-insurance-cross-sell-prediction      Health Insurance Cross Sell Prediction 🏠 🏥          6MB  2020-09-11 18:39:31            922  \n",
            "shivan118/healthcare-analytics                         Healthcare Analytics                                2MB  2020-09-13 17:40:05            512  \n",
            "Cornell-University/arxiv                               arXiv Dataset                                     885MB  2020-09-14 16:54:47           2836  \n",
            "nipunarora8/age-gender-and-ethnicity-face-data-csv     AGE, GENDER AND ETHNICITY (FACE DATA) CSV          63MB  2020-09-02 13:46:38            293  \n",
            "datatattle/covid-19-nlp-text-classification            Coronavirus tweets NLP - Text Classification        4MB  2020-09-08 11:40:11            312  \n",
            "ramjidoolla/ipl-data-set                               IPL _Data_Set                                       1MB  2020-09-14 10:57:42            478  \n",
            "yoannboyere/co2-ghg-emissionsdata                      CO2_GHG_emissions-data                            147KB  2020-09-14 09:59:25            265  \n",
            "anikannal/solar-power-generation-data                  Solar Power Generation Data                         2MB  2020-08-18 15:52:03           3776  \n",
            "tunguz/us-elections-dataset                            US Elections Dataset                                8MB  2020-09-17 17:02:40           2178  \n",
            "imoore/60k-stack-overflow-questions-with-quality-rate  60k Stack Overflow Questions with Quality Rating   21MB  2020-09-11 18:28:28           1097  \n",
            "nehaprabhavalkar/av-healthcare-analytics-ii            AV : Healthcare Analytics II                        7MB  2020-08-29 03:40:10           1795  \n",
            "jmmvutu/summer-products-and-sales-in-ecommerce-wish    Sales of summer clothes in E-commerce Wish        376KB  2020-08-23 15:16:46           5935  \n",
            "ihelon/lego-minifigures-classification                 LEGO Minifigures                                   17MB  2020-09-15 20:07:06           1049  \n",
            "ruchi798/bookcrossing-dataset                          Book-Crossing: User review ratings                 25MB  2020-08-11 10:40:25           1024  \n",
            "google/tinyquickdraw                                   QuickDraw Sketches                                 11GB  2018-04-18 19:38:04           2301  \n",
            "agirlcoding/all-space-missions-from-1957               All Space Missions from 1957                      101KB  2020-08-13 16:18:58           3138  \n",
            "datasnaek/youtube-new                                  Trending YouTube Video Statistics                 201MB  2019-06-03 00:56:47         104956  \n",
            "zynicide/wine-reviews                                  Wine Reviews                                       51MB  2017-11-27 17:08:04         112603  \n",
            "residentmario/ramen-ratings                            Ramen Ratings                                      40KB  2018-01-11 16:04:39          13477  \n",
            "datasnaek/chess                                        Chess Game Dataset (Lichess)                        3MB  2017-09-04 03:09:09           8891  \n"
          ],
          "name": "stdout"
        }
      ]
    },
    {
      "cell_type": "code",
      "metadata": {
        "id": "U8WFvA8B01fN",
        "colab_type": "code",
        "colab": {
          "base_uri": "https://localhost:8080/",
          "height": 374
        },
        "outputId": "d443d1cf-5078-4c3d-c023-e2740c1e56b6"
      },
      "source": [
        "#search for the dataset \n",
        "!kaggle datasets list -s planets-dataset"
      ],
      "execution_count": null,
      "outputs": [
        {
          "output_type": "stream",
          "text": [
            "Warning: Looks like you're using an outdated API Version, please consider updating (server 1.5.6 / client 1.5.4)\n",
            "ref                                               title                                     size  lastUpdated          downloadCount  \n",
            "------------------------------------------------  ---------------------------------------  -----  -------------------  -------------  \n",
            "nikitarom/planets-dataset                         planets_dataset                            1GB  2020-02-09 22:01:31           1889  \n",
            "mrisdal/open-exoplanet-catalogue                  Open Exoplanet Catalogue                 123KB  2017-06-08 19:59:22           2804  \n",
            "eduardowoj/exoplanets-database                    Exoplanets Database                      281KB  2018-02-28 20:56:05            852  \n",
            "muhakabartay/markmarkohkeplerconfirmedplanets     Kepler Confirmed Planets                 521KB  2019-12-26 20:08:20             16  \n",
            "nasa/kepler-exoplanet-search-results              Kepler Exoplanet Search Results            1MB  2017-10-10 18:26:59           3988  \n",
            "jsphyg/star-wars                                  Star Wars                                 10KB  2019-07-08 12:53:05           1423  \n",
            "aradzhabov/earthquakes-solar-system-objects       Earthquakes <-?-> Solar System objects?    2MB  2017-04-22 21:42:59            839  \n",
            "keplersmachines/kepler-labelled-time-series-data  Exoplanet Hunting in Deep Space           56MB  2017-04-12 16:34:18           6867  \n",
            "scoleman/spacex-launch-data                       SpaceX Launch Data                         2KB  2018-06-14 03:01:05           1407  \n",
            "nasa/trappist1                                    Trappist-1 Solar System                    1KB  2017-02-23 18:11:03            416  \n",
            "fatihhazir/planets                                Planets                                   10KB  2020-07-20 14:06:52              4  \n",
            "markmarkoh/near-earth-asteroids                   Near Earth Asteroids                      18KB  2016-10-05 17:01:46            160  \n",
            "moiraghif/exoplanets                              exoplanets                                 4MB  2018-12-06 14:49:07             33  \n",
            "ukveteran/exoplanets-data                         Exoplanets Data                            1KB  2019-12-30 20:38:42              2  \n",
            "uzairwali/exoplanetsflux                          ExoPlanetsFlux                            56MB  2019-04-03 11:40:11             17  \n",
            "canthonyaustin/cneos-neo-earth-close-approaches   CNEOS NEO Earth Close Approaches           5KB  2020-07-22 22:22:59              3  \n",
            "kazeev/idao2019muonid                             IDAO-2019-MuonID                            0B  2019-01-28 14:46:32             70  \n",
            "jaredsavage/solar-system-major-bodies-data        Solar System major bodies data            22KB  2020-05-23 15:41:48             42  \n"
          ],
          "name": "stdout"
        }
      ]
    },
    {
      "cell_type": "code",
      "metadata": {
        "id": "EwFN-X9b1l6V",
        "colab_type": "code",
        "colab": {
          "base_uri": "https://localhost:8080/",
          "height": 34
        },
        "outputId": "d2dfcd45-4a58-49ca-f552-7eb3ae2bf6aa"
      },
      "source": [
        "#download dataset\n",
        "!kaggle datasets download -d nikitarom/planets-dataset -p /content"
      ],
      "execution_count": null,
      "outputs": [
        {
          "output_type": "stream",
          "text": [
            "planets-dataset.zip: Skipping, found more recently modified local copy (use --force to force download)\n"
          ],
          "name": "stdout"
        }
      ]
    },
    {
      "cell_type": "code",
      "metadata": {
        "id": "l-LS_OUE173W",
        "colab_type": "code",
        "colab": {
          "base_uri": "https://localhost:8080/",
          "height": 51
        },
        "outputId": "ad24d0d2-0c40-41c2-fd3e-5b1f9eb1f1d8"
      },
      "source": [
        "#unzip the dataset\n",
        "!unzip \\*.zip"
      ],
      "execution_count": null,
      "outputs": [
        {
          "output_type": "stream",
          "text": [
            "Archive:  planets-dataset.zip\n",
            "replace planet/planet/sample_submission.csv? [y]es, [n]o, [A]ll, [N]one, [r]ename: "
          ],
          "name": "stdout"
        }
      ]
    },
    {
      "cell_type": "code",
      "metadata": {
        "id": "tsvjFsDc1_3R",
        "colab_type": "code",
        "colab": {
          "base_uri": "https://localhost:8080/",
          "height": 17
        },
        "outputId": "fa50aece-09bd-4424-e555-ef95cf99d6a0"
      },
      "source": [
        "#Import necessary libraries\n",
        "import numpy as np # linear algebra\n",
        "import pandas as pd # data processing, CSV file I/O (e.g. pd.read_csv)\n",
        "import os\n",
        "import gc\n",
        "import matplotlib.pyplot as plt\n",
        "import seaborn as sns\n",
        "from tensorflow.keras.preprocessing.image import load_img, img_to_array\n",
        "from sklearn.metrics import fbeta_score\n",
        "from tqdm import tqdm\n",
        "import cv2\n",
        "from PIL import Image\n",
        "from tensorflow import keras\n",
        "from keras.models import Sequential\n",
        "from keras.layers import Dense, Dropout, Flatten\n",
        "from keras.layers import Conv2D, MaxPooling2D, BatchNormalization\n",
        "from keras.callbacks import EarlyStopping, ModelCheckpoint\n",
        "from keras import optimizers\n",
        "\n",
        "from sklearn.model_selection import KFold, train_test_split\n",
        "from sklearn.metrics import fbeta_score\n",
        "import time\n",
        "%matplotlib inline\n",
        "\n",
        "pal = sns.color_palette()\n",
        "\n",
        "import plotly.offline as py\n",
        "py.init_notebook_mode(connected=True)\n",
        "import plotly.graph_objs as go\n",
        "import plotly.tools as tls"
      ],
      "execution_count": 67,
      "outputs": [
        {
          "output_type": "display_data",
          "data": {
            "text/html": [
              "        <script type=\"text/javascript\">\n",
              "        window.PlotlyConfig = {MathJaxConfig: 'local'};\n",
              "        if (window.MathJax) {MathJax.Hub.Config({SVG: {font: \"STIX-Web\"}});}\n",
              "        if (typeof require !== 'undefined') {\n",
              "        require.undef(\"plotly\");\n",
              "        requirejs.config({\n",
              "            paths: {\n",
              "                'plotly': ['https://cdn.plot.ly/plotly-latest.min']\n",
              "            }\n",
              "        });\n",
              "        require(['plotly'], function(Plotly) {\n",
              "            window._Plotly = Plotly;\n",
              "        });\n",
              "        }\n",
              "        </script>\n",
              "        "
            ]
          },
          "metadata": {
            "tags": []
          }
        }
      ]
    },
    {
      "cell_type": "code",
      "metadata": {
        "id": "myCVksuu5o-I",
        "colab_type": "code",
        "colab": {
          "base_uri": "https://localhost:8080/",
          "height": 34
        },
        "outputId": "5c3f4d48-927f-4114-8805-6ddd52015a16"
      },
      "source": [
        "#check present working directory\n",
        "! pwd"
      ],
      "execution_count": 68,
      "outputs": [
        {
          "output_type": "stream",
          "text": [
            "/content\n"
          ],
          "name": "stdout"
        }
      ]
    },
    {
      "cell_type": "code",
      "metadata": {
        "id": "l7koKOSh2ZZG",
        "colab_type": "code",
        "colab": {}
      },
      "source": [
        "#read the train and test csv files\n",
        "df_train = pd.read_csv('/content/planet/planet/train_classes.csv')\n",
        "df_test = pd.read_csv('/content/planet/planet/sample_submission.csv')"
      ],
      "execution_count": 69,
      "outputs": []
    },
    {
      "cell_type": "code",
      "metadata": {
        "id": "E0rEYYpyX0f7",
        "colab_type": "code",
        "colab": {
          "base_uri": "https://localhost:8080/",
          "height": 204
        },
        "outputId": "b1423100-4518-43d4-eec9-1d538804823c"
      },
      "source": [
        "df_test.head()"
      ],
      "execution_count": 70,
      "outputs": [
        {
          "output_type": "execute_result",
          "data": {
            "text/html": [
              "<div>\n",
              "<style scoped>\n",
              "    .dataframe tbody tr th:only-of-type {\n",
              "        vertical-align: middle;\n",
              "    }\n",
              "\n",
              "    .dataframe tbody tr th {\n",
              "        vertical-align: top;\n",
              "    }\n",
              "\n",
              "    .dataframe thead th {\n",
              "        text-align: right;\n",
              "    }\n",
              "</style>\n",
              "<table border=\"1\" class=\"dataframe\">\n",
              "  <thead>\n",
              "    <tr style=\"text-align: right;\">\n",
              "      <th></th>\n",
              "      <th>image_name</th>\n",
              "      <th>tags</th>\n",
              "    </tr>\n",
              "  </thead>\n",
              "  <tbody>\n",
              "    <tr>\n",
              "      <th>0</th>\n",
              "      <td>test_0</td>\n",
              "      <td>primary clear agriculture road water</td>\n",
              "    </tr>\n",
              "    <tr>\n",
              "      <th>1</th>\n",
              "      <td>test_1</td>\n",
              "      <td>primary clear agriculture road water</td>\n",
              "    </tr>\n",
              "    <tr>\n",
              "      <th>2</th>\n",
              "      <td>test_2</td>\n",
              "      <td>primary clear agriculture road water</td>\n",
              "    </tr>\n",
              "    <tr>\n",
              "      <th>3</th>\n",
              "      <td>test_3</td>\n",
              "      <td>primary clear agriculture road water</td>\n",
              "    </tr>\n",
              "    <tr>\n",
              "      <th>4</th>\n",
              "      <td>test_4</td>\n",
              "      <td>primary clear agriculture road water</td>\n",
              "    </tr>\n",
              "  </tbody>\n",
              "</table>\n",
              "</div>"
            ],
            "text/plain": [
              "  image_name                                  tags\n",
              "0     test_0  primary clear agriculture road water\n",
              "1     test_1  primary clear agriculture road water\n",
              "2     test_2  primary clear agriculture road water\n",
              "3     test_3  primary clear agriculture road water\n",
              "4     test_4  primary clear agriculture road water"
            ]
          },
          "metadata": {
            "tags": []
          },
          "execution_count": 70
        }
      ]
    },
    {
      "cell_type": "code",
      "metadata": {
        "id": "Tup07igp4U-p",
        "colab_type": "code",
        "colab": {
          "base_uri": "https://localhost:8080/",
          "height": 380
        },
        "outputId": "6f45ab93-56e1-483b-fcd0-59e4c6c475ad"
      },
      "source": [
        "#distribution of train labels \n",
        "labels = df_train['tags'].apply(lambda x: x.split(' '))\n",
        "from collections import Counter, defaultdict\n",
        "counts = defaultdict(int) #dictionary containing each individual label\n",
        "for l in labels:\n",
        "    for l2 in l:\n",
        "        counts[l2] += 1\n",
        "        \n",
        "        \n",
        "tag_list=list(counts.keys()) \n",
        "y=list(counts.values())\n",
        "sns.barplot(x=tag_list, y=y);\n",
        "plt.xlabel('labels');\n",
        "plt.xticks(rotation = 90);\n",
        "plt.title('Tag count for train set');"
      ],
      "execution_count": 71,
      "outputs": [
        {
          "output_type": "display_data",
          "data": {
            "image/png": "[encoded data removed]",
            "text/plain": [
              "<Figure size 432x288 with 1 Axes>"
            ]
          },
          "metadata": {
            "tags": [],
            "needs_background": "light"
          }
        }
      ]
    },
    {
      "cell_type": "code",
      "metadata": {
        "id": "JAZfIAQx58yO",
        "colab_type": "code",
        "colab": {
          "base_uri": "https://localhost:8080/",
          "height": 340
        },
        "outputId": "7a779e70-a0e1-46ad-89d9-434152432c0a"
      },
      "source": [
        "#distribution of test labels \n",
        "labels_test = df_test['tags'].apply(lambda x: x.split(' '))\n",
        "from collections import Counter, defaultdict\n",
        "counts_test = defaultdict(int)\n",
        "for l in labels_test:\n",
        "    for l2 in l:\n",
        "        counts_test[l2] += 1\n",
        "\n",
        "tag_list_test=list(counts_test.keys()) \n",
        "test_count=list(counts_test.values())\n",
        "sns.barplot(x=tag_list_test, y=test_count);\n",
        "plt.xlabel('labels');\n",
        "plt.xticks(rotation = 90);\n",
        "plt.title('Tag counts for test set');"
      ],
      "execution_count": 72,
      "outputs": [
        {
          "output_type": "display_data",
          "data": {
            "image/png": "[encoded data removed]",
            "text/plain": [
              "<Figure size 432x288 with 1 Axes>"
            ]
          },
          "metadata": {
            "tags": [],
            "needs_background": "light"
          }
        }
      ]
    },
    {
      "cell_type": "code",
      "metadata": {
        "id": "va0rJWDS6D-R",
        "colab_type": "code",
        "colab": {
          "base_uri": "https://localhost:8080/",
          "height": 306
        },
        "outputId": "1c11df7d-d57c-45fd-c337-750aa9a4c9a1"
      },
      "source": [
        "#assign numerical value to each label using dictionary\n",
        "label_map = {i:j for j, i in enumerate(tag_list)}\n",
        "label_map"
      ],
      "execution_count": 73,
      "outputs": [
        {
          "output_type": "execute_result",
          "data": {
            "text/plain": [
              "{'agriculture': 2,\n",
              " 'artisinal_mine': 13,\n",
              " 'bare_ground': 12,\n",
              " 'blooming': 14,\n",
              " 'blow_down': 16,\n",
              " 'clear': 3,\n",
              " 'cloudy': 9,\n",
              " 'conventional_mine': 11,\n",
              " 'cultivation': 7,\n",
              " 'habitation': 5,\n",
              " 'haze': 0,\n",
              " 'partly_cloudy': 10,\n",
              " 'primary': 1,\n",
              " 'road': 6,\n",
              " 'selective_logging': 15,\n",
              " 'slash_burn': 8,\n",
              " 'water': 4}"
            ]
          },
          "metadata": {
            "tags": []
          },
          "execution_count": 73
        }
      ]
    },
    {
      "cell_type": "code",
      "metadata": {
        "id": "-bVKXpRg6E_w",
        "colab_type": "code",
        "colab": {
          "base_uri": "https://localhost:8080/",
          "height": 1000
        },
        "outputId": "4ca4f329-bc66-453a-d641-e4143beb2f68"
      },
      "source": [
        "# One hot encode the training labels. Convert the images into pixels and resize them\n",
        "X_train, Y_train = [], []\n",
        "for img, label in tqdm(df_train.values, miniters = 1000):\n",
        "  target = np.zeros(17)\n",
        "  for tag in label.split(' '):\n",
        "    target[label_map[tag]]=1\n",
        "  X_train.append(cv2.resize(cv2.imread('/content/planet/planet/train-jpg/{}.jpg'.format(img)), (64,64)))\n",
        "  Y_train.append(target)"
      ],
      "execution_count": 74,
      "outputs": [
        {
          "output_type": "stream",
          "text": [
            "\n",
            "\n",
            "  0%|          | 0/40479 [00:00<?, ?it/s]\u001b[A\u001b[A\n",
            "\n",
            "  2%|▏         | 1000/40479 [00:01<00:49, 800.84it/s]\u001b[A\u001b[A\n",
            "\n",
            "  5%|▍         | 2000/40479 [00:02<00:47, 805.32it/s]\u001b[A\u001b[A\n",
            "\n",
            "  7%|▋         | 3000/40479 [00:03<00:46, 810.88it/s]\u001b[A\u001b[A\n",
            "\n",
            " 10%|▉         | 4000/40479 [00:04<00:44, 812.43it/s]\u001b[A\u001b[A\n",
            "\n",
            " 12%|█▏        | 5000/40479 [00:06<00:43, 813.50it/s]\u001b[A\u001b[A\n",
            "\n",
            " 15%|█▍        | 6000/40479 [00:07<00:42, 812.05it/s]\u001b[A\u001b[A\n",
            "\n",
            " 17%|█▋        | 7000/40479 [00:08<00:41, 815.63it/s]\u001b[A\u001b[A\n",
            "\n",
            " 20%|█▉        | 8000/40479 [00:09<00:39, 814.32it/s]\u001b[A\u001b[A\n",
            "\n",
            " 22%|██▏       | 9000/40479 [00:11<00:38, 817.30it/s]\u001b[A\u001b[A\n",
            "\n",
            " 25%|██▍       | 10000/40479 [00:12<00:37, 817.18it/s]\u001b[A\u001b[A\n",
            "\n",
            " 27%|██▋       | 11000/40479 [00:13<00:36, 815.07it/s]\u001b[A\u001b[A\n",
            "\n",
            " 30%|██▉       | 12000/40479 [00:14<00:34, 815.10it/s]\u001b[A\u001b[A\n",
            "\n",
            " 32%|███▏      | 13000/40479 [00:15<00:33, 814.28it/s]\u001b[A\u001b[A\n",
            "\n",
            " 35%|███▍      | 14000/40479 [00:17<00:32, 813.42it/s]\u001b[A\u001b[A\n",
            "\n",
            " 37%|███▋      | 15000/40479 [00:18<00:31, 810.24it/s]\u001b[A\u001b[A\n",
            "\n",
            " 40%|███▉      | 16000/40479 [00:19<00:30, 810.78it/s]\u001b[A\u001b[A\n",
            "\n",
            " 42%|████▏     | 17000/40479 [00:20<00:29, 808.30it/s]\u001b[A\u001b[A\n",
            "\n",
            " 44%|████▍     | 18000/40479 [00:22<00:27, 807.46it/s]\u001b[A\u001b[A\n",
            "\n",
            " 47%|████▋     | 19000/40479 [00:23<00:26, 808.54it/s]\u001b[A\u001b[A\n",
            "\n",
            " 49%|████▉     | 20000/40479 [00:24<00:25, 807.94it/s]\u001b[A\u001b[A\n",
            "\n",
            " 52%|█████▏    | 21000/40479 [00:25<00:24, 809.89it/s]\u001b[A\u001b[A\n",
            "\n",
            " 54%|█████▍    | 22000/40479 [00:27<00:22, 809.95it/s]\u001b[A\u001b[A\n",
            "\n",
            " 57%|█████▋    | 23000/40479 [00:28<00:21, 810.64it/s]\u001b[A\u001b[A\n",
            "\n",
            " 59%|█████▉    | 24000/40479 [00:29<00:20, 808.54it/s]\u001b[A\u001b[A\n",
            "\n",
            " 62%|██████▏   | 25000/40479 [00:30<00:19, 806.30it/s]\u001b[A\u001b[A\n",
            "\n",
            " 64%|██████▍   | 26000/40479 [00:32<00:17, 806.58it/s]\u001b[A\u001b[A\n",
            "\n",
            " 67%|██████▋   | 27000/40479 [00:33<00:16, 806.75it/s]\u001b[A\u001b[A\n",
            "\n",
            " 69%|██████▉   | 28000/40479 [00:34<00:15, 808.41it/s]\u001b[A\u001b[A\n",
            "\n",
            " 72%|███████▏  | 29000/40479 [00:35<00:14, 813.37it/s]\u001b[A\u001b[A\n",
            "\n",
            " 74%|███████▍  | 30000/40479 [00:36<00:12, 812.35it/s]\u001b[A\u001b[A\n",
            "\n",
            " 77%|███████▋  | 31000/40479 [00:38<00:11, 810.16it/s]\u001b[A\u001b[A\n",
            "\n",
            " 79%|███████▉  | 32000/40479 [00:39<00:10, 804.64it/s]\u001b[A\u001b[A\n",
            "\n",
            " 82%|████████▏ | 33000/40479 [00:40<00:09, 804.83it/s]\u001b[A\u001b[A\n",
            "\n",
            " 84%|████████▍ | 34000/40479 [00:41<00:08, 798.45it/s]\u001b[A\u001b[A\n",
            "\n",
            " 86%|████████▋ | 35000/40479 [00:43<00:06, 799.77it/s]\u001b[A\u001b[A\n",
            "\n",
            " 89%|████████▉ | 36000/40479 [00:44<00:05, 795.77it/s]\u001b[A\u001b[A\n",
            "\n",
            " 91%|█████████▏| 37000/40479 [00:45<00:04, 797.82it/s]\u001b[A\u001b[A\n",
            "\n",
            " 94%|█████████▍| 38000/40479 [00:47<00:03, 795.51it/s]\u001b[A\u001b[A\n",
            "\n",
            " 96%|█████████▋| 39000/40479 [00:48<00:01, 796.92it/s]\u001b[A\u001b[A\n",
            "\n",
            "100%|██████████| 40479/40479 [00:50<00:00, 808.14it/s]\n"
          ],
          "name": "stderr"
        }
      ]
    },
    {
      "cell_type": "code",
      "metadata": {
        "id": "SqjQoDvo6Oq_",
        "colab_type": "code",
        "colab": {
          "base_uri": "https://localhost:8080/",
          "height": 1000
        },
        "outputId": "8746a8c2-e02c-4246-a5d6-6d1b84ab686d"
      },
      "source": [
        "#convert the test images to pixels and resize them as well\n",
        "X_test=[]\n",
        "for img, label in tqdm(df_test[:40669].values, miniters = 1000):\n",
        "  X_test.append(cv2.resize(cv2.imread('/content/planet/planet/test-jpg/{}.jpg'.format(img)), (64,64)))\n",
        "for img, label in tqdm(df_test[40669:].values, miniters = 1000):\n",
        "  X_test.append(cv2.resize(cv2.imread('/content/test-jpg-additional/test-jpg-additional/{}.jpg'.format(img)), (64,64)))\n",
        "x_test = np.array(X_test, np.float16)/255"
      ],
      "execution_count": 75,
      "outputs": [
        {
          "output_type": "stream",
          "text": [
            "\n",
            "\n",
            "  0%|          | 0/40669 [00:00<?, ?it/s]\u001b[A\u001b[A\n",
            "\n",
            "  2%|▏         | 1000/40669 [00:01<00:48, 823.58it/s]\u001b[A\u001b[A\n",
            "\n",
            "  5%|▍         | 2000/40669 [00:02<00:47, 818.53it/s]\u001b[A\u001b[A\n",
            "\n",
            "  7%|▋         | 3000/40669 [00:03<00:46, 818.54it/s]\u001b[A\u001b[A\n",
            "\n",
            " 10%|▉         | 4000/40669 [00:04<00:45, 814.00it/s]\u001b[A\u001b[A\n",
            "\n",
            " 12%|█▏        | 5000/40669 [00:06<00:44, 810.23it/s]\u001b[A\u001b[A\n",
            "\n",
            " 15%|█▍        | 6000/40669 [00:07<00:42, 813.48it/s]\u001b[A\u001b[A\n",
            "\n",
            " 17%|█▋        | 7000/40669 [00:08<00:41, 813.17it/s]\u001b[A\u001b[A\n",
            "\n",
            " 20%|█▉        | 8000/40669 [00:09<00:40, 811.98it/s]\u001b[A\u001b[A\n",
            "\n",
            " 22%|██▏       | 9000/40669 [00:11<00:38, 815.22it/s]\u001b[A\u001b[A\n",
            "\n",
            " 25%|██▍       | 10000/40669 [00:12<00:37, 818.46it/s]\u001b[A\u001b[A\n",
            "\n",
            " 27%|██▋       | 11000/40669 [00:13<00:36, 814.96it/s]\u001b[A\u001b[A\n",
            "\n",
            " 30%|██▉       | 12000/40669 [00:14<00:35, 816.04it/s]\u001b[A\u001b[A\n",
            "\n",
            " 32%|███▏      | 13000/40669 [00:15<00:33, 818.31it/s]\u001b[A\u001b[A\n",
            "\n",
            " 34%|███▍      | 14000/40669 [00:17<00:32, 820.82it/s]\u001b[A\u001b[A\n",
            "\n",
            " 37%|███▋      | 15000/40669 [00:18<00:31, 822.58it/s]\u001b[A\u001b[A\n",
            "\n",
            " 39%|███▉      | 16000/40669 [00:19<00:29, 822.75it/s]\u001b[A\u001b[A\n",
            "\n",
            " 42%|████▏     | 17000/40669 [00:20<00:28, 823.77it/s]\u001b[A\u001b[A\n",
            "\n",
            " 44%|████▍     | 18000/40669 [00:22<00:27, 825.02it/s]\u001b[A\u001b[A\n",
            "\n",
            " 47%|████▋     | 19000/40669 [00:23<00:26, 823.31it/s]\u001b[A\u001b[A\n",
            "\n",
            " 49%|████▉     | 20000/40669 [00:24<00:25, 824.91it/s]\u001b[A\u001b[A\n",
            "\n",
            " 52%|█████▏    | 21000/40669 [00:25<00:23, 825.94it/s]\u001b[A\u001b[A\n",
            "\n",
            " 54%|█████▍    | 22000/40669 [00:26<00:22, 825.60it/s]\u001b[A\u001b[A\n",
            "\n",
            " 57%|█████▋    | 23000/40669 [00:28<00:21, 828.23it/s]\u001b[A\u001b[A\n",
            "\n",
            " 59%|█████▉    | 24000/40669 [00:29<00:20, 823.84it/s]\u001b[A\u001b[A\n",
            "\n",
            " 61%|██████▏   | 25000/40669 [00:30<00:19, 823.60it/s]\u001b[A\u001b[A\n",
            "\n",
            " 64%|██████▍   | 26000/40669 [00:31<00:17, 819.78it/s]\u001b[A\u001b[A\n",
            "\n",
            " 66%|██████▋   | 27000/40669 [00:32<00:16, 822.74it/s]\u001b[A\u001b[A\n",
            "\n",
            " 69%|██████▉   | 28000/40669 [00:34<00:15, 816.45it/s]\u001b[A\u001b[A\n",
            "\n",
            " 71%|███████▏  | 29000/40669 [00:35<00:14, 819.38it/s]\u001b[A\u001b[A\n",
            "\n",
            " 74%|███████▍  | 30000/40669 [00:36<00:13, 817.20it/s]\u001b[A\u001b[A\n",
            "\n",
            " 76%|███████▌  | 31000/40669 [00:37<00:11, 814.33it/s]\u001b[A\u001b[A\n",
            "\n",
            " 79%|███████▊  | 32000/40669 [00:39<00:10, 817.39it/s]\u001b[A\u001b[A\n",
            "\n",
            " 81%|████████  | 33000/40669 [00:40<00:09, 817.39it/s]\u001b[A\u001b[A\n",
            "\n",
            " 84%|████████▎ | 34000/40669 [00:41<00:08, 819.79it/s]\u001b[A\u001b[A\n",
            "\n",
            " 86%|████████▌ | 35000/40669 [00:42<00:06, 815.48it/s]\u001b[A\u001b[A\n",
            "\n",
            " 89%|████████▊ | 36000/40669 [00:43<00:05, 813.88it/s]\u001b[A\u001b[A\n",
            "\n",
            " 91%|█████████ | 37000/40669 [00:45<00:04, 815.43it/s]\u001b[A\u001b[A\n",
            "\n",
            " 93%|█████████▎| 38000/40669 [00:46<00:03, 815.85it/s]\u001b[A\u001b[A\n",
            "\n",
            " 96%|█████████▌| 39000/40669 [00:47<00:02, 812.46it/s]\u001b[A\u001b[A\n",
            "\n",
            "100%|██████████| 40669/40669 [00:49<00:00, 817.84it/s]\n",
            "\n",
            "\n",
            "  0%|          | 0/20522 [00:00<?, ?it/s]\u001b[A\u001b[A\n",
            "\n",
            "  5%|▍         | 1000/20522 [00:01<00:23, 829.26it/s]\u001b[A\u001b[A\n",
            "\n",
            " 10%|▉         | 2000/20522 [00:02<00:22, 824.94it/s]\u001b[A\u001b[A\n",
            "\n",
            " 15%|█▍        | 3000/20522 [00:03<00:21, 823.50it/s]\u001b[A\u001b[A\n",
            "\n",
            " 19%|█▉        | 4000/20522 [00:04<00:20, 821.36it/s]\u001b[A\u001b[A\n",
            "\n",
            " 24%|██▍       | 5000/20522 [00:06<00:18, 820.06it/s]\u001b[A\u001b[A\n",
            "\n",
            " 29%|██▉       | 6000/20522 [00:07<00:17, 817.99it/s]\u001b[A\u001b[A\n",
            "\n",
            " 34%|███▍      | 7000/20522 [00:08<00:16, 818.00it/s]\u001b[A\u001b[A\n",
            "\n",
            " 39%|███▉      | 8000/20522 [00:09<00:15, 815.79it/s]\u001b[A\u001b[A\n",
            "\n",
            " 44%|████▍     | 9000/20522 [00:11<00:14, 813.36it/s]\u001b[A\u001b[A\n",
            "\n",
            " 49%|████▊     | 10000/20522 [00:12<00:12, 814.86it/s]\u001b[A\u001b[A\n",
            "\n",
            " 54%|█████▎    | 11000/20522 [00:13<00:11, 814.53it/s]\u001b[A\u001b[A\n",
            "\n",
            " 58%|█████▊    | 12000/20522 [00:14<00:10, 809.00it/s]\u001b[A\u001b[A\n",
            "\n",
            " 63%|██████▎   | 13000/20522 [00:15<00:09, 807.72it/s]\u001b[A\u001b[A\n",
            "\n",
            " 68%|██████▊   | 14000/20522 [00:17<00:08, 811.63it/s]\u001b[A\u001b[A\n",
            "\n",
            " 73%|███████▎  | 15000/20522 [00:18<00:06, 811.74it/s]\u001b[A\u001b[A\n",
            "\n",
            " 78%|███████▊  | 16000/20522 [00:19<00:05, 813.15it/s]\u001b[A\u001b[A\n",
            "\n",
            " 83%|████████▎ | 17000/20522 [00:20<00:04, 811.03it/s]\u001b[A\u001b[A\n",
            "\n",
            " 88%|████████▊ | 18000/20522 [00:22<00:03, 810.55it/s]\u001b[A\u001b[A\n",
            "\n",
            " 93%|█████████▎| 19000/20522 [00:23<00:01, 806.51it/s]\u001b[A\u001b[A\n",
            "\n",
            "100%|██████████| 20522/20522 [00:25<00:00, 811.74it/s]\n"
          ],
          "name": "stderr"
        }
      ]
    },
    {
      "cell_type": "code",
      "metadata": {
        "id": "jUlX6nDqAOqY",
        "colab_type": "code",
        "colab": {
          "base_uri": "https://localhost:8080/",
          "height": 34
        },
        "outputId": "ad9d3a24-a7a8-47de-da27-933453f70cd6"
      },
      "source": [
        "#Confirm the dimensions\n",
        "len(X_test), len(X_train), len(Y_train)"
      ],
      "execution_count": 76,
      "outputs": [
        {
          "output_type": "execute_result",
          "data": {
            "text/plain": [
              "(61191, 40479, 40479)"
            ]
          },
          "metadata": {
            "tags": []
          },
          "execution_count": 76
        }
      ]
    },
    {
      "cell_type": "code",
      "metadata": {
        "id": "emxwTLWAAUpA",
        "colab_type": "code",
        "colab": {
          "base_uri": "https://localhost:8080/",
          "height": 34
        },
        "outputId": "dea0ce2b-2026-4a8c-faa9-4753fa4a8c04"
      },
      "source": [
        "import sys\n",
        "sys.getsizeof(X_train)"
      ],
      "execution_count": 77,
      "outputs": [
        {
          "output_type": "execute_result",
          "data": {
            "text/plain": [
              "361288"
            ]
          },
          "metadata": {
            "tags": []
          },
          "execution_count": 77
        }
      ]
    },
    {
      "cell_type": "code",
      "metadata": {
        "id": "XAR5nJn8dVsj",
        "colab_type": "code",
        "colab": {
          "base_uri": "https://localhost:8080/",
          "height": 34
        },
        "outputId": "d60e695c-617c-4c4d-a3f3-a5406b958518"
      },
      "source": [
        "#import and initialise Garbage Collector\n",
        "import gc\n",
        "gc.collect()"
      ],
      "execution_count": 78,
      "outputs": [
        {
          "output_type": "execute_result",
          "data": {
            "text/plain": [
              "3353"
            ]
          },
          "metadata": {
            "tags": []
          },
          "execution_count": 78
        }
      ]
    },
    {
      "cell_type": "code",
      "metadata": {
        "id": "FhQPqf_4AcGf",
        "colab_type": "code",
        "colab": {
          "base_uri": "https://localhost:8080/",
          "height": 34
        },
        "outputId": "83822a0f-39e7-4d06-a5e4-581ea12dd08d"
      },
      "source": [
        "#Change lists to numpy arrays and normalize\n",
        "x_train = np.array(X_train, np.float16)/255\n",
        "y_train = np.array(Y_train, np.uint8)\n",
        "\n",
        "x_train, x_val, y_train, y_val = train_test_split(x_train, y_train, test_size = 0.2, shuffle = True, random_state = 1)\n",
        "\n",
        "print(x_train.shape, y_train.shape, x_val.shape, y_val.shape)"
      ],
      "execution_count": 79,
      "outputs": [
        {
          "output_type": "stream",
          "text": [
            "(32383, 64, 64, 3) (32383, 17) (8096, 64, 64, 3) (8096, 17)\n"
          ],
          "name": "stdout"
        }
      ]
    },
    {
      "cell_type": "code",
      "metadata": {
        "id": "RwK9nOnXC-Cr",
        "colab_type": "code",
        "colab": {}
      },
      "source": [
        "#delete X_test, X_train, Y_train to free up space\n",
        "del(X_test, X_train, Y_train)"
      ],
      "execution_count": 80,
      "outputs": []
    },
    {
      "cell_type": "code",
      "metadata": {
        "id": "X_x-4bxgC_gF",
        "colab_type": "code",
        "colab": {}
      },
      "source": [
        "#Split the data into 5 folds and train on 4 folds while validating on 1 fold\n",
        "\n",
        "yfull_test = []\n",
        "yfull_train = []\n",
        "X_train_, X_val_, Y_train_, Y_val_ = train_test_split(x_train, y_train, test_size = 0.2, random_state = 1)"
      ],
      "execution_count": 81,
      "outputs": []
    },
    {
      "cell_type": "code",
      "metadata": {
        "id": "Np7cmVF8604f",
        "colab_type": "code",
        "colab": {
          "base_uri": "https://localhost:8080/",
          "height": 34
        },
        "outputId": "ed542af7-9b32-4f76-d6c9-9ffcc34e2b9b"
      },
      "source": [
        "#import and initialise Garbage Collector\n",
        "import gc\n",
        "gc.collect()"
      ],
      "execution_count": 82,
      "outputs": [
        {
          "output_type": "execute_result",
          "data": {
            "text/plain": [
              "0"
            ]
          },
          "metadata": {
            "tags": []
          },
          "execution_count": 82
        }
      ]
    },
    {
      "cell_type": "code",
      "metadata": {
        "id": "8VBWgcfhDDyy",
        "colab_type": "code",
        "colab": {}
      },
      "source": [
        "#Build a five layer CNN model\n",
        "\n",
        "kfold_weights_path = os.path.join('', 'weights_kfold_' + '.h5')\n",
        "model = Sequential()\n",
        "model.add(BatchNormalization(input_shape=(64, 64,3)))\n",
        "model.add(Conv2D(32, kernel_size=(3, 3),padding='same', activation='relu'))\n",
        "model.add(Conv2D(32, (3, 3), activation='relu'))\n",
        "model.add(MaxPooling2D(pool_size=(2, 2)))\n",
        "model.add(Dropout(0.25))\n",
        "\n",
        "model.add(Conv2D(64, kernel_size=(3, 3),padding='same', activation='relu'))\n",
        "model.add(Conv2D(64, (3, 3), activation='relu'))\n",
        "model.add(MaxPooling2D(pool_size=(2, 2)))\n",
        "model.add(Dropout(0.25))\n",
        "        \n",
        "model.add(Conv2D(128, kernel_size=(3, 3),padding='same', activation='relu'))\n",
        "model.add(Conv2D(128, (3, 3), activation='relu'))\n",
        "model.add(MaxPooling2D(pool_size=(2, 2)))\n",
        "model.add(Dropout(0.25))\n",
        "        \n",
        "model.add(Conv2D(256, kernel_size=(3, 3),padding='same', activation='relu'))\n",
        "model.add(Conv2D(256, (3, 3), activation='relu'))\n",
        "model.add(MaxPooling2D(pool_size=(2, 2)))\n",
        "model.add(Dropout(0.25))\n",
        "        \n",
        "model.add(Flatten())\n",
        "model.add(Dense(512, activation='relu'))\n",
        "model.add(BatchNormalization())\n",
        "model.add(Dropout(0.5))\n",
        "model.add(Dense(17, activation='sigmoid'))\n",
        "\n"
      ],
      "execution_count": 83,
      "outputs": []
    },
    {
      "cell_type": "code",
      "metadata": {
        "id": "aNoa_7g_1aWf",
        "colab_type": "code",
        "colab": {
          "base_uri": "https://localhost:8080/",
          "height": 34
        },
        "outputId": "771392ae-6fa7-4867-ed97-65e4b5068ede"
      },
      "source": [
        "#import and initialise Garbage Collector\n",
        "import gc\n",
        "gc.collect()"
      ],
      "execution_count": 96,
      "outputs": [
        {
          "output_type": "execute_result",
          "data": {
            "text/plain": [
              "3848"
            ]
          },
          "metadata": {
            "tags": []
          },
          "execution_count": 96
        }
      ]
    },
    {
      "cell_type": "code",
      "metadata": {
        "id": "5y8SkPkW0dcW",
        "colab_type": "code",
        "colab": {
          "base_uri": "https://localhost:8080/",
          "height": 309
        },
        "outputId": "c2effc4d-a27c-4290-f02b-d844a0396efa"
      },
      "source": [
        "#Try a combination of epoch lengths and learning rates\n",
        "epochs = 18\n",
        "learn_rate = 0.0001\n",
        "opt  = optimizers.Adam(lr=learn_rate)\n",
        "model.compile(loss='binary_crossentropy',optimizer=opt,metrics=['accuracy'])\n",
        "callbacks = [EarlyStopping(monitor='val_loss', patience=2, verbose=0)]\n",
        "\n",
        "\n",
        "model.fit(x = X_train_, y= Y_train_, validation_data=(X_val_, Y_val_),batch_size=128,verbose=2, epochs=epochs,callbacks=callbacks,shuffle=True)\n",
        "\n",
        "p_val = model.predict(X_val_, batch_size = 32, verbose=2)\n",
        "print(fbeta_score(Y_val_, np.array(p_val) > 0.2, beta=2, average='samples')) #Check the model performance on the validation set\n",
        "\n",
        "p_train = model.predict(x_train, batch_size =128, verbose=2) #save the training predictions\n",
        "yfull_train.append(p_train)\n",
        "        \n",
        "p_test = model.predict(x_test, batch_size = 128, verbose=2) #save the test predictions\n",
        "yfull_test.append(p_test)"
      ],
      "execution_count": 97,
      "outputs": [
        {
          "output_type": "stream",
          "text": [
            "Epoch 1/18\n",
            "203/203 - 10s - loss: 0.0988 - accuracy: 0.6999 - val_loss: 0.1138 - val_accuracy: 0.7431\n",
            "Epoch 2/18\n",
            "203/203 - 9s - loss: 0.0980 - accuracy: 0.6947 - val_loss: 0.1122 - val_accuracy: 0.6776\n",
            "Epoch 3/18\n",
            "203/203 - 9s - loss: 0.0968 - accuracy: 0.6877 - val_loss: 0.1118 - val_accuracy: 0.7013\n",
            "Epoch 4/18\n",
            "203/203 - 9s - loss: 0.0954 - accuracy: 0.6899 - val_loss: 0.1121 - val_accuracy: 0.7213\n",
            "Epoch 5/18\n",
            "203/203 - 9s - loss: 0.0940 - accuracy: 0.6828 - val_loss: 0.1128 - val_accuracy: 0.6915\n",
            "203/203 - 1s\n",
            "0.9051631183118211\n",
            "WARNING:tensorflow:Callbacks method `on_predict_batch_end` is slow compared to the batch time (batch time: 0.0060s vs `on_predict_batch_end` time: 0.0106s). Check your callbacks.\n",
            "253/253 - 3s\n",
            "WARNING:tensorflow:Callbacks method `on_predict_batch_end` is slow compared to the batch time (batch time: 0.0042s vs `on_predict_batch_end` time: 0.0111s). Check your callbacks.\n",
            "479/479 - 6s\n"
          ],
          "name": "stdout"
        }
      ]
    },
    {
      "cell_type": "code",
      "metadata": {
        "id": "1o5LORnjVtXE",
        "colab_type": "code",
        "colab": {
          "base_uri": "https://localhost:8080/",
          "height": 34
        },
        "outputId": "359853b2-0e7e-449b-f35e-ade6b0fada85"
      },
      "source": [
        "#import and initialise Garbage Collector\n",
        "import gc\n",
        "gc.collect()"
      ],
      "execution_count": 98,
      "outputs": [
        {
          "output_type": "execute_result",
          "data": {
            "text/plain": [
              "3130"
            ]
          },
          "metadata": {
            "tags": []
          },
          "execution_count": 98
        }
      ]
    },
    {
      "cell_type": "code",
      "metadata": {
        "id": "F4MGaGb5DJsT",
        "colab_type": "code",
        "colab": {
          "base_uri": "https://localhost:8080/",
          "height": 238
        },
        "outputId": "cde7e72e-54d4-406c-d96c-d8f580da16f3"
      },
      "source": [
        "#make predictions\n",
        "predictions = model.predict(x_test, batch_size = 32)\n",
        "predictions"
      ],
      "execution_count": 99,
      "outputs": [
        {
          "output_type": "execute_result",
          "data": {
            "text/plain": [
              "array([[2.3544680e-03, 9.9963808e-01, 4.1169049e-03, ..., 3.5079876e-03,\n",
              "        3.6458764e-04, 2.3640187e-04],\n",
              "       [6.5702654e-04, 9.9947661e-01, 5.1736841e-03, ..., 1.2424684e-01,\n",
              "        7.2152643e-03, 6.7639849e-03],\n",
              "       [2.6289737e-05, 9.9995971e-01, 7.0868325e-03, ..., 1.6698315e-04,\n",
              "        5.4632867e-05, 9.5601616e-05],\n",
              "       ...,\n",
              "       [1.2255926e-03, 9.9911076e-01, 3.3118486e-02, ..., 1.5773779e-02,\n",
              "        9.5086880e-03, 1.5332367e-03],\n",
              "       [3.1248603e-02, 2.7745767e-02, 2.2749591e-03, ..., 1.8118005e-04,\n",
              "        1.1896571e-04, 3.5420711e-05],\n",
              "       [8.7403553e-03, 8.7809467e-01, 2.3654285e-01, ..., 2.3363877e-05,\n",
              "        4.4356397e-04, 2.4852256e-05]], dtype=float32)"
            ]
          },
          "metadata": {
            "tags": []
          },
          "execution_count": 99
        }
      ]
    },
    {
      "cell_type": "code",
      "metadata": {
        "id": "5SEAPkgHDOOr",
        "colab_type": "code",
        "colab": {
          "base_uri": "https://localhost:8080/",
          "height": 439
        },
        "outputId": "2a12ea9c-c499-4e67-b37c-51112a4d647f"
      },
      "source": [
        "#predictions dataframe\n",
        "pred = pd.DataFrame(predictions, columns =  tag_list)\n",
        "pred"
      ],
      "execution_count": 100,
      "outputs": [
        {
          "output_type": "execute_result",
          "data": {
            "text/html": [
              "<div>\n",
              "<style scoped>\n",
              "    .dataframe tbody tr th:only-of-type {\n",
              "        vertical-align: middle;\n",
              "    }\n",
              "\n",
              "    .dataframe tbody tr th {\n",
              "        vertical-align: top;\n",
              "    }\n",
              "\n",
              "    .dataframe thead th {\n",
              "        text-align: right;\n",
              "    }\n",
              "</style>\n",
              "<table border=\"1\" class=\"dataframe\">\n",
              "  <thead>\n",
              "    <tr style=\"text-align: right;\">\n",
              "      <th></th>\n",
              "      <th>haze</th>\n",
              "      <th>primary</th>\n",
              "      <th>agriculture</th>\n",
              "      <th>clear</th>\n",
              "      <th>water</th>\n",
              "      <th>habitation</th>\n",
              "      <th>road</th>\n",
              "      <th>cultivation</th>\n",
              "      <th>slash_burn</th>\n",
              "      <th>cloudy</th>\n",
              "      <th>partly_cloudy</th>\n",
              "      <th>conventional_mine</th>\n",
              "      <th>bare_ground</th>\n",
              "      <th>artisinal_mine</th>\n",
              "      <th>blooming</th>\n",
              "      <th>selective_logging</th>\n",
              "      <th>blow_down</th>\n",
              "    </tr>\n",
              "  </thead>\n",
              "  <tbody>\n",
              "    <tr>\n",
              "      <th>0</th>\n",
              "      <td>0.002354</td>\n",
              "      <td>0.999638</td>\n",
              "      <td>0.004117</td>\n",
              "      <td>0.997349</td>\n",
              "      <td>0.005112</td>\n",
              "      <td>0.001211</td>\n",
              "      <td>0.001864</td>\n",
              "      <td>0.002139</td>\n",
              "      <td>0.000080</td>\n",
              "      <td>0.000110</td>\n",
              "      <td>0.000512</td>\n",
              "      <td>0.000020</td>\n",
              "      <td>0.000520</td>\n",
              "      <td>0.000054</td>\n",
              "      <td>0.003508</td>\n",
              "      <td>0.000365</td>\n",
              "      <td>0.000236</td>\n",
              "    </tr>\n",
              "    <tr>\n",
              "      <th>1</th>\n",
              "      <td>0.000657</td>\n",
              "      <td>0.999477</td>\n",
              "      <td>0.005174</td>\n",
              "      <td>0.997903</td>\n",
              "      <td>0.002369</td>\n",
              "      <td>0.002097</td>\n",
              "      <td>0.002397</td>\n",
              "      <td>0.005731</td>\n",
              "      <td>0.000649</td>\n",
              "      <td>0.000395</td>\n",
              "      <td>0.001519</td>\n",
              "      <td>0.000086</td>\n",
              "      <td>0.001080</td>\n",
              "      <td>0.000194</td>\n",
              "      <td>0.124247</td>\n",
              "      <td>0.007215</td>\n",
              "      <td>0.006764</td>\n",
              "    </tr>\n",
              "    <tr>\n",
              "      <th>2</th>\n",
              "      <td>0.000026</td>\n",
              "      <td>0.999960</td>\n",
              "      <td>0.007087</td>\n",
              "      <td>0.000305</td>\n",
              "      <td>0.033936</td>\n",
              "      <td>0.000437</td>\n",
              "      <td>0.001868</td>\n",
              "      <td>0.005240</td>\n",
              "      <td>0.000231</td>\n",
              "      <td>0.000024</td>\n",
              "      <td>0.999912</td>\n",
              "      <td>0.000018</td>\n",
              "      <td>0.000210</td>\n",
              "      <td>0.000015</td>\n",
              "      <td>0.000167</td>\n",
              "      <td>0.000055</td>\n",
              "      <td>0.000096</td>\n",
              "    </tr>\n",
              "    <tr>\n",
              "      <th>3</th>\n",
              "      <td>0.004957</td>\n",
              "      <td>0.998808</td>\n",
              "      <td>0.075113</td>\n",
              "      <td>0.977995</td>\n",
              "      <td>0.013469</td>\n",
              "      <td>0.004471</td>\n",
              "      <td>0.006910</td>\n",
              "      <td>0.052292</td>\n",
              "      <td>0.001992</td>\n",
              "      <td>0.000980</td>\n",
              "      <td>0.018505</td>\n",
              "      <td>0.000197</td>\n",
              "      <td>0.002794</td>\n",
              "      <td>0.000506</td>\n",
              "      <td>0.019683</td>\n",
              "      <td>0.004129</td>\n",
              "      <td>0.004331</td>\n",
              "    </tr>\n",
              "    <tr>\n",
              "      <th>4</th>\n",
              "      <td>0.001031</td>\n",
              "      <td>0.224006</td>\n",
              "      <td>0.006555</td>\n",
              "      <td>0.001211</td>\n",
              "      <td>0.066421</td>\n",
              "      <td>0.000717</td>\n",
              "      <td>0.005719</td>\n",
              "      <td>0.001203</td>\n",
              "      <td>0.000073</td>\n",
              "      <td>0.759484</td>\n",
              "      <td>0.397795</td>\n",
              "      <td>0.000033</td>\n",
              "      <td>0.000439</td>\n",
              "      <td>0.000088</td>\n",
              "      <td>0.000178</td>\n",
              "      <td>0.000132</td>\n",
              "      <td>0.000062</td>\n",
              "    </tr>\n",
              "    <tr>\n",
              "      <th>...</th>\n",
              "      <td>...</td>\n",
              "      <td>...</td>\n",
              "      <td>...</td>\n",
              "      <td>...</td>\n",
              "      <td>...</td>\n",
              "      <td>...</td>\n",
              "      <td>...</td>\n",
              "      <td>...</td>\n",
              "      <td>...</td>\n",
              "      <td>...</td>\n",
              "      <td>...</td>\n",
              "      <td>...</td>\n",
              "      <td>...</td>\n",
              "      <td>...</td>\n",
              "      <td>...</td>\n",
              "      <td>...</td>\n",
              "      <td>...</td>\n",
              "    </tr>\n",
              "    <tr>\n",
              "      <th>61186</th>\n",
              "      <td>0.002055</td>\n",
              "      <td>0.002915</td>\n",
              "      <td>0.001061</td>\n",
              "      <td>0.001213</td>\n",
              "      <td>0.002144</td>\n",
              "      <td>0.000912</td>\n",
              "      <td>0.002152</td>\n",
              "      <td>0.000277</td>\n",
              "      <td>0.000033</td>\n",
              "      <td>0.997903</td>\n",
              "      <td>0.001974</td>\n",
              "      <td>0.000019</td>\n",
              "      <td>0.000427</td>\n",
              "      <td>0.000041</td>\n",
              "      <td>0.000176</td>\n",
              "      <td>0.000101</td>\n",
              "      <td>0.000020</td>\n",
              "    </tr>\n",
              "    <tr>\n",
              "      <th>61187</th>\n",
              "      <td>0.001498</td>\n",
              "      <td>0.996762</td>\n",
              "      <td>0.140052</td>\n",
              "      <td>0.998443</td>\n",
              "      <td>0.953076</td>\n",
              "      <td>0.012883</td>\n",
              "      <td>0.038244</td>\n",
              "      <td>0.032447</td>\n",
              "      <td>0.000586</td>\n",
              "      <td>0.000271</td>\n",
              "      <td>0.000648</td>\n",
              "      <td>0.000164</td>\n",
              "      <td>0.008092</td>\n",
              "      <td>0.001448</td>\n",
              "      <td>0.000996</td>\n",
              "      <td>0.001769</td>\n",
              "      <td>0.000286</td>\n",
              "    </tr>\n",
              "    <tr>\n",
              "      <th>61188</th>\n",
              "      <td>0.001226</td>\n",
              "      <td>0.999111</td>\n",
              "      <td>0.033118</td>\n",
              "      <td>0.999086</td>\n",
              "      <td>0.108666</td>\n",
              "      <td>0.005581</td>\n",
              "      <td>0.048934</td>\n",
              "      <td>0.010362</td>\n",
              "      <td>0.000365</td>\n",
              "      <td>0.000265</td>\n",
              "      <td>0.000493</td>\n",
              "      <td>0.000159</td>\n",
              "      <td>0.001946</td>\n",
              "      <td>0.000378</td>\n",
              "      <td>0.015774</td>\n",
              "      <td>0.009509</td>\n",
              "      <td>0.001533</td>\n",
              "    </tr>\n",
              "    <tr>\n",
              "      <th>61189</th>\n",
              "      <td>0.031249</td>\n",
              "      <td>0.027746</td>\n",
              "      <td>0.002275</td>\n",
              "      <td>0.008587</td>\n",
              "      <td>0.012183</td>\n",
              "      <td>0.000768</td>\n",
              "      <td>0.002036</td>\n",
              "      <td>0.000979</td>\n",
              "      <td>0.000052</td>\n",
              "      <td>0.973231</td>\n",
              "      <td>0.000570</td>\n",
              "      <td>0.000031</td>\n",
              "      <td>0.000392</td>\n",
              "      <td>0.000067</td>\n",
              "      <td>0.000181</td>\n",
              "      <td>0.000119</td>\n",
              "      <td>0.000035</td>\n",
              "    </tr>\n",
              "    <tr>\n",
              "      <th>61190</th>\n",
              "      <td>0.008740</td>\n",
              "      <td>0.878095</td>\n",
              "      <td>0.236543</td>\n",
              "      <td>0.951868</td>\n",
              "      <td>0.121360</td>\n",
              "      <td>0.997172</td>\n",
              "      <td>0.995634</td>\n",
              "      <td>0.005707</td>\n",
              "      <td>0.000112</td>\n",
              "      <td>0.000199</td>\n",
              "      <td>0.014815</td>\n",
              "      <td>0.000271</td>\n",
              "      <td>0.011987</td>\n",
              "      <td>0.000182</td>\n",
              "      <td>0.000023</td>\n",
              "      <td>0.000444</td>\n",
              "      <td>0.000025</td>\n",
              "    </tr>\n",
              "  </tbody>\n",
              "</table>\n",
              "<p>61191 rows × 17 columns</p>\n",
              "</div>"
            ],
            "text/plain": [
              "           haze   primary  agriculture  ...  blooming  selective_logging  blow_down\n",
              "0      0.002354  0.999638     0.004117  ...  0.003508           0.000365   0.000236\n",
              "1      0.000657  0.999477     0.005174  ...  0.124247           0.007215   0.006764\n",
              "2      0.000026  0.999960     0.007087  ...  0.000167           0.000055   0.000096\n",
              "3      0.004957  0.998808     0.075113  ...  0.019683           0.004129   0.004331\n",
              "4      0.001031  0.224006     0.006555  ...  0.000178           0.000132   0.000062\n",
              "...         ...       ...          ...  ...       ...                ...        ...\n",
              "61186  0.002055  0.002915     0.001061  ...  0.000176           0.000101   0.000020\n",
              "61187  0.001498  0.996762     0.140052  ...  0.000996           0.001769   0.000286\n",
              "61188  0.001226  0.999111     0.033118  ...  0.015774           0.009509   0.001533\n",
              "61189  0.031249  0.027746     0.002275  ...  0.000181           0.000119   0.000035\n",
              "61190  0.008740  0.878095     0.236543  ...  0.000023           0.000444   0.000025\n",
              "\n",
              "[61191 rows x 17 columns]"
            ]
          },
          "metadata": {
            "tags": []
          },
          "execution_count": 100
        }
      ]
    },
    {
      "cell_type": "code",
      "metadata": {
        "id": "MsqOMDkb7C64",
        "colab_type": "code",
        "colab": {
          "base_uri": "https://localhost:8080/",
          "height": 1000
        },
        "outputId": "7ced4304-d230-4a9c-c123-7d3ca21f659d"
      },
      "source": [
        "#Write a loop to assign each value to its predicted label\n",
        "preds = []\n",
        "for i in tqdm(range(pred.shape[0]), miniters=1000):\n",
        "    a = pred.iloc[[i]]\n",
        "    a = a.apply(lambda x: x > 0.2, axis=1)\n",
        "    a = a.transpose()\n",
        "    a = a.loc[a[i] == True]\n",
        "    ' '.join(list(a.index))\n",
        "    preds.append(' '.join(list(a.index)))"
      ],
      "execution_count": 102,
      "outputs": [
        {
          "output_type": "stream",
          "text": [
            "\n",
            "\n",
            "  0%|          | 0/61191 [00:00<?, ?it/s]\u001b[A\u001b[A\n",
            "\n",
            "  2%|▏         | 1000/61191 [00:02<02:46, 361.47it/s]\u001b[A\u001b[A\n",
            "\n",
            "  3%|▎         | 2000/61191 [00:05<02:42, 364.45it/s]\u001b[A\u001b[A\n",
            "\n",
            "  5%|▍         | 3000/61191 [00:08<02:36, 372.55it/s]\u001b[A\u001b[A\n",
            "\n",
            "  7%|▋         | 4000/61191 [00:10<02:31, 377.63it/s]\u001b[A\u001b[A\n",
            "\n",
            "  8%|▊         | 5000/61191 [00:13<02:31, 370.90it/s]\u001b[A\u001b[A\n",
            "\n",
            " 10%|▉         | 6000/61191 [00:16<02:27, 373.29it/s]\u001b[A\u001b[A\n",
            "\n",
            " 11%|█▏        | 7000/61191 [00:18<02:29, 362.27it/s]\u001b[A\u001b[A\n",
            "\n",
            " 13%|█▎        | 8000/61191 [00:21<02:29, 355.15it/s]\u001b[A\u001b[A\n",
            "\n",
            " 15%|█▍        | 9000/61191 [00:24<02:23, 363.10it/s]\u001b[A\u001b[A\n",
            "\n",
            " 16%|█▋        | 10000/61191 [00:27<02:18, 369.67it/s]\u001b[A\u001b[A\n",
            "\n",
            " 18%|█▊        | 11000/61191 [00:30<02:18, 362.08it/s]\u001b[A\u001b[A\n",
            "\n",
            " 20%|█▉        | 12000/61191 [00:32<02:12, 371.73it/s]\u001b[A\u001b[A\n",
            "\n",
            " 21%|██        | 13000/61191 [00:35<02:07, 377.90it/s]\u001b[A\u001b[A\n",
            "\n",
            " 23%|██▎       | 14000/61191 [00:37<02:08, 366.60it/s]\u001b[A\u001b[A\n",
            "\n",
            " 25%|██▍       | 15000/61191 [00:40<02:05, 366.79it/s]\u001b[A\u001b[A\n",
            "\n",
            " 26%|██▌       | 16000/61191 [00:43<02:00, 374.09it/s]\u001b[A\u001b[A\n",
            "\n",
            " 28%|██▊       | 17000/61191 [00:45<01:56, 377.91it/s]\u001b[A\u001b[A\n",
            "\n",
            " 29%|██▉       | 18000/61191 [00:48<01:52, 382.36it/s]\u001b[A\u001b[A\n",
            "\n",
            " 31%|███       | 19000/61191 [00:51<01:50, 380.63it/s]\u001b[A\u001b[A\n",
            "\n",
            " 33%|███▎      | 20000/61191 [00:53<01:51, 369.69it/s]\u001b[A\u001b[A\n",
            "\n",
            " 34%|███▍      | 21000/61191 [00:56<01:50, 364.99it/s]\u001b[A\u001b[A\n",
            "\n",
            " 36%|███▌      | 22000/61191 [00:59<01:45, 372.88it/s]\u001b[A\u001b[A\n",
            "\n",
            " 38%|███▊      | 23000/61191 [01:01<01:42, 372.36it/s]\u001b[A\u001b[A\n",
            "\n",
            " 39%|███▉      | 24000/61191 [01:04<01:42, 363.93it/s]\u001b[A\u001b[A\n",
            "\n",
            " 41%|████      | 25000/61191 [01:07<01:41, 356.66it/s]\u001b[A\u001b[A\n",
            "\n",
            " 42%|████▏     | 26000/61191 [01:10<01:38, 357.21it/s]\u001b[A\u001b[A\n",
            "\n",
            " 44%|████▍     | 27000/61191 [01:13<01:35, 356.19it/s]\u001b[A\u001b[A\n",
            "\n",
            " 46%|████▌     | 28000/61191 [01:15<01:30, 366.12it/s]\u001b[A\u001b[A\n",
            "\n",
            " 47%|████▋     | 29000/61191 [01:18<01:26, 371.39it/s]\u001b[A\u001b[A\n",
            "\n",
            " 49%|████▉     | 30000/61191 [01:21<01:25, 364.55it/s]\u001b[A\u001b[A\n",
            "\n",
            " 51%|█████     | 31000/61191 [01:24<01:23, 360.75it/s]\u001b[A\u001b[A\n",
            "\n",
            " 52%|█████▏    | 32000/61191 [01:26<01:19, 365.19it/s]\u001b[A\u001b[A\n",
            "\n",
            " 54%|█████▍    | 33000/61191 [01:29<01:18, 360.38it/s]\u001b[A\u001b[A\n",
            "\n",
            " 56%|█████▌    | 34000/61191 [01:32<01:16, 355.43it/s]\u001b[A\u001b[A\n",
            "\n",
            " 57%|█████▋    | 35000/61191 [01:35<01:14, 351.23it/s]\u001b[A\u001b[A\n",
            "\n",
            " 59%|█████▉    | 36000/61191 [01:38<01:12, 348.49it/s]\u001b[A\u001b[A\n",
            "\n",
            " 60%|██████    | 37000/61191 [01:41<01:09, 346.53it/s]\u001b[A\u001b[A\n",
            "\n",
            " 62%|██████▏   | 38000/61191 [01:44<01:06, 346.65it/s]\u001b[A\u001b[A\n",
            "\n",
            " 64%|██████▎   | 39000/61191 [01:47<01:03, 348.85it/s]\u001b[A\u001b[A\n",
            "\n",
            " 65%|██████▌   | 40000/61191 [01:49<00:58, 360.60it/s]\u001b[A\u001b[A\n",
            "\n",
            " 67%|██████▋   | 41000/61191 [01:52<00:55, 367.05it/s]\u001b[A\u001b[A\n",
            "\n",
            " 69%|██████▊   | 42000/61191 [01:55<00:53, 361.63it/s]\u001b[A\u001b[A\n",
            "\n",
            " 70%|███████   | 43000/61191 [01:57<00:50, 362.95it/s]\u001b[A\u001b[A\n",
            "\n",
            " 72%|███████▏  | 44000/61191 [02:00<00:46, 370.31it/s]\u001b[A\u001b[A\n",
            "\n",
            " 74%|███████▎  | 45000/61191 [02:03<00:44, 362.83it/s]\u001b[A\u001b[A\n",
            "\n",
            " 75%|███████▌  | 46000/61191 [02:06<00:42, 358.22it/s]\u001b[A\u001b[A\n",
            "\n",
            " 77%|███████▋  | 47000/61191 [02:08<00:38, 364.89it/s]\u001b[A\u001b[A\n",
            "\n",
            " 78%|███████▊  | 48000/61191 [02:11<00:36, 361.17it/s]\u001b[A\u001b[A\n",
            "\n",
            " 80%|████████  | 49000/61191 [02:14<00:33, 368.54it/s]\u001b[A\u001b[A\n",
            "\n",
            " 82%|████████▏ | 50000/61191 [02:17<00:30, 362.28it/s]\u001b[A\u001b[A\n",
            "\n",
            " 83%|████████▎ | 51000/61191 [02:20<00:28, 359.30it/s]\u001b[A\u001b[A\n",
            "\n",
            " 85%|████████▍ | 52000/61191 [02:22<00:25, 355.94it/s]\u001b[A\u001b[A\n",
            "\n",
            " 87%|████████▋ | 53000/61191 [02:25<00:23, 355.12it/s]\u001b[A\u001b[A\n",
            "\n",
            " 88%|████████▊ | 54000/61191 [02:28<00:19, 361.85it/s]\u001b[A\u001b[A\n",
            "\n",
            " 90%|████████▉ | 55000/61191 [02:30<00:16, 369.47it/s]\u001b[A\u001b[A\n",
            "\n",
            " 92%|█████████▏| 56000/61191 [02:33<00:13, 372.48it/s]\u001b[A\u001b[A\n",
            "\n",
            " 93%|█████████▎| 57000/61191 [02:36<00:11, 364.49it/s]\u001b[A\u001b[A\n",
            "\n",
            " 95%|█████████▍| 58000/61191 [02:39<00:08, 357.67it/s]\u001b[A\u001b[A\n",
            "\n",
            " 96%|█████████▋| 59000/61191 [02:42<00:06, 354.97it/s]\u001b[A\u001b[A\n",
            "\n",
            " 98%|█████████▊| 60000/61191 [02:45<00:03, 352.07it/s]\u001b[A\u001b[A\n",
            "\n",
            "100%|██████████| 61191/61191 [02:48<00:00, 363.03it/s]\n"
          ],
          "name": "stderr"
        }
      ]
    },
    {
      "cell_type": "code",
      "metadata": {
        "id": "adQc52xJ7Kyr",
        "colab_type": "code",
        "colab": {
          "base_uri": "https://localhost:8080/",
          "height": 204
        },
        "outputId": "0a39c1b8-44e6-4d4b-be8d-b0f8728d72a2"
      },
      "source": [
        "#Assign the predictions to the tags column of the df_test data frame\n",
        "df_test['tags'] = preds \n",
        "df_test.to_csv('uthman_6th_Submission.csv', index = False) #Export to csv\n",
        "df_test.head()"
      ],
      "execution_count": 103,
      "outputs": [
        {
          "output_type": "execute_result",
          "data": {
            "text/html": [
              "<div>\n",
              "<style scoped>\n",
              "    .dataframe tbody tr th:only-of-type {\n",
              "        vertical-align: middle;\n",
              "    }\n",
              "\n",
              "    .dataframe tbody tr th {\n",
              "        vertical-align: top;\n",
              "    }\n",
              "\n",
              "    .dataframe thead th {\n",
              "        text-align: right;\n",
              "    }\n",
              "</style>\n",
              "<table border=\"1\" class=\"dataframe\">\n",
              "  <thead>\n",
              "    <tr style=\"text-align: right;\">\n",
              "      <th></th>\n",
              "      <th>image_name</th>\n",
              "      <th>tags</th>\n",
              "    </tr>\n",
              "  </thead>\n",
              "  <tbody>\n",
              "    <tr>\n",
              "      <th>0</th>\n",
              "      <td>test_0</td>\n",
              "      <td>primary clear</td>\n",
              "    </tr>\n",
              "    <tr>\n",
              "      <th>1</th>\n",
              "      <td>test_1</td>\n",
              "      <td>primary clear</td>\n",
              "    </tr>\n",
              "    <tr>\n",
              "      <th>2</th>\n",
              "      <td>test_2</td>\n",
              "      <td>primary partly_cloudy</td>\n",
              "    </tr>\n",
              "    <tr>\n",
              "      <th>3</th>\n",
              "      <td>test_3</td>\n",
              "      <td>primary clear</td>\n",
              "    </tr>\n",
              "    <tr>\n",
              "      <th>4</th>\n",
              "      <td>test_4</td>\n",
              "      <td>primary cloudy partly_cloudy</td>\n",
              "    </tr>\n",
              "  </tbody>\n",
              "</table>\n",
              "</div>"
            ],
            "text/plain": [
              "  image_name                          tags\n",
              "0     test_0                 primary clear\n",
              "1     test_1                 primary clear\n",
              "2     test_2         primary partly_cloudy\n",
              "3     test_3                 primary clear\n",
              "4     test_4  primary cloudy partly_cloudy"
            ]
          },
          "metadata": {
            "tags": []
          },
          "execution_count": 103
        }
      ]
    },
    {
      "cell_type": "code",
      "metadata": {
        "id": "8mxZsUvjf14t",
        "colab_type": "code",
        "colab": {
          "base_uri": "https://localhost:8080/",
          "height": 17
        },
        "outputId": "1066421e-d03a-4065-8188-c3f491ff6d69"
      },
      "source": [
        "#download submission file\n",
        "from google.colab import files\n",
        "files.download('uthman_6th_Submission.csv')"
      ],
      "execution_count": 104,
      "outputs": [
        {
          "output_type": "display_data",
          "data": {
            "application/javascript": [
              "\n",
              "    async function download(id, filename, size) {\n",
              "      if (!google.colab.kernel.accessAllowed) {\n",
              "        return;\n",
              "      }\n",
              "      const div = document.createElement('div');\n",
              "      const label = document.createElement('label');\n",
              "      label.textContent = `Downloading \"${filename}\": `;\n",
              "      div.appendChild(label);\n",
              "      const progress = document.createElement('progress');\n",
              "      progress.max = size;\n",
              "      div.appendChild(progress);\n",
              "      document.body.appendChild(div);\n",
              "\n",
              "      const buffers = [];\n",
              "      let downloaded = 0;\n",
              "\n",
              "      const channel = await google.colab.kernel.comms.open(id);\n",
              "      // Send a message to notify the kernel that we're ready.\n",
              "      channel.send({})\n",
              "\n",
              "      for await (const message of channel.messages) {\n",
              "        // Send a message to notify the kernel that we're ready.\n",
              "        channel.send({})\n",
              "        if (message.buffers) {\n",
              "          for (const buffer of message.buffers) {\n",
              "            buffers.push(buffer);\n",
              "            downloaded += buffer.byteLength;\n",
              "            progress.value = downloaded;\n",
              "          }\n",
              "        }\n",
              "      }\n",
              "      const blob = new Blob(buffers, {type: 'application/binary'});\n",
              "      const a = document.createElement('a');\n",
              "      a.href = window.URL.createObjectURL(blob);\n",
              "      a.download = filename;\n",
              "      div.appendChild(a);\n",
              "      a.click();\n",
              "      div.remove();\n",
              "    }\n",
              "  "
            ],
            "text/plain": [
              "<IPython.core.display.Javascript object>"
            ]
          },
          "metadata": {
            "tags": []
          }
        },
        {
          "output_type": "display_data",
          "data": {
            "application/javascript": [
              "download(\"download_87c0e7d8-2fc4-42d0-b5a0-2b2bf526c2d3\", \"uthman_6th_Submission.csv\", 2284836)"
            ],
            "text/plain": [
              "<IPython.core.display.Javascript object>"
            ]
          },
          "metadata": {
            "tags": []
          }
        }
      ]
    },
    {
      "cell_type": "code",
      "metadata": {
        "id": "7RWAQwPLgfLA",
        "colab_type": "code",
        "colab": {}
      },
      "source": [
        ""
      ],
      "execution_count": 104,
      "outputs": []
    }
  ]
}