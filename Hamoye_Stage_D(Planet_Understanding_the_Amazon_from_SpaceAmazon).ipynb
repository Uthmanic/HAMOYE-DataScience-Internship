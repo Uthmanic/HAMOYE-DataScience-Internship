{
  "nbformat": 4,
  "nbformat_minor": 0,
  "metadata": {
    "colab": {
      "name": "Hamoye_Stage D(Planet: Understanding the Amazon from SpaceAmazon).ipynb",
      "provenance": [],
      "collapsed_sections": [],
      "include_colab_link": true
    },
    "kernelspec": {
      "name": "python3",
      "display_name": "Python 3"
    },
    "accelerator": "GPU"
  },
  "cells": [
    {
      "cell_type": "markdown",
      "metadata": {
        "id": "view-in-github",
        "colab_type": "text"
      },
      "source": [
        "<a href=\"https://colab.research.google.com/github/Uthmanic/HAMOYE-DataScience-Internship/blob/master/Hamoye_Stage_D(Planet_Understanding_the_Amazon_from_SpaceAmazon).ipynb\" target=\"_parent\"><img src=\"https://colab.research.google.com/assets/colab-badge.svg\" alt=\"Open In Colab\"/></a>"
      ]
    },
    {
      "cell_type": "code",
      "metadata": {
        "id": "smgBbZPTyzYD",
        "colab_type": "code",
        "colab": {
          "base_uri": "https://localhost:8080/",
          "height": 212
        },
        "outputId": "cabd1496-13ae-4597-99ee-b3bc003dd3ec"
      },
      "source": [
        "#install kaggle\n",
        "!pip install kaggle"
      ],
      "execution_count": 1,
      "outputs": [
        {
          "output_type": "stream",
          "text": [
            "Requirement already satisfied: kaggle in /usr/local/lib/python3.6/dist-packages (1.5.8)\n",
            "Requirement already satisfied: urllib3<1.25,>=1.21.1 in /usr/local/lib/python3.6/dist-packages (from kaggle) (1.24.3)\n",
            "Requirement already satisfied: python-dateutil in /usr/local/lib/python3.6/dist-packages (from kaggle) (2.8.1)\n",
            "Requirement already satisfied: tqdm in /usr/local/lib/python3.6/dist-packages (from kaggle) (4.41.1)\n",
            "Requirement already satisfied: python-slugify in /usr/local/lib/python3.6/dist-packages (from kaggle) (4.0.1)\n",
            "Requirement already satisfied: slugify in /usr/local/lib/python3.6/dist-packages (from kaggle) (0.0.1)\n",
            "Requirement already satisfied: certifi in /usr/local/lib/python3.6/dist-packages (from kaggle) (2020.6.20)\n",
            "Requirement already satisfied: requests in /usr/local/lib/python3.6/dist-packages (from kaggle) (2.23.0)\n",
            "Requirement already satisfied: six>=1.10 in /usr/local/lib/python3.6/dist-packages (from kaggle) (1.15.0)\n",
            "Requirement already satisfied: text-unidecode>=1.3 in /usr/local/lib/python3.6/dist-packages (from python-slugify->kaggle) (1.3)\n",
            "Requirement already satisfied: idna<3,>=2.5 in /usr/local/lib/python3.6/dist-packages (from requests->kaggle) (2.10)\n",
            "Requirement already satisfied: chardet<4,>=3.0.2 in /usr/local/lib/python3.6/dist-packages (from requests->kaggle) (3.0.4)\n"
          ],
          "name": "stdout"
        }
      ]
    },
    {
      "cell_type": "code",
      "metadata": {
        "id": "O8UUzeqTzKZi",
        "colab_type": "code",
        "colab": {}
      },
      "source": [
        "!mkdir .kaggle"
      ],
      "execution_count": 2,
      "outputs": []
    },
    {
      "cell_type": "code",
      "metadata": {
        "id": "7YdEvA42zP56",
        "colab_type": "code",
        "colab": {}
      },
      "source": [
        "import json\n",
        "token = {\"username\":\"tijaniuthman\",\"key\":\"42a091ba934aa0b6d9ef884eb7f52567\"}\n",
        "with open('/content/.kaggle/kaggle.json', 'w') as file:\n",
        "    json.dump(token, file)"
      ],
      "execution_count": 3,
      "outputs": []
    },
    {
      "cell_type": "code",
      "metadata": {
        "id": "_Huo15CLzl2d",
        "colab_type": "code",
        "colab": {}
      },
      "source": [
        "!cp /content/.kaggle/kaggle.json ~/.kaggle/kaggle.json"
      ],
      "execution_count": 14,
      "outputs": []
    },
    {
      "cell_type": "code",
      "metadata": {
        "id": "PMfiq9Vyzthe",
        "colab_type": "code",
        "colab": {
          "base_uri": "https://localhost:8080/",
          "height": 50
        },
        "outputId": "d16da87f-f78b-44d4-c05d-dd757e33d5ff"
      },
      "source": [
        "!kaggle config set -n path -v{/content}"
      ],
      "execution_count": 15,
      "outputs": [
        {
          "output_type": "stream",
          "text": [
            "Warning: Your Kaggle API key is readable by other users on this system! To fix this, you can run 'chmod 600 /root/.kaggle/kaggle.json'\n",
            "- path is now set to: {/content}\n"
          ],
          "name": "stdout"
        }
      ]
    },
    {
      "cell_type": "code",
      "metadata": {
        "id": "zhFqIRSIz2_o",
        "colab_type": "code",
        "colab": {}
      },
      "source": [
        "!chmod 600 /root/.kaggle/kaggle.json"
      ],
      "execution_count": 16,
      "outputs": []
    },
    {
      "cell_type": "code",
      "metadata": {
        "id": "n3Rr2drt0qqn",
        "colab_type": "code",
        "colab": {
          "base_uri": "https://localhost:8080/",
          "height": 391
        },
        "outputId": "8e88b361-55ea-4d86-e9aa-9d4b1826e514"
      },
      "source": [
        "!kaggle datasets list"
      ],
      "execution_count": 17,
      "outputs": [
        {
          "output_type": "stream",
          "text": [
            "Warning: Looks like you're using an outdated API Version, please consider updating (server 1.5.6 / client 1.5.4)\n",
            "ref                                                    title                                              size  lastUpdated          downloadCount  \n",
            "-----------------------------------------------------  ------------------------------------------------  -----  -------------------  -------------  \n",
            "anmolkumar/health-insurance-cross-sell-prediction      Health Insurance Cross Sell Prediction 🏠 🏥          6MB  2020-09-11 18:39:31           1213  \n",
            "shivan118/healthcare-analytics                         Healthcare Analytics                                2MB  2020-09-13 17:40:05            658  \n",
            "Cornell-University/arxiv                               arXiv Dataset                                     885MB  2020-09-14 16:54:47           2872  \n",
            "nipunarora8/age-gender-and-ethnicity-face-data-csv     AGE, GENDER AND ETHNICITY (FACE DATA) CSV          63MB  2020-09-02 13:46:38            384  \n",
            "datatattle/covid-19-nlp-text-classification            Coronavirus tweets NLP - Text Classification        4MB  2020-09-08 11:40:11            392  \n",
            "ramjidoolla/ipl-data-set                               IPL _Data_Set                                       1MB  2020-09-14 10:57:42            678  \n",
            "yoannboyere/co2-ghg-emissionsdata                      CO2_GHG_emissions-data                            147KB  2020-09-14 09:59:25            364  \n",
            "anikannal/solar-power-generation-data                  Solar Power Generation Data                         2MB  2020-08-18 15:52:03           3863  \n",
            "tunguz/us-elections-dataset                            US Elections Dataset                                8MB  2020-09-17 17:02:40           2252  \n",
            "imoore/60k-stack-overflow-questions-with-quality-rate  60k Stack Overflow Questions with Quality Rating   21MB  2020-09-19 20:53:26           1120  \n",
            "nehaprabhavalkar/av-healthcare-analytics-ii            AV : Healthcare Analytics II                        7MB  2020-08-29 03:40:10           1851  \n",
            "jmmvutu/summer-products-and-sales-in-ecommerce-wish    Sales of summer clothes in E-commerce Wish        376KB  2020-08-23 15:16:46           6035  \n",
            "ihelon/lego-minifigures-classification                 LEGO Minifigures                                   17MB  2020-09-15 20:07:06           1077  \n",
            "ruchi798/bookcrossing-dataset                          Book-Crossing: User review ratings                 25MB  2020-08-11 10:40:25           1063  \n",
            "google/tinyquickdraw                                   QuickDraw Sketches                                 11GB  2018-04-18 19:38:04           2305  \n",
            "agirlcoding/all-space-missions-from-1957               All Space Missions from 1957                      101KB  2020-08-13 16:18:58           3214  \n",
            "datasnaek/youtube-new                                  Trending YouTube Video Statistics                 201MB  2019-06-03 00:56:47         105117  \n",
            "zynicide/wine-reviews                                  Wine Reviews                                       51MB  2017-11-27 17:08:04         112684  \n",
            "residentmario/ramen-ratings                            Ramen Ratings                                      40KB  2018-01-11 16:04:39          13542  \n",
            "datasnaek/chess                                        Chess Game Dataset (Lichess)                        3MB  2017-09-04 03:09:09           8917  \n"
          ],
          "name": "stdout"
        }
      ]
    },
    {
      "cell_type": "code",
      "metadata": {
        "id": "U8WFvA8B01fN",
        "colab_type": "code",
        "colab": {
          "base_uri": "https://localhost:8080/",
          "height": 374
        },
        "outputId": "17e39cd5-7452-491d-868a-08b976242135"
      },
      "source": [
        "#search for the dataset \n",
        "!kaggle datasets list -s planets-dataset"
      ],
      "execution_count": 18,
      "outputs": [
        {
          "output_type": "stream",
          "text": [
            "Warning: Looks like you're using an outdated API Version, please consider updating (server 1.5.6 / client 1.5.4)\n",
            "ref                                               title                                     size  lastUpdated          downloadCount  \n",
            "------------------------------------------------  ---------------------------------------  -----  -------------------  -------------  \n",
            "nikitarom/planets-dataset                         planets_dataset                            1GB  2020-02-09 22:01:31           1939  \n",
            "mrisdal/open-exoplanet-catalogue                  Open Exoplanet Catalogue                 123KB  2017-06-08 19:59:22           2805  \n",
            "eduardowoj/exoplanets-database                    Exoplanets Database                      281KB  2018-02-28 20:56:05            852  \n",
            "muhakabartay/markmarkohkeplerconfirmedplanets     Kepler Confirmed Planets                 521KB  2019-12-26 20:08:20             17  \n",
            "nasa/kepler-exoplanet-search-results              Kepler Exoplanet Search Results            1MB  2017-10-10 18:26:59           4007  \n",
            "jsphyg/star-wars                                  Star Wars                                 10KB  2019-07-08 12:53:05           1431  \n",
            "aradzhabov/earthquakes-solar-system-objects       Earthquakes <-?-> Solar System objects?    2MB  2017-04-22 21:42:59            839  \n",
            "keplersmachines/kepler-labelled-time-series-data  Exoplanet Hunting in Deep Space           56MB  2017-04-12 16:34:18           6882  \n",
            "scoleman/spacex-launch-data                       SpaceX Launch Data                         2KB  2018-06-14 03:01:05           1407  \n",
            "nasa/trappist1                                    Trappist-1 Solar System                    1KB  2017-02-23 18:11:03            416  \n",
            "fatihhazir/planets                                Planets                                   10KB  2020-07-20 14:06:52              4  \n",
            "markmarkoh/near-earth-asteroids                   Near Earth Asteroids                      18KB  2016-10-05 17:01:46            160  \n",
            "moiraghif/exoplanets                              exoplanets                                 4MB  2018-12-06 14:49:07             33  \n",
            "ukveteran/exoplanets-data                         Exoplanets Data                            1KB  2019-12-30 20:38:42              2  \n",
            "uzairwali/exoplanetsflux                          ExoPlanetsFlux                            56MB  2019-04-03 11:40:11             17  \n",
            "canthonyaustin/cneos-neo-earth-close-approaches   CNEOS NEO Earth Close Approaches           5KB  2020-07-22 22:22:59              3  \n",
            "kazeev/idao2019muonid                             IDAO-2019-MuonID                            0B  2019-01-28 14:46:32             70  \n",
            "jaredsavage/solar-system-major-bodies-data        Solar System major bodies data            22KB  2020-05-23 15:41:48             42  \n"
          ],
          "name": "stdout"
        }
      ]
    },
    {
      "cell_type": "code",
      "metadata": {
        "id": "EwFN-X9b1l6V",
        "colab_type": "code",
        "colab": {
          "base_uri": "https://localhost:8080/",
          "height": 68
        },
        "outputId": "124b796b-d519-4337-ac26-760c21518604"
      },
      "source": [
        "#download dataset\n",
        "!kaggle datasets download -d nikitarom/planets-dataset -p /content"
      ],
      "execution_count": 19,
      "outputs": [
        {
          "output_type": "stream",
          "text": [
            "Downloading planets-dataset.zip to /content\n",
            " 99% 1.49G/1.50G [00:41<00:00, 45.2MB/s]\n",
            "100% 1.50G/1.50G [00:41<00:00, 38.3MB/s]\n"
          ],
          "name": "stdout"
        }
      ]
    },
    {
      "cell_type": "code",
      "metadata": {
        "id": "l-LS_OUE173W",
        "colab_type": "code",
        "colab": {
          "base_uri": "https://localhost:8080/",
          "height": 34
        },
        "outputId": "96a8ac8a-6138-4084-c0f5-ae01cfa4677b"
      },
      "source": [
        "#unzip the dataset\n",
        "!unzip \\*.zip&> /dev/null"
      ],
      "execution_count": 30,
      "outputs": [
        {
          "output_type": "stream",
          "text": [
            "^C\n"
          ],
          "name": "stdout"
        }
      ]
    },
    {
      "cell_type": "code",
      "metadata": {
        "id": "tsvjFsDc1_3R",
        "colab_type": "code",
        "colab": {
          "base_uri": "https://localhost:8080/",
          "height": 50
        },
        "outputId": "797c8423-34c2-441a-9caf-adb24d6833d6"
      },
      "source": [
        "#Import necessary libraries\n",
        "import numpy as np # linear algebra\n",
        "import pandas as pd # data processing, CSV file I/O (e.g. pd.read_csv)\n",
        "import os\n",
        "import gc\n",
        "import matplotlib.pyplot as plt\n",
        "import seaborn as sns\n",
        "from tensorflow.keras.preprocessing.image import load_img, img_to_array\n",
        "from sklearn.metrics import fbeta_score\n",
        "from tqdm import tqdm\n",
        "import cv2\n",
        "from PIL import Image\n",
        "from tensorflow import keras\n",
        "from keras.models import Sequential\n",
        "from keras.layers import Dense, Dropout, Flatten\n",
        "from keras.layers import Conv2D, MaxPooling2D, BatchNormalization\n",
        "from keras.callbacks import EarlyStopping, ModelCheckpoint\n",
        "from keras import optimizers\n",
        "\n",
        "from sklearn.model_selection import KFold, train_test_split\n",
        "from sklearn.metrics import fbeta_score\n",
        "import time\n",
        "%matplotlib inline\n",
        "\n",
        "pal = sns.color_palette()\n",
        "\n",
        "import plotly.offline as py\n",
        "py.init_notebook_mode(connected=True)\n",
        "import plotly.graph_objs as go\n",
        "import plotly.tools as tls"
      ],
      "execution_count": 1,
      "outputs": [
        {
          "output_type": "stream",
          "text": [
            "/usr/local/lib/python3.6/dist-packages/statsmodels/tools/_testing.py:19: FutureWarning: pandas.util.testing is deprecated. Use the functions in the public API at pandas.testing instead.\n",
            "  import pandas.util.testing as tm\n"
          ],
          "name": "stderr"
        },
        {
          "output_type": "display_data",
          "data": {
            "text/html": [
              "        <script type=\"text/javascript\">\n",
              "        window.PlotlyConfig = {MathJaxConfig: 'local'};\n",
              "        if (window.MathJax) {MathJax.Hub.Config({SVG: {font: \"STIX-Web\"}});}\n",
              "        if (typeof require !== 'undefined') {\n",
              "        require.undef(\"plotly\");\n",
              "        requirejs.config({\n",
              "            paths: {\n",
              "                'plotly': ['https://cdn.plot.ly/plotly-latest.min']\n",
              "            }\n",
              "        });\n",
              "        require(['plotly'], function(Plotly) {\n",
              "            window._Plotly = Plotly;\n",
              "        });\n",
              "        }\n",
              "        </script>\n",
              "        "
            ]
          },
          "metadata": {
            "tags": []
          }
        }
      ]
    },
    {
      "cell_type": "code",
      "metadata": {
        "id": "myCVksuu5o-I",
        "colab_type": "code",
        "colab": {
          "base_uri": "https://localhost:8080/",
          "height": 33
        },
        "outputId": "b6630048-22cc-49e5-96c0-7c4e9018e6fb"
      },
      "source": [
        "#check present working directory\n",
        "! pwd"
      ],
      "execution_count": 2,
      "outputs": [
        {
          "output_type": "stream",
          "text": [
            "/content\n"
          ],
          "name": "stdout"
        }
      ]
    },
    {
      "cell_type": "code",
      "metadata": {
        "id": "l7koKOSh2ZZG",
        "colab_type": "code",
        "colab": {
          "base_uri": "https://localhost:8080/",
          "height": 191
        },
        "outputId": "51dfe785-2c29-4343-8e02-e048c6918d7b"
      },
      "source": [
        "#read the train classes csv file and save a copy\n",
        "df_train_classes= pd.read_csv('/content/planet/planet/train_classes.csv')\n",
        "df_train = df_train_classes.copy()\n",
        "df_train.head()"
      ],
      "execution_count": 3,
      "outputs": [
        {
          "output_type": "execute_result",
          "data": {
            "text/html": [
              "<div>\n",
              "<style scoped>\n",
              "    .dataframe tbody tr th:only-of-type {\n",
              "        vertical-align: middle;\n",
              "    }\n",
              "\n",
              "    .dataframe tbody tr th {\n",
              "        vertical-align: top;\n",
              "    }\n",
              "\n",
              "    .dataframe thead th {\n",
              "        text-align: right;\n",
              "    }\n",
              "</style>\n",
              "<table border=\"1\" class=\"dataframe\">\n",
              "  <thead>\n",
              "    <tr style=\"text-align: right;\">\n",
              "      <th></th>\n",
              "      <th>image_name</th>\n",
              "      <th>tags</th>\n",
              "    </tr>\n",
              "  </thead>\n",
              "  <tbody>\n",
              "    <tr>\n",
              "      <th>0</th>\n",
              "      <td>train_0</td>\n",
              "      <td>haze primary</td>\n",
              "    </tr>\n",
              "    <tr>\n",
              "      <th>1</th>\n",
              "      <td>train_1</td>\n",
              "      <td>agriculture clear primary water</td>\n",
              "    </tr>\n",
              "    <tr>\n",
              "      <th>2</th>\n",
              "      <td>train_2</td>\n",
              "      <td>clear primary</td>\n",
              "    </tr>\n",
              "    <tr>\n",
              "      <th>3</th>\n",
              "      <td>train_3</td>\n",
              "      <td>clear primary</td>\n",
              "    </tr>\n",
              "    <tr>\n",
              "      <th>4</th>\n",
              "      <td>train_4</td>\n",
              "      <td>agriculture clear habitation primary road</td>\n",
              "    </tr>\n",
              "  </tbody>\n",
              "</table>\n",
              "</div>"
            ],
            "text/plain": [
              "  image_name                                       tags\n",
              "0    train_0                               haze primary\n",
              "1    train_1            agriculture clear primary water\n",
              "2    train_2                              clear primary\n",
              "3    train_3                              clear primary\n",
              "4    train_4  agriculture clear habitation primary road"
            ]
          },
          "metadata": {
            "tags": []
          },
          "execution_count": 3
        }
      ]
    },
    {
      "cell_type": "code",
      "metadata": {
        "id": "E0rEYYpyX0f7",
        "colab_type": "code",
        "colab": {
          "base_uri": "https://localhost:8080/",
          "height": 191
        },
        "outputId": "67c8712f-d44d-4fa9-f88e-26d6cd441283"
      },
      "source": [
        "#read the sample submission classes csv file and save a copy\n",
        "df_test_classes = pd.read_csv('/content/planet/planet/sample_submission.csv')\n",
        "df_test = df_test_classes.copy()\n",
        "df_test.head()"
      ],
      "execution_count": 4,
      "outputs": [
        {
          "output_type": "execute_result",
          "data": {
            "text/html": [
              "<div>\n",
              "<style scoped>\n",
              "    .dataframe tbody tr th:only-of-type {\n",
              "        vertical-align: middle;\n",
              "    }\n",
              "\n",
              "    .dataframe tbody tr th {\n",
              "        vertical-align: top;\n",
              "    }\n",
              "\n",
              "    .dataframe thead th {\n",
              "        text-align: right;\n",
              "    }\n",
              "</style>\n",
              "<table border=\"1\" class=\"dataframe\">\n",
              "  <thead>\n",
              "    <tr style=\"text-align: right;\">\n",
              "      <th></th>\n",
              "      <th>image_name</th>\n",
              "      <th>tags</th>\n",
              "    </tr>\n",
              "  </thead>\n",
              "  <tbody>\n",
              "    <tr>\n",
              "      <th>0</th>\n",
              "      <td>test_0</td>\n",
              "      <td>primary clear agriculture road water</td>\n",
              "    </tr>\n",
              "    <tr>\n",
              "      <th>1</th>\n",
              "      <td>test_1</td>\n",
              "      <td>primary clear agriculture road water</td>\n",
              "    </tr>\n",
              "    <tr>\n",
              "      <th>2</th>\n",
              "      <td>test_2</td>\n",
              "      <td>primary clear agriculture road water</td>\n",
              "    </tr>\n",
              "    <tr>\n",
              "      <th>3</th>\n",
              "      <td>test_3</td>\n",
              "      <td>primary clear agriculture road water</td>\n",
              "    </tr>\n",
              "    <tr>\n",
              "      <th>4</th>\n",
              "      <td>test_4</td>\n",
              "      <td>primary clear agriculture road water</td>\n",
              "    </tr>\n",
              "  </tbody>\n",
              "</table>\n",
              "</div>"
            ],
            "text/plain": [
              "  image_name                                  tags\n",
              "0     test_0  primary clear agriculture road water\n",
              "1     test_1  primary clear agriculture road water\n",
              "2     test_2  primary clear agriculture road water\n",
              "3     test_3  primary clear agriculture road water\n",
              "4     test_4  primary clear agriculture road water"
            ]
          },
          "metadata": {
            "tags": []
          },
          "execution_count": 4
        }
      ]
    },
    {
      "cell_type": "code",
      "metadata": {
        "id": "87dtd75YHWMr",
        "colab_type": "code",
        "colab": {
          "base_uri": "https://localhost:8080/",
          "height": 33
        },
        "outputId": "698f781b-ae85-4685-e59c-31d83c9c29c0"
      },
      "source": [
        "#total train data points\n",
        "!ls /content/planet/planet/train-jpg | wc -l"
      ],
      "execution_count": 5,
      "outputs": [
        {
          "output_type": "stream",
          "text": [
            "40479\n"
          ],
          "name": "stdout"
        }
      ]
    },
    {
      "cell_type": "code",
      "metadata": {
        "id": "tSofgF2HHXst",
        "colab_type": "code",
        "colab": {}
      },
      "source": [
        "test1 = !ls /content/planet/planet/test-jpg | wc -l\n",
        "test2 = !ls /content/test-jpg-additional/test-jpg-additional | wc -l\n",
        "assert df_test.shape[0] == float(test1[0])+float(test2[0])"
      ],
      "execution_count": 6,
      "outputs": []
    },
    {
      "cell_type": "code",
      "metadata": {
        "id": "Tup07igp4U-p",
        "colab_type": "code",
        "colab": {
          "base_uri": "https://localhost:8080/",
          "height": 293
        },
        "outputId": "bb464e0a-85b4-4aed-8ec0-374e1d5c89b2"
      },
      "source": [
        "#list of unique labels/tags \n",
        "labels = df_train['tags'].apply(lambda x: x.split(' '))\n",
        "from collections import Counter, defaultdict\n",
        "counts = defaultdict(int)\n",
        "for l in labels:\n",
        "    for l2 in l:\n",
        "        counts[l2] += 1\n",
        "               \n",
        "tag_list=list(counts.keys())\n",
        "tag_list "
      ],
      "execution_count": 7,
      "outputs": [
        {
          "output_type": "execute_result",
          "data": {
            "text/plain": [
              "['haze',\n",
              " 'primary',\n",
              " 'agriculture',\n",
              " 'clear',\n",
              " 'water',\n",
              " 'habitation',\n",
              " 'road',\n",
              " 'cultivation',\n",
              " 'slash_burn',\n",
              " 'cloudy',\n",
              " 'partly_cloudy',\n",
              " 'conventional_mine',\n",
              " 'bare_ground',\n",
              " 'artisinal_mine',\n",
              " 'blooming',\n",
              " 'selective_logging',\n",
              " 'blow_down']"
            ]
          },
          "metadata": {
            "tags": []
          },
          "execution_count": 7
        }
      ]
    },
    {
      "cell_type": "code",
      "metadata": {
        "id": "6Tga92KIHfXi",
        "colab_type": "code",
        "colab": {
          "base_uri": "https://localhost:8080/",
          "height": 33
        },
        "outputId": "298b0f0e-e182-4bc8-84f2-5d0042a00784"
      },
      "source": [
        "#total unique labels\n",
        "len(tag_list)"
      ],
      "execution_count": 8,
      "outputs": [
        {
          "output_type": "execute_result",
          "data": {
            "text/plain": [
              "17"
            ]
          },
          "metadata": {
            "tags": []
          },
          "execution_count": 8
        }
      ]
    },
    {
      "cell_type": "code",
      "metadata": {
        "id": "0O0QUHsMN_MR",
        "colab_type": "code",
        "colab": {
          "base_uri": "https://localhost:8080/",
          "height": 293
        },
        "outputId": "a4b93be9-95f6-42e4-e188-9865df0691ec"
      },
      "source": [
        "#assign numerical value to each label using dictionary\n",
        "label_map = {i:j for j, i in enumerate(tag_list)}\n",
        "label_map"
      ],
      "execution_count": 9,
      "outputs": [
        {
          "output_type": "execute_result",
          "data": {
            "text/plain": [
              "{'agriculture': 2,\n",
              " 'artisinal_mine': 13,\n",
              " 'bare_ground': 12,\n",
              " 'blooming': 14,\n",
              " 'blow_down': 16,\n",
              " 'clear': 3,\n",
              " 'cloudy': 9,\n",
              " 'conventional_mine': 11,\n",
              " 'cultivation': 7,\n",
              " 'habitation': 5,\n",
              " 'haze': 0,\n",
              " 'partly_cloudy': 10,\n",
              " 'primary': 1,\n",
              " 'road': 6,\n",
              " 'selective_logging': 15,\n",
              " 'slash_burn': 8,\n",
              " 'water': 4}"
            ]
          },
          "metadata": {
            "tags": []
          },
          "execution_count": 9
        }
      ]
    },
    {
      "cell_type": "code",
      "metadata": {
        "id": "-bVKXpRg6E_w",
        "colab_type": "code",
        "colab": {
          "base_uri": "https://localhost:8080/",
          "height": 33
        },
        "outputId": "e778fcc2-34e4-44c6-b7fa-0dd9f6e188e4"
      },
      "source": [
        "# One hot encode the training labels. Convert the images into pixels and resize them\n",
        "X_train, Y_train = [], []\n",
        "for img, label in tqdm(df_train.values, miniters = 1000):\n",
        "  target = np.zeros(17)\n",
        "  for tag in label.split(' '):\n",
        "    target[label_map[tag]]=1\n",
        "  X_train.append(cv2.resize(cv2.imread('/content/planet/planet/train-jpg/{}.jpg'.format(img)), (64,64)))\n",
        "  Y_train.append(target)"
      ],
      "execution_count": 10,
      "outputs": [
        {
          "output_type": "stream",
          "text": [
            "100%|██████████| 40479/40479 [00:54<00:00, 739.76it/s]\n"
          ],
          "name": "stderr"
        }
      ]
    },
    {
      "cell_type": "code",
      "metadata": {
        "id": "SqjQoDvo6Oq_",
        "colab_type": "code",
        "colab": {
          "base_uri": "https://localhost:8080/",
          "height": 50
        },
        "outputId": "164e6eb9-ace2-414f-9b27-eaa5ffb2ceca"
      },
      "source": [
        "#convert the test images to pixels and resize them as well\n",
        "X_test=[]\n",
        "for img, label in tqdm(df_test[:40669].values, miniters = 1000):\n",
        "  X_test.append(cv2.resize(cv2.imread('/content/planet/planet/test-jpg/{}.jpg'.format(img)), (64,64)))\n",
        "for img, label in tqdm(df_test[40669:].values, miniters = 1000):\n",
        "  X_test.append(cv2.resize(cv2.imread('/content/test-jpg-additional/test-jpg-additional/{}.jpg'.format(img)), (64,64)))\n",
        "x_test = np.array(X_test, np.float16)/255"
      ],
      "execution_count": 11,
      "outputs": [
        {
          "output_type": "stream",
          "text": [
            "100%|██████████| 40669/40669 [00:54<00:00, 747.05it/s]\n",
            "100%|██████████| 20522/20522 [00:26<00:00, 786.91it/s]\n"
          ],
          "name": "stderr"
        }
      ]
    },
    {
      "cell_type": "code",
      "metadata": {
        "id": "jUlX6nDqAOqY",
        "colab_type": "code",
        "colab": {
          "base_uri": "https://localhost:8080/",
          "height": 33
        },
        "outputId": "d5618fd0-0b44-4a94-8e5c-e691a1df71da"
      },
      "source": [
        "#Confirm the dimensions\n",
        "len(X_test), len(X_train), len(Y_train)"
      ],
      "execution_count": 12,
      "outputs": [
        {
          "output_type": "execute_result",
          "data": {
            "text/plain": [
              "(61191, 40479, 40479)"
            ]
          },
          "metadata": {
            "tags": []
          },
          "execution_count": 12
        }
      ]
    },
    {
      "cell_type": "code",
      "metadata": {
        "id": "emxwTLWAAUpA",
        "colab_type": "code",
        "colab": {
          "base_uri": "https://localhost:8080/",
          "height": 33
        },
        "outputId": "986e1dd4-063b-480b-ecf7-6529be5b1a2f"
      },
      "source": [
        "import sys\n",
        "sys.getsizeof(X_train)"
      ],
      "execution_count": 13,
      "outputs": [
        {
          "output_type": "execute_result",
          "data": {
            "text/plain": [
              "361288"
            ]
          },
          "metadata": {
            "tags": []
          },
          "execution_count": 13
        }
      ]
    },
    {
      "cell_type": "code",
      "metadata": {
        "id": "XAR5nJn8dVsj",
        "colab_type": "code",
        "colab": {
          "base_uri": "https://localhost:8080/",
          "height": 33
        },
        "outputId": "a30ca1a4-f10b-4701-8a79-0d2d2311d80f"
      },
      "source": [
        "#import and initialise Garbage Collector\n",
        "import gc\n",
        "gc.collect()"
      ],
      "execution_count": 14,
      "outputs": [
        {
          "output_type": "execute_result",
          "data": {
            "text/plain": [
              "11"
            ]
          },
          "metadata": {
            "tags": []
          },
          "execution_count": 14
        }
      ]
    },
    {
      "cell_type": "code",
      "metadata": {
        "id": "FhQPqf_4AcGf",
        "colab_type": "code",
        "colab": {
          "base_uri": "https://localhost:8080/",
          "height": 33
        },
        "outputId": "c3c9f79c-f5a7-402b-bbfb-d7763ec33661"
      },
      "source": [
        "#Change lists to numpy arrays and normalize\n",
        "x_train = np.array(X_train, np.float16)/255\n",
        "y_train = np.array(Y_train, np.uint8)\n",
        "\n",
        "x_train, x_val, y_train, y_val = train_test_split(x_train, y_train, test_size = 0.2, shuffle = True, random_state = 1)\n",
        "\n",
        "print(x_train.shape, y_train.shape, x_val.shape, y_val.shape)"
      ],
      "execution_count": 15,
      "outputs": [
        {
          "output_type": "stream",
          "text": [
            "(32383, 64, 64, 3) (32383, 17) (8096, 64, 64, 3) (8096, 17)\n"
          ],
          "name": "stdout"
        }
      ]
    },
    {
      "cell_type": "code",
      "metadata": {
        "id": "RwK9nOnXC-Cr",
        "colab_type": "code",
        "colab": {}
      },
      "source": [
        "#delete X_test, X_train, Y_train to free up space\n",
        "del(X_test, X_train, Y_train)"
      ],
      "execution_count": 16,
      "outputs": []
    },
    {
      "cell_type": "code",
      "metadata": {
        "id": "X_x-4bxgC_gF",
        "colab_type": "code",
        "colab": {}
      },
      "source": [
        "#Split the data into 5 folds and train on 4 folds while validating on 1 fold\n",
        "\n",
        "yfull_test = []\n",
        "yfull_train = []\n",
        "X_train_, X_val_, Y_train_, Y_val_ = train_test_split(x_train, y_train, test_size = 0.2, random_state = 1)"
      ],
      "execution_count": 17,
      "outputs": []
    },
    {
      "cell_type": "code",
      "metadata": {
        "id": "Np7cmVF8604f",
        "colab_type": "code",
        "colab": {
          "base_uri": "https://localhost:8080/",
          "height": 33
        },
        "outputId": "1c02c8e2-555a-451b-bc54-7c60a4b2c96e"
      },
      "source": [
        "#import and initialise Garbage Collector\n",
        "import gc\n",
        "gc.collect()"
      ],
      "execution_count": 18,
      "outputs": [
        {
          "output_type": "execute_result",
          "data": {
            "text/plain": [
              "0"
            ]
          },
          "metadata": {
            "tags": []
          },
          "execution_count": 18
        }
      ]
    },
    {
      "cell_type": "code",
      "metadata": {
        "id": "8VBWgcfhDDyy",
        "colab_type": "code",
        "colab": {}
      },
      "source": [
        "#Build a CNN model\n",
        "from keras.applications.vgg19 import VGG19\n",
        "from keras.optimizers import Adam\n",
        "\n",
        "input_size = 64\n",
        "input_channels = 3\n",
        "batch_size = 64\n",
        "\n",
        "# Add model parameters including dropout, layers and activation function\n",
        "base_model = VGG19(include_top=False,\n",
        "                   weights='imagenet',\n",
        "                   input_shape=(input_size, input_size, input_channels))\n",
        "\n",
        "model = Sequential()\n",
        "model.add(BatchNormalization(input_shape=(input_size, input_size, input_channels)))\n",
        "\n",
        "model.add(base_model)\n",
        "model.add(Flatten())\n",
        "model.add(Dropout(0.5))\n",
        "\n",
        "model.add(Dense(17, activation='sigmoid'))"
      ],
      "execution_count": 19,
      "outputs": []
    },
    {
      "cell_type": "code",
      "metadata": {
        "id": "aNoa_7g_1aWf",
        "colab_type": "code",
        "colab": {
          "base_uri": "https://localhost:8080/",
          "height": 33
        },
        "outputId": "5a1fda02-1594-4b5e-fdae-4ea3d6504b7b"
      },
      "source": [
        "#import and initialise Garbage Collector\n",
        "import gc\n",
        "gc.collect()"
      ],
      "execution_count": 20,
      "outputs": [
        {
          "output_type": "execute_result",
          "data": {
            "text/plain": [
              "0"
            ]
          },
          "metadata": {
            "tags": []
          },
          "execution_count": 20
        }
      ]
    },
    {
      "cell_type": "code",
      "metadata": {
        "id": "5y8SkPkW0dcW",
        "colab_type": "code",
        "colab": {
          "base_uri": "https://localhost:8080/",
          "height": 310
        },
        "outputId": "14938b82-15ad-45eb-c0b5-4ea4c896b286"
      },
      "source": [
        "# define model training optimizer parameters\n",
        "opt = Adam(lr=1e-4)\n",
        "model.compile(loss='binary_crossentropy',optimizer=opt, metrics=['accuracy'])\n",
        "callbacks = [EarlyStopping(monitor='val_loss', patience=2, verbose=0),\n",
        "                ModelCheckpoint(filepath='weights/best_weights',\n",
        "                                 save_best_only=True,\n",
        "                                 save_weights_only=True)]\n",
        "model.summary()\n",
        "\n",
        "\n"
      ],
      "execution_count": 21,
      "outputs": [
        {
          "output_type": "stream",
          "text": [
            "Model: \"sequential\"\n",
            "_________________________________________________________________\n",
            "Layer (type)                 Output Shape              Param #   \n",
            "=================================================================\n",
            "batch_normalization (BatchNo (None, 64, 64, 3)         12        \n",
            "_________________________________________________________________\n",
            "vgg19 (Functional)           (None, 2, 2, 512)         20024384  \n",
            "_________________________________________________________________\n",
            "flatten (Flatten)            (None, 2048)              0         \n",
            "_________________________________________________________________\n",
            "dropout (Dropout)            (None, 2048)              0         \n",
            "_________________________________________________________________\n",
            "dense (Dense)                (None, 17)                34833     \n",
            "=================================================================\n",
            "Total params: 20,059,229\n",
            "Trainable params: 20,059,223\n",
            "Non-trainable params: 6\n",
            "_________________________________________________________________\n"
          ],
          "name": "stdout"
        }
      ]
    },
    {
      "cell_type": "code",
      "metadata": {
        "id": "WMBuVIlMUH_J",
        "colab_type": "code",
        "colab": {
          "base_uri": "https://localhost:8080/",
          "height": 33
        },
        "outputId": "6cb1611d-0d03-4c9d-b202-2d20c6b8b311"
      },
      "source": [
        "gc.collect()"
      ],
      "execution_count": 22,
      "outputs": [
        {
          "output_type": "execute_result",
          "data": {
            "text/plain": [
              "0"
            ]
          },
          "metadata": {
            "tags": []
          },
          "execution_count": 22
        }
      ]
    },
    {
      "cell_type": "code",
      "metadata": {
        "id": "i0Bb1exiCWcP",
        "colab_type": "code",
        "colab": {
          "base_uri": "https://localhost:8080/",
          "height": 375
        },
        "outputId": "b51409a6-0fc7-45d7-9575-2e83d0cbfba5"
      },
      "source": [
        "#Try a combination of epoch lengths and learning rates\n",
        "\n",
        "model.fit(x = X_train_, y= Y_train_, validation_data=(X_val_, Y_val_),batch_size=64,verbose=2, epochs=10,callbacks=callbacks,shuffle=True)\n",
        "\n",
        "p_val = model.predict(X_val_, batch_size = 64, verbose=2)\n",
        "print(fbeta_score(Y_val_, np.array(p_val) > 0.2, beta=2, average='samples')) #Check the model performance on the validation set\n",
        "\n",
        "p_train = model.predict(x_train, batch_size =64, verbose=2) #save the training predictions\n",
        "yfull_train.append(p_train)\n",
        "        \n",
        "p_test = model.predict(x_test, batch_size = 64, verbose=2) #save the test predictions\n",
        "yfull_test.append(p_test)"
      ],
      "execution_count": 23,
      "outputs": [
        {
          "output_type": "stream",
          "text": [
            "Epoch 1/15\n",
            "WARNING:tensorflow:Callbacks method `on_train_batch_end` is slow compared to the batch time (batch time: 0.0204s vs `on_train_batch_end` time: 0.0327s). Check your callbacks.\n",
            "405/405 - 25s - loss: 0.1580 - accuracy: 0.6921 - val_loss: 0.1232 - val_accuracy: 0.7906\n",
            "Epoch 2/15\n",
            "405/405 - 23s - loss: 0.1163 - accuracy: 0.7145 - val_loss: 0.1087 - val_accuracy: 0.8502\n",
            "Epoch 3/15\n",
            "405/405 - 23s - loss: 0.1075 - accuracy: 0.7342 - val_loss: 0.1054 - val_accuracy: 0.7815\n",
            "Epoch 4/15\n",
            "405/405 - 23s - loss: 0.1008 - accuracy: 0.7394 - val_loss: 0.1028 - val_accuracy: 0.7273\n",
            "Epoch 5/15\n",
            "405/405 - 23s - loss: 0.0954 - accuracy: 0.7207 - val_loss: 0.1024 - val_accuracy: 0.8376\n",
            "Epoch 6/15\n",
            "405/405 - 23s - loss: 0.0902 - accuracy: 0.7314 - val_loss: 0.1139 - val_accuracy: 0.8067\n",
            "Epoch 7/15\n",
            "405/405 - 23s - loss: 0.0828 - accuracy: 0.7064 - val_loss: 0.1034 - val_accuracy: 0.6960\n",
            "WARNING:tensorflow:Callbacks method `on_predict_batch_end` is slow compared to the batch time (batch time: 0.0022s vs `on_predict_batch_end` time: 0.0082s). Check your callbacks.\n",
            "203/203 - 2s\n",
            "0.9119118308929165\n",
            "WARNING:tensorflow:Callbacks method `on_predict_batch_end` is slow compared to the batch time (batch time: 0.0026s vs `on_predict_batch_end` time: 0.0139s). Check your callbacks.\n",
            "506/506 - 8s\n",
            "WARNING:tensorflow:Callbacks method `on_predict_batch_end` is slow compared to the batch time (batch time: 0.0028s vs `on_predict_batch_end` time: 0.0130s). Check your callbacks.\n",
            "957/957 - 15s\n"
          ],
          "name": "stdout"
        }
      ]
    },
    {
      "cell_type": "code",
      "metadata": {
        "id": "1o5LORnjVtXE",
        "colab_type": "code",
        "colab": {
          "base_uri": "https://localhost:8080/",
          "height": 33
        },
        "outputId": "ef03b023-0c64-49d5-d919-a4464bc6f5d0"
      },
      "source": [
        "#import and initialise Garbage Collector\n",
        "import gc\n",
        "gc.collect()"
      ],
      "execution_count": 24,
      "outputs": [
        {
          "output_type": "execute_result",
          "data": {
            "text/plain": [
              "2967"
            ]
          },
          "metadata": {
            "tags": []
          },
          "execution_count": 24
        }
      ]
    },
    {
      "cell_type": "code",
      "metadata": {
        "id": "F4MGaGb5DJsT",
        "colab_type": "code",
        "colab": {
          "base_uri": "https://localhost:8080/",
          "height": 228
        },
        "outputId": "06471ed0-f2d6-4bb2-fde0-d7b03bb54a9a"
      },
      "source": [
        "#make predictions\n",
        "predictions = model.predict(x_test, batch_size = 32)\n",
        "predictions"
      ],
      "execution_count": 25,
      "outputs": [
        {
          "output_type": "execute_result",
          "data": {
            "text/plain": [
              "array([[2.03687279e-03, 9.99922156e-01, 2.83319782e-03, ...,\n",
              "        6.13635313e-03, 5.29130339e-04, 3.14486533e-04],\n",
              "       [7.15181290e-04, 9.99950171e-01, 5.41629829e-03, ...,\n",
              "        9.14758220e-02, 7.18053477e-03, 2.10611592e-03],\n",
              "       [1.79610646e-03, 9.94473040e-01, 2.55280230e-02, ...,\n",
              "        5.46605908e-04, 1.81650030e-04, 3.53933719e-04],\n",
              "       ...,\n",
              "       [3.55643366e-04, 9.99871254e-01, 9.68208257e-03, ...,\n",
              "        2.01380439e-03, 5.03386196e-04, 1.78211980e-04],\n",
              "       [7.99031928e-03, 1.44288745e-02, 1.02722552e-03, ...,\n",
              "        1.29998341e-04, 1.68812003e-05, 3.27370581e-05],\n",
              "       [7.49441516e-03, 7.66544223e-01, 2.58286536e-01, ...,\n",
              "        1.97319823e-05, 1.09845336e-04, 3.56147539e-05]], dtype=float32)"
            ]
          },
          "metadata": {
            "tags": []
          },
          "execution_count": 25
        }
      ]
    },
    {
      "cell_type": "code",
      "metadata": {
        "id": "5SEAPkgHDOOr",
        "colab_type": "code",
        "colab": {
          "base_uri": "https://localhost:8080/",
          "height": 411
        },
        "outputId": "ff70681a-5d26-4e2f-ed7e-2aa90675e4ae"
      },
      "source": [
        "#predictions dataframe\n",
        "pred = pd.DataFrame(predictions, columns =  tag_list)\n",
        "pred"
      ],
      "execution_count": 26,
      "outputs": [
        {
          "output_type": "execute_result",
          "data": {
            "text/html": [
              "<div>\n",
              "<style scoped>\n",
              "    .dataframe tbody tr th:only-of-type {\n",
              "        vertical-align: middle;\n",
              "    }\n",
              "\n",
              "    .dataframe tbody tr th {\n",
              "        vertical-align: top;\n",
              "    }\n",
              "\n",
              "    .dataframe thead th {\n",
              "        text-align: right;\n",
              "    }\n",
              "</style>\n",
              "<table border=\"1\" class=\"dataframe\">\n",
              "  <thead>\n",
              "    <tr style=\"text-align: right;\">\n",
              "      <th></th>\n",
              "      <th>haze</th>\n",
              "      <th>primary</th>\n",
              "      <th>agriculture</th>\n",
              "      <th>clear</th>\n",
              "      <th>water</th>\n",
              "      <th>habitation</th>\n",
              "      <th>road</th>\n",
              "      <th>cultivation</th>\n",
              "      <th>slash_burn</th>\n",
              "      <th>cloudy</th>\n",
              "      <th>partly_cloudy</th>\n",
              "      <th>conventional_mine</th>\n",
              "      <th>bare_ground</th>\n",
              "      <th>artisinal_mine</th>\n",
              "      <th>blooming</th>\n",
              "      <th>selective_logging</th>\n",
              "      <th>blow_down</th>\n",
              "    </tr>\n",
              "  </thead>\n",
              "  <tbody>\n",
              "    <tr>\n",
              "      <th>0</th>\n",
              "      <td>0.002037</td>\n",
              "      <td>0.999922</td>\n",
              "      <td>0.002833</td>\n",
              "      <td>0.996940</td>\n",
              "      <td>0.000862</td>\n",
              "      <td>0.000867</td>\n",
              "      <td>0.000563</td>\n",
              "      <td>0.000343</td>\n",
              "      <td>0.000008</td>\n",
              "      <td>0.000037</td>\n",
              "      <td>0.000536</td>\n",
              "      <td>0.000003</td>\n",
              "      <td>0.000091</td>\n",
              "      <td>0.000003</td>\n",
              "      <td>0.006136</td>\n",
              "      <td>0.000529</td>\n",
              "      <td>0.000314</td>\n",
              "    </tr>\n",
              "    <tr>\n",
              "      <th>1</th>\n",
              "      <td>0.000715</td>\n",
              "      <td>0.999950</td>\n",
              "      <td>0.005416</td>\n",
              "      <td>0.997844</td>\n",
              "      <td>0.001017</td>\n",
              "      <td>0.001851</td>\n",
              "      <td>0.001209</td>\n",
              "      <td>0.000783</td>\n",
              "      <td>0.000036</td>\n",
              "      <td>0.000038</td>\n",
              "      <td>0.000830</td>\n",
              "      <td>0.000007</td>\n",
              "      <td>0.000230</td>\n",
              "      <td>0.000009</td>\n",
              "      <td>0.091476</td>\n",
              "      <td>0.007181</td>\n",
              "      <td>0.002106</td>\n",
              "    </tr>\n",
              "    <tr>\n",
              "      <th>2</th>\n",
              "      <td>0.001796</td>\n",
              "      <td>0.994473</td>\n",
              "      <td>0.025528</td>\n",
              "      <td>0.001813</td>\n",
              "      <td>0.063637</td>\n",
              "      <td>0.002667</td>\n",
              "      <td>0.021063</td>\n",
              "      <td>0.001763</td>\n",
              "      <td>0.000062</td>\n",
              "      <td>0.003707</td>\n",
              "      <td>0.994457</td>\n",
              "      <td>0.000093</td>\n",
              "      <td>0.000793</td>\n",
              "      <td>0.000113</td>\n",
              "      <td>0.000547</td>\n",
              "      <td>0.000182</td>\n",
              "      <td>0.000354</td>\n",
              "    </tr>\n",
              "    <tr>\n",
              "      <th>3</th>\n",
              "      <td>0.006248</td>\n",
              "      <td>0.999798</td>\n",
              "      <td>0.025696</td>\n",
              "      <td>0.949387</td>\n",
              "      <td>0.002227</td>\n",
              "      <td>0.001672</td>\n",
              "      <td>0.001170</td>\n",
              "      <td>0.004785</td>\n",
              "      <td>0.000084</td>\n",
              "      <td>0.000144</td>\n",
              "      <td>0.030627</td>\n",
              "      <td>0.000024</td>\n",
              "      <td>0.000532</td>\n",
              "      <td>0.000019</td>\n",
              "      <td>0.005454</td>\n",
              "      <td>0.001036</td>\n",
              "      <td>0.001387</td>\n",
              "    </tr>\n",
              "    <tr>\n",
              "      <th>4</th>\n",
              "      <td>0.007452</td>\n",
              "      <td>0.544485</td>\n",
              "      <td>0.034021</td>\n",
              "      <td>0.003442</td>\n",
              "      <td>0.054959</td>\n",
              "      <td>0.007817</td>\n",
              "      <td>0.022010</td>\n",
              "      <td>0.005230</td>\n",
              "      <td>0.000518</td>\n",
              "      <td>0.486708</td>\n",
              "      <td>0.662707</td>\n",
              "      <td>0.000793</td>\n",
              "      <td>0.003699</td>\n",
              "      <td>0.001350</td>\n",
              "      <td>0.001997</td>\n",
              "      <td>0.000929</td>\n",
              "      <td>0.000771</td>\n",
              "    </tr>\n",
              "    <tr>\n",
              "      <th>...</th>\n",
              "      <td>...</td>\n",
              "      <td>...</td>\n",
              "      <td>...</td>\n",
              "      <td>...</td>\n",
              "      <td>...</td>\n",
              "      <td>...</td>\n",
              "      <td>...</td>\n",
              "      <td>...</td>\n",
              "      <td>...</td>\n",
              "      <td>...</td>\n",
              "      <td>...</td>\n",
              "      <td>...</td>\n",
              "      <td>...</td>\n",
              "      <td>...</td>\n",
              "      <td>...</td>\n",
              "      <td>...</td>\n",
              "      <td>...</td>\n",
              "    </tr>\n",
              "    <tr>\n",
              "      <th>61186</th>\n",
              "      <td>0.005558</td>\n",
              "      <td>0.042965</td>\n",
              "      <td>0.002798</td>\n",
              "      <td>0.001489</td>\n",
              "      <td>0.004891</td>\n",
              "      <td>0.000635</td>\n",
              "      <td>0.001748</td>\n",
              "      <td>0.000575</td>\n",
              "      <td>0.000027</td>\n",
              "      <td>0.965379</td>\n",
              "      <td>0.031159</td>\n",
              "      <td>0.000026</td>\n",
              "      <td>0.000325</td>\n",
              "      <td>0.000085</td>\n",
              "      <td>0.000297</td>\n",
              "      <td>0.000054</td>\n",
              "      <td>0.000086</td>\n",
              "    </tr>\n",
              "    <tr>\n",
              "      <th>61187</th>\n",
              "      <td>0.000427</td>\n",
              "      <td>0.999723</td>\n",
              "      <td>0.270662</td>\n",
              "      <td>0.997778</td>\n",
              "      <td>0.999289</td>\n",
              "      <td>0.253440</td>\n",
              "      <td>0.010369</td>\n",
              "      <td>0.345925</td>\n",
              "      <td>0.001636</td>\n",
              "      <td>0.000021</td>\n",
              "      <td>0.001029</td>\n",
              "      <td>0.000048</td>\n",
              "      <td>0.010031</td>\n",
              "      <td>0.000960</td>\n",
              "      <td>0.000353</td>\n",
              "      <td>0.000869</td>\n",
              "      <td>0.000037</td>\n",
              "    </tr>\n",
              "    <tr>\n",
              "      <th>61188</th>\n",
              "      <td>0.000356</td>\n",
              "      <td>0.999871</td>\n",
              "      <td>0.009682</td>\n",
              "      <td>0.999623</td>\n",
              "      <td>0.047336</td>\n",
              "      <td>0.001771</td>\n",
              "      <td>0.002455</td>\n",
              "      <td>0.000567</td>\n",
              "      <td>0.000013</td>\n",
              "      <td>0.000018</td>\n",
              "      <td>0.000042</td>\n",
              "      <td>0.000005</td>\n",
              "      <td>0.000212</td>\n",
              "      <td>0.000006</td>\n",
              "      <td>0.002014</td>\n",
              "      <td>0.000503</td>\n",
              "      <td>0.000178</td>\n",
              "    </tr>\n",
              "    <tr>\n",
              "      <th>61189</th>\n",
              "      <td>0.007990</td>\n",
              "      <td>0.014429</td>\n",
              "      <td>0.001027</td>\n",
              "      <td>0.021951</td>\n",
              "      <td>0.011383</td>\n",
              "      <td>0.000404</td>\n",
              "      <td>0.000709</td>\n",
              "      <td>0.000157</td>\n",
              "      <td>0.000010</td>\n",
              "      <td>0.971190</td>\n",
              "      <td>0.000365</td>\n",
              "      <td>0.000005</td>\n",
              "      <td>0.000114</td>\n",
              "      <td>0.000017</td>\n",
              "      <td>0.000130</td>\n",
              "      <td>0.000017</td>\n",
              "      <td>0.000033</td>\n",
              "    </tr>\n",
              "    <tr>\n",
              "      <th>61190</th>\n",
              "      <td>0.007494</td>\n",
              "      <td>0.766544</td>\n",
              "      <td>0.258287</td>\n",
              "      <td>0.982619</td>\n",
              "      <td>0.083730</td>\n",
              "      <td>0.999355</td>\n",
              "      <td>0.996256</td>\n",
              "      <td>0.004982</td>\n",
              "      <td>0.000063</td>\n",
              "      <td>0.000047</td>\n",
              "      <td>0.000603</td>\n",
              "      <td>0.000324</td>\n",
              "      <td>0.009139</td>\n",
              "      <td>0.000168</td>\n",
              "      <td>0.000020</td>\n",
              "      <td>0.000110</td>\n",
              "      <td>0.000036</td>\n",
              "    </tr>\n",
              "  </tbody>\n",
              "</table>\n",
              "<p>61191 rows × 17 columns</p>\n",
              "</div>"
            ],
            "text/plain": [
              "           haze   primary  agriculture  ...  blooming  selective_logging  blow_down\n",
              "0      0.002037  0.999922     0.002833  ...  0.006136           0.000529   0.000314\n",
              "1      0.000715  0.999950     0.005416  ...  0.091476           0.007181   0.002106\n",
              "2      0.001796  0.994473     0.025528  ...  0.000547           0.000182   0.000354\n",
              "3      0.006248  0.999798     0.025696  ...  0.005454           0.001036   0.001387\n",
              "4      0.007452  0.544485     0.034021  ...  0.001997           0.000929   0.000771\n",
              "...         ...       ...          ...  ...       ...                ...        ...\n",
              "61186  0.005558  0.042965     0.002798  ...  0.000297           0.000054   0.000086\n",
              "61187  0.000427  0.999723     0.270662  ...  0.000353           0.000869   0.000037\n",
              "61188  0.000356  0.999871     0.009682  ...  0.002014           0.000503   0.000178\n",
              "61189  0.007990  0.014429     0.001027  ...  0.000130           0.000017   0.000033\n",
              "61190  0.007494  0.766544     0.258287  ...  0.000020           0.000110   0.000036\n",
              "\n",
              "[61191 rows x 17 columns]"
            ]
          },
          "metadata": {
            "tags": []
          },
          "execution_count": 26
        }
      ]
    },
    {
      "cell_type": "code",
      "metadata": {
        "id": "MsqOMDkb7C64",
        "colab_type": "code",
        "colab": {
          "base_uri": "https://localhost:8080/",
          "height": 33
        },
        "outputId": "7db18c57-692e-4869-c5d9-7d700935806e"
      },
      "source": [
        "#Write a loop to assign each value to its predicted label\n",
        "preds = []\n",
        "for i in tqdm(range(pred.shape[0]), miniters=1000):\n",
        "    a = pred.iloc[[i]]\n",
        "    a = a.apply(lambda x: x > 0.2, axis=1)\n",
        "    a = a.transpose()\n",
        "    a = a.loc[a[i] == True]\n",
        "    ' '.join(list(a.index))\n",
        "    preds.append(' '.join(list(a.index)))"
      ],
      "execution_count": 27,
      "outputs": [
        {
          "output_type": "stream",
          "text": [
            "100%|██████████| 61191/61191 [02:43<00:00, 373.16it/s]\n"
          ],
          "name": "stderr"
        }
      ]
    },
    {
      "cell_type": "code",
      "metadata": {
        "id": "adQc52xJ7Kyr",
        "colab_type": "code",
        "colab": {
          "base_uri": "https://localhost:8080/",
          "height": 191
        },
        "outputId": "a8f2df39-ff71-45c0-9b09-3640e29d1ef1"
      },
      "source": [
        "#Assign the predictions to the tags column of the df_test data frame\n",
        "df_test['tags'] = preds \n",
        "df_test.to_csv('uthman_9th_Submission.csv', index = False) #Export to csv\n",
        "df_test.head()"
      ],
      "execution_count": 28,
      "outputs": [
        {
          "output_type": "execute_result",
          "data": {
            "text/html": [
              "<div>\n",
              "<style scoped>\n",
              "    .dataframe tbody tr th:only-of-type {\n",
              "        vertical-align: middle;\n",
              "    }\n",
              "\n",
              "    .dataframe tbody tr th {\n",
              "        vertical-align: top;\n",
              "    }\n",
              "\n",
              "    .dataframe thead th {\n",
              "        text-align: right;\n",
              "    }\n",
              "</style>\n",
              "<table border=\"1\" class=\"dataframe\">\n",
              "  <thead>\n",
              "    <tr style=\"text-align: right;\">\n",
              "      <th></th>\n",
              "      <th>image_name</th>\n",
              "      <th>tags</th>\n",
              "    </tr>\n",
              "  </thead>\n",
              "  <tbody>\n",
              "    <tr>\n",
              "      <th>0</th>\n",
              "      <td>test_0</td>\n",
              "      <td>primary clear</td>\n",
              "    </tr>\n",
              "    <tr>\n",
              "      <th>1</th>\n",
              "      <td>test_1</td>\n",
              "      <td>primary clear</td>\n",
              "    </tr>\n",
              "    <tr>\n",
              "      <th>2</th>\n",
              "      <td>test_2</td>\n",
              "      <td>primary partly_cloudy</td>\n",
              "    </tr>\n",
              "    <tr>\n",
              "      <th>3</th>\n",
              "      <td>test_3</td>\n",
              "      <td>primary clear</td>\n",
              "    </tr>\n",
              "    <tr>\n",
              "      <th>4</th>\n",
              "      <td>test_4</td>\n",
              "      <td>primary cloudy partly_cloudy</td>\n",
              "    </tr>\n",
              "  </tbody>\n",
              "</table>\n",
              "</div>"
            ],
            "text/plain": [
              "  image_name                          tags\n",
              "0     test_0                 primary clear\n",
              "1     test_1                 primary clear\n",
              "2     test_2         primary partly_cloudy\n",
              "3     test_3                 primary clear\n",
              "4     test_4  primary cloudy partly_cloudy"
            ]
          },
          "metadata": {
            "tags": []
          },
          "execution_count": 28
        }
      ]
    },
    {
      "cell_type": "code",
      "metadata": {
        "id": "8mxZsUvjf14t",
        "colab_type": "code",
        "colab": {
          "base_uri": "https://localhost:8080/",
          "height": 17
        },
        "outputId": "a94fc38c-eb5f-4162-d0ed-a78363401afd"
      },
      "source": [
        "#download submission file\n",
        "from google.colab import files\n",
        "files.download('uthman_9th_Submission.csv')"
      ],
      "execution_count": 29,
      "outputs": [
        {
          "output_type": "display_data",
          "data": {
            "application/javascript": [
              "\n",
              "    async function download(id, filename, size) {\n",
              "      if (!google.colab.kernel.accessAllowed) {\n",
              "        return;\n",
              "      }\n",
              "      const div = document.createElement('div');\n",
              "      const label = document.createElement('label');\n",
              "      label.textContent = `Downloading \"${filename}\": `;\n",
              "      div.appendChild(label);\n",
              "      const progress = document.createElement('progress');\n",
              "      progress.max = size;\n",
              "      div.appendChild(progress);\n",
              "      document.body.appendChild(div);\n",
              "\n",
              "      const buffers = [];\n",
              "      let downloaded = 0;\n",
              "\n",
              "      const channel = await google.colab.kernel.comms.open(id);\n",
              "      // Send a message to notify the kernel that we're ready.\n",
              "      channel.send({})\n",
              "\n",
              "      for await (const message of channel.messages) {\n",
              "        // Send a message to notify the kernel that we're ready.\n",
              "        channel.send({})\n",
              "        if (message.buffers) {\n",
              "          for (const buffer of message.buffers) {\n",
              "            buffers.push(buffer);\n",
              "            downloaded += buffer.byteLength;\n",
              "            progress.value = downloaded;\n",
              "          }\n",
              "        }\n",
              "      }\n",
              "      const blob = new Blob(buffers, {type: 'application/binary'});\n",
              "      const a = document.createElement('a');\n",
              "      a.href = window.URL.createObjectURL(blob);\n",
              "      a.download = filename;\n",
              "      div.appendChild(a);\n",
              "      a.click();\n",
              "      div.remove();\n",
              "    }\n",
              "  "
            ],
            "text/plain": [
              "<IPython.core.display.Javascript object>"
            ]
          },
          "metadata": {
            "tags": []
          }
        },
        {
          "output_type": "display_data",
          "data": {
            "application/javascript": [
              "download(\"download_20e4d1df-5ccc-4c97-8792-31eafa8bb5ec\", \"uthman_9th_Submission.csv\", 2331270)"
            ],
            "text/plain": [
              "<IPython.core.display.Javascript object>"
            ]
          },
          "metadata": {
            "tags": []
          }
        }
      ]
    },
    {
      "cell_type": "code",
      "metadata": {
        "id": "7RWAQwPLgfLA",
        "colab_type": "code",
        "colab": {}
      },
      "source": [
        ""
      ],
      "execution_count": 29,
      "outputs": []
    }
  ]
}