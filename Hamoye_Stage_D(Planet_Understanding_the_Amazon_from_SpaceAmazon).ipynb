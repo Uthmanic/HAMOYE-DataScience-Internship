{
  "nbformat": 4,
  "nbformat_minor": 0,
  "metadata": {
    "colab": {
      "name": "Hamoye_Stage D(Planet: Understanding the Amazon from SpaceAmazon).ipynb",
      "provenance": [],
      "collapsed_sections": [],
      "include_colab_link": true
    },
    "kernelspec": {
      "name": "python3",
      "display_name": "Python 3"
    },
    "accelerator": "GPU"
  },
  "cells": [
    {
      "cell_type": "markdown",
      "metadata": {
        "id": "view-in-github",
        "colab_type": "text"
      },
      "source": [
        "<a href=\"https://colab.research.google.com/github/Uthmanic/HAMOYE-DataScience-Internship/blob/master/Hamoye_Stage_D(Planet_Understanding_the_Amazon_from_SpaceAmazon).ipynb\" target=\"_parent\"><img src=\"https://colab.research.google.com/assets/colab-badge.svg\" alt=\"Open In Colab\"/></a>"
      ]
    },
    {
      "cell_type": "code",
      "metadata": {
        "id": "smgBbZPTyzYD",
        "colab_type": "code",
        "colab": {
          "base_uri": "https://localhost:8080/",
          "height": 221
        },
        "outputId": "e611d0f1-3efa-4f54-8efa-7ca11436347e"
      },
      "source": [
        "#install kaggle\n",
        "!pip install kaggle"
      ],
      "execution_count": 1,
      "outputs": [
        {
          "output_type": "stream",
          "text": [
            "Requirement already satisfied: kaggle in /usr/local/lib/python3.6/dist-packages (1.5.8)\n",
            "Requirement already satisfied: requests in /usr/local/lib/python3.6/dist-packages (from kaggle) (2.23.0)\n",
            "Requirement already satisfied: tqdm in /usr/local/lib/python3.6/dist-packages (from kaggle) (4.41.1)\n",
            "Requirement already satisfied: certifi in /usr/local/lib/python3.6/dist-packages (from kaggle) (2020.6.20)\n",
            "Requirement already satisfied: six>=1.10 in /usr/local/lib/python3.6/dist-packages (from kaggle) (1.15.0)\n",
            "Requirement already satisfied: urllib3<1.25,>=1.21.1 in /usr/local/lib/python3.6/dist-packages (from kaggle) (1.24.3)\n",
            "Requirement already satisfied: slugify in /usr/local/lib/python3.6/dist-packages (from kaggle) (0.0.1)\n",
            "Requirement already satisfied: python-dateutil in /usr/local/lib/python3.6/dist-packages (from kaggle) (2.8.1)\n",
            "Requirement already satisfied: python-slugify in /usr/local/lib/python3.6/dist-packages (from kaggle) (4.0.1)\n",
            "Requirement already satisfied: idna<3,>=2.5 in /usr/local/lib/python3.6/dist-packages (from requests->kaggle) (2.10)\n",
            "Requirement already satisfied: chardet<4,>=3.0.2 in /usr/local/lib/python3.6/dist-packages (from requests->kaggle) (3.0.4)\n",
            "Requirement already satisfied: text-unidecode>=1.3 in /usr/local/lib/python3.6/dist-packages (from python-slugify->kaggle) (1.3)\n"
          ],
          "name": "stdout"
        }
      ]
    },
    {
      "cell_type": "code",
      "metadata": {
        "id": "O8UUzeqTzKZi",
        "colab_type": "code",
        "colab": {
          "base_uri": "https://localhost:8080/",
          "height": 34
        },
        "outputId": "bb527ef6-c25d-414a-f51a-a8eb6bf7d46f"
      },
      "source": [
        "!mkdir .kaggle"
      ],
      "execution_count": 2,
      "outputs": [
        {
          "output_type": "stream",
          "text": [
            "mkdir: cannot create directory ‘.kaggle’: File exists\n"
          ],
          "name": "stdout"
        }
      ]
    },
    {
      "cell_type": "code",
      "metadata": {
        "id": "7YdEvA42zP56",
        "colab_type": "code",
        "colab": {}
      },
      "source": [
        "import json\n",
        "token = {\"username\":\"tijaniuthman\",\"key\":\"42a091ba934aa0b6d9ef884eb7f52567\"}\n",
        "with open('/content/.kaggle/kaggle.json', 'w') as file:\n",
        "    json.dump(token, file)"
      ],
      "execution_count": 3,
      "outputs": []
    },
    {
      "cell_type": "code",
      "metadata": {
        "id": "_Huo15CLzl2d",
        "colab_type": "code",
        "colab": {}
      },
      "source": [
        "!cp /content/.kaggle/kaggle.json ~/.kaggle/kaggle.json"
      ],
      "execution_count": 4,
      "outputs": []
    },
    {
      "cell_type": "code",
      "metadata": {
        "id": "PMfiq9Vyzthe",
        "colab_type": "code",
        "colab": {
          "base_uri": "https://localhost:8080/",
          "height": 34
        },
        "outputId": "fbb57dfd-2821-4c51-9679-15b5f5de22ef"
      },
      "source": [
        "!kaggle config set -n path -v{/content}"
      ],
      "execution_count": 5,
      "outputs": [
        {
          "output_type": "stream",
          "text": [
            "- path is now set to: {/content}\n"
          ],
          "name": "stdout"
        }
      ]
    },
    {
      "cell_type": "code",
      "metadata": {
        "id": "zhFqIRSIz2_o",
        "colab_type": "code",
        "colab": {}
      },
      "source": [
        "!chmod 600 /root/.kaggle/kaggle.json"
      ],
      "execution_count": 6,
      "outputs": []
    },
    {
      "cell_type": "code",
      "metadata": {
        "id": "U8WFvA8B01fN",
        "colab_type": "code",
        "colab": {
          "base_uri": "https://localhost:8080/",
          "height": 374
        },
        "outputId": "ce8fcb27-1cff-4a3c-ae29-06f5ca7ee7ea"
      },
      "source": [
        "#search for the dataset \n",
        "!kaggle datasets list -s planets-dataset"
      ],
      "execution_count": 7,
      "outputs": [
        {
          "output_type": "stream",
          "text": [
            "Warning: Looks like you're using an outdated API Version, please consider updating (server 1.5.6 / client 1.5.4)\n",
            "ref                                               title                                     size  lastUpdated          downloadCount  \n",
            "------------------------------------------------  ---------------------------------------  -----  -------------------  -------------  \n",
            "nikitarom/planets-dataset                         planets_dataset                            1GB  2020-02-09 22:01:31           1953  \n",
            "mrisdal/open-exoplanet-catalogue                  Open Exoplanet Catalogue                 123KB  2017-06-08 19:59:22           2805  \n",
            "eduardowoj/exoplanets-database                    Exoplanets Database                      281KB  2018-02-28 20:56:05            852  \n",
            "muhakabartay/markmarkohkeplerconfirmedplanets     Kepler Confirmed Planets                 521KB  2019-12-26 20:08:20             17  \n",
            "nasa/kepler-exoplanet-search-results              Kepler Exoplanet Search Results            1MB  2017-10-10 18:26:59           4015  \n",
            "jsphyg/star-wars                                  Star Wars                                 10KB  2019-07-08 12:53:05           1431  \n",
            "aradzhabov/earthquakes-solar-system-objects       Earthquakes <-?-> Solar System objects?    2MB  2017-04-22 21:42:59            839  \n",
            "keplersmachines/kepler-labelled-time-series-data  Exoplanet Hunting in Deep Space           56MB  2017-04-12 16:34:18           6882  \n",
            "scoleman/spacex-launch-data                       SpaceX Launch Data                         2KB  2018-06-14 03:01:05           1407  \n",
            "nasa/trappist1                                    Trappist-1 Solar System                    1KB  2017-02-23 18:11:03            416  \n",
            "fatihhazir/planets                                Planets                                   10KB  2020-07-20 14:06:52              4  \n",
            "markmarkoh/near-earth-asteroids                   Near Earth Asteroids                      18KB  2016-10-05 17:01:46            160  \n",
            "moiraghif/exoplanets                              exoplanets                                 4MB  2018-12-06 14:49:07             33  \n",
            "ukveteran/exoplanets-data                         Exoplanets Data                            1KB  2019-12-30 20:38:42              2  \n",
            "uzairwali/exoplanetsflux                          ExoPlanetsFlux                            56MB  2019-04-03 11:40:11             17  \n",
            "canthonyaustin/cneos-neo-earth-close-approaches   CNEOS NEO Earth Close Approaches           5KB  2020-07-22 22:22:59              3  \n",
            "kazeev/idao2019muonid                             IDAO-2019-MuonID                            0B  2019-01-28 14:46:32             70  \n",
            "jaredsavage/solar-system-major-bodies-data        Solar System major bodies data            22KB  2020-05-23 15:41:48             42  \n"
          ],
          "name": "stdout"
        }
      ]
    },
    {
      "cell_type": "code",
      "metadata": {
        "id": "EwFN-X9b1l6V",
        "colab_type": "code",
        "colab": {
          "base_uri": "https://localhost:8080/",
          "height": 34
        },
        "outputId": "05e3ea7c-1d74-4627-b012-cc529a16cb4b"
      },
      "source": [
        "#download dataset\n",
        "!kaggle datasets download -d nikitarom/planets-dataset -p /content"
      ],
      "execution_count": 8,
      "outputs": [
        {
          "output_type": "stream",
          "text": [
            "planets-dataset.zip: Skipping, found more recently modified local copy (use --force to force download)\n"
          ],
          "name": "stdout"
        }
      ]
    },
    {
      "cell_type": "code",
      "metadata": {
        "id": "l-LS_OUE173W",
        "colab_type": "code",
        "colab": {}
      },
      "source": [
        "#unzip the dataset\n",
        "%%capture\n",
        "!unzip \\*.zip"
      ],
      "execution_count": 9,
      "outputs": []
    },
    {
      "cell_type": "code",
      "metadata": {
        "id": "tsvjFsDc1_3R",
        "colab_type": "code",
        "colab": {
          "base_uri": "https://localhost:8080/",
          "height": 71
        },
        "outputId": "1518c586-da78-4a22-fdc4-0d78c31a19b8"
      },
      "source": [
        "#Import necessary libraries\n",
        "import numpy as np # linear algebra\n",
        "import pandas as pd # data processing, CSV file I/O (e.g. pd.read_csv)\n",
        "import os\n",
        "import gc\n",
        "import matplotlib.pyplot as plt\n",
        "import seaborn as sns\n",
        "from tensorflow.keras.preprocessing.image import load_img, img_to_array\n",
        "from sklearn.metrics import fbeta_score\n",
        "from tqdm import tqdm\n",
        "import cv2\n",
        "from PIL import Image\n",
        "from tensorflow import keras\n",
        "from keras.models import Sequential\n",
        "from keras.layers import Dense, Dropout, Flatten\n",
        "from keras.layers import Conv2D, MaxPooling2D, BatchNormalization\n",
        "from keras.callbacks import EarlyStopping, ModelCheckpoint\n",
        "from keras import optimizers\n",
        "\n",
        "from sklearn.model_selection import KFold, train_test_split\n",
        "from sklearn.metrics import fbeta_score\n",
        "import time\n",
        "%matplotlib inline\n",
        "\n",
        "pal = sns.color_palette()\n",
        "\n",
        "import plotly.offline as py\n",
        "py.init_notebook_mode(connected=True)\n",
        "import plotly.graph_objs as go\n",
        "import plotly.tools as tls"
      ],
      "execution_count": 10,
      "outputs": [
        {
          "output_type": "stream",
          "text": [
            "/usr/local/lib/python3.6/dist-packages/statsmodels/tools/_testing.py:19: FutureWarning: pandas.util.testing is deprecated. Use the functions in the public API at pandas.testing instead.\n",
            "  import pandas.util.testing as tm\n"
          ],
          "name": "stderr"
        },
        {
          "output_type": "display_data",
          "data": {
            "text/html": [
              "        <script type=\"text/javascript\">\n",
              "        window.PlotlyConfig = {MathJaxConfig: 'local'};\n",
              "        if (window.MathJax) {MathJax.Hub.Config({SVG: {font: \"STIX-Web\"}});}\n",
              "        if (typeof require !== 'undefined') {\n",
              "        require.undef(\"plotly\");\n",
              "        requirejs.config({\n",
              "            paths: {\n",
              "                'plotly': ['https://cdn.plot.ly/plotly-latest.min']\n",
              "            }\n",
              "        });\n",
              "        require(['plotly'], function(Plotly) {\n",
              "            window._Plotly = Plotly;\n",
              "        });\n",
              "        }\n",
              "        </script>\n",
              "        "
            ]
          },
          "metadata": {
            "tags": []
          }
        }
      ]
    },
    {
      "cell_type": "code",
      "metadata": {
        "id": "myCVksuu5o-I",
        "colab_type": "code",
        "colab": {
          "base_uri": "https://localhost:8080/",
          "height": 34
        },
        "outputId": "8b159a42-e7d5-424a-e6ad-04f7be8f90cd"
      },
      "source": [
        "#check present working directory\n",
        "! pwd"
      ],
      "execution_count": 11,
      "outputs": [
        {
          "output_type": "stream",
          "text": [
            "/content\n"
          ],
          "name": "stdout"
        }
      ]
    },
    {
      "cell_type": "code",
      "metadata": {
        "id": "l7koKOSh2ZZG",
        "colab_type": "code",
        "colab": {
          "base_uri": "https://localhost:8080/",
          "height": 204
        },
        "outputId": "036b99bb-d095-41fa-883b-8753824baf64"
      },
      "source": [
        "#read the train classes csv file and save a copy\n",
        "df_train_classes= pd.read_csv('/content/planet/planet/train_classes.csv')\n",
        "df_train = df_train_classes.copy()\n",
        "df_train.head()"
      ],
      "execution_count": 12,
      "outputs": [
        {
          "output_type": "execute_result",
          "data": {
            "text/html": [
              "<div>\n",
              "<style scoped>\n",
              "    .dataframe tbody tr th:only-of-type {\n",
              "        vertical-align: middle;\n",
              "    }\n",
              "\n",
              "    .dataframe tbody tr th {\n",
              "        vertical-align: top;\n",
              "    }\n",
              "\n",
              "    .dataframe thead th {\n",
              "        text-align: right;\n",
              "    }\n",
              "</style>\n",
              "<table border=\"1\" class=\"dataframe\">\n",
              "  <thead>\n",
              "    <tr style=\"text-align: right;\">\n",
              "      <th></th>\n",
              "      <th>image_name</th>\n",
              "      <th>tags</th>\n",
              "    </tr>\n",
              "  </thead>\n",
              "  <tbody>\n",
              "    <tr>\n",
              "      <th>0</th>\n",
              "      <td>train_0</td>\n",
              "      <td>haze primary</td>\n",
              "    </tr>\n",
              "    <tr>\n",
              "      <th>1</th>\n",
              "      <td>train_1</td>\n",
              "      <td>agriculture clear primary water</td>\n",
              "    </tr>\n",
              "    <tr>\n",
              "      <th>2</th>\n",
              "      <td>train_2</td>\n",
              "      <td>clear primary</td>\n",
              "    </tr>\n",
              "    <tr>\n",
              "      <th>3</th>\n",
              "      <td>train_3</td>\n",
              "      <td>clear primary</td>\n",
              "    </tr>\n",
              "    <tr>\n",
              "      <th>4</th>\n",
              "      <td>train_4</td>\n",
              "      <td>agriculture clear habitation primary road</td>\n",
              "    </tr>\n",
              "  </tbody>\n",
              "</table>\n",
              "</div>"
            ],
            "text/plain": [
              "  image_name                                       tags\n",
              "0    train_0                               haze primary\n",
              "1    train_1            agriculture clear primary water\n",
              "2    train_2                              clear primary\n",
              "3    train_3                              clear primary\n",
              "4    train_4  agriculture clear habitation primary road"
            ]
          },
          "metadata": {
            "tags": []
          },
          "execution_count": 12
        }
      ]
    },
    {
      "cell_type": "code",
      "metadata": {
        "id": "E0rEYYpyX0f7",
        "colab_type": "code",
        "colab": {
          "base_uri": "https://localhost:8080/",
          "height": 204
        },
        "outputId": "e98e04b5-d35f-4c25-8565-55996a591c61"
      },
      "source": [
        "#read the sample submission classes csv file and save a copy\n",
        "df_test_classes = pd.read_csv('/content/planet/planet/sample_submission.csv')\n",
        "df_test = df_test_classes.copy()\n",
        "df_test.head()"
      ],
      "execution_count": 13,
      "outputs": [
        {
          "output_type": "execute_result",
          "data": {
            "text/html": [
              "<div>\n",
              "<style scoped>\n",
              "    .dataframe tbody tr th:only-of-type {\n",
              "        vertical-align: middle;\n",
              "    }\n",
              "\n",
              "    .dataframe tbody tr th {\n",
              "        vertical-align: top;\n",
              "    }\n",
              "\n",
              "    .dataframe thead th {\n",
              "        text-align: right;\n",
              "    }\n",
              "</style>\n",
              "<table border=\"1\" class=\"dataframe\">\n",
              "  <thead>\n",
              "    <tr style=\"text-align: right;\">\n",
              "      <th></th>\n",
              "      <th>image_name</th>\n",
              "      <th>tags</th>\n",
              "    </tr>\n",
              "  </thead>\n",
              "  <tbody>\n",
              "    <tr>\n",
              "      <th>0</th>\n",
              "      <td>test_0</td>\n",
              "      <td>primary clear agriculture road water</td>\n",
              "    </tr>\n",
              "    <tr>\n",
              "      <th>1</th>\n",
              "      <td>test_1</td>\n",
              "      <td>primary clear agriculture road water</td>\n",
              "    </tr>\n",
              "    <tr>\n",
              "      <th>2</th>\n",
              "      <td>test_2</td>\n",
              "      <td>primary clear agriculture road water</td>\n",
              "    </tr>\n",
              "    <tr>\n",
              "      <th>3</th>\n",
              "      <td>test_3</td>\n",
              "      <td>primary clear agriculture road water</td>\n",
              "    </tr>\n",
              "    <tr>\n",
              "      <th>4</th>\n",
              "      <td>test_4</td>\n",
              "      <td>primary clear agriculture road water</td>\n",
              "    </tr>\n",
              "  </tbody>\n",
              "</table>\n",
              "</div>"
            ],
            "text/plain": [
              "  image_name                                  tags\n",
              "0     test_0  primary clear agriculture road water\n",
              "1     test_1  primary clear agriculture road water\n",
              "2     test_2  primary clear agriculture road water\n",
              "3     test_3  primary clear agriculture road water\n",
              "4     test_4  primary clear agriculture road water"
            ]
          },
          "metadata": {
            "tags": []
          },
          "execution_count": 13
        }
      ]
    },
    {
      "cell_type": "code",
      "metadata": {
        "id": "87dtd75YHWMr",
        "colab_type": "code",
        "colab": {
          "base_uri": "https://localhost:8080/",
          "height": 34
        },
        "outputId": "e1a17365-62bd-49e7-95a3-ef78e7e751ac"
      },
      "source": [
        "#total train data points\n",
        "!ls /content/planet/planet/train-jpg | wc -l"
      ],
      "execution_count": 14,
      "outputs": [
        {
          "output_type": "stream",
          "text": [
            "40479\n"
          ],
          "name": "stdout"
        }
      ]
    },
    {
      "cell_type": "code",
      "metadata": {
        "id": "tSofgF2HHXst",
        "colab_type": "code",
        "colab": {}
      },
      "source": [
        "test1 = !ls /content/planet/planet/test-jpg | wc -l\n",
        "test2 = !ls /content/test-jpg-additional/test-jpg-additional | wc -l\n",
        "assert df_test.shape[0] == float(test1[0])+float(test2[0])"
      ],
      "execution_count": 15,
      "outputs": []
    },
    {
      "cell_type": "code",
      "metadata": {
        "id": "Tup07igp4U-p",
        "colab_type": "code",
        "colab": {
          "base_uri": "https://localhost:8080/",
          "height": 306
        },
        "outputId": "602751e7-9baf-422c-e97b-28c912e8154c"
      },
      "source": [
        "#list of unique labels/tags \n",
        "labels = df_train['tags'].apply(lambda x: x.split(' '))\n",
        "from collections import Counter, defaultdict\n",
        "counts = defaultdict(int)\n",
        "for l in labels:\n",
        "    for l2 in l:\n",
        "        counts[l2] += 1\n",
        "               \n",
        "tag_list=list(counts.keys())\n",
        "tag_list "
      ],
      "execution_count": 16,
      "outputs": [
        {
          "output_type": "execute_result",
          "data": {
            "text/plain": [
              "['haze',\n",
              " 'primary',\n",
              " 'agriculture',\n",
              " 'clear',\n",
              " 'water',\n",
              " 'habitation',\n",
              " 'road',\n",
              " 'cultivation',\n",
              " 'slash_burn',\n",
              " 'cloudy',\n",
              " 'partly_cloudy',\n",
              " 'conventional_mine',\n",
              " 'bare_ground',\n",
              " 'artisinal_mine',\n",
              " 'blooming',\n",
              " 'selective_logging',\n",
              " 'blow_down']"
            ]
          },
          "metadata": {
            "tags": []
          },
          "execution_count": 16
        }
      ]
    },
    {
      "cell_type": "code",
      "metadata": {
        "id": "6Tga92KIHfXi",
        "colab_type": "code",
        "colab": {
          "base_uri": "https://localhost:8080/",
          "height": 34
        },
        "outputId": "93b4df49-ea0e-4699-fb86-09abc37db9f5"
      },
      "source": [
        "#total unique labels\n",
        "len(tag_list)"
      ],
      "execution_count": 17,
      "outputs": [
        {
          "output_type": "execute_result",
          "data": {
            "text/plain": [
              "17"
            ]
          },
          "metadata": {
            "tags": []
          },
          "execution_count": 17
        }
      ]
    },
    {
      "cell_type": "code",
      "metadata": {
        "id": "0O0QUHsMN_MR",
        "colab_type": "code",
        "colab": {
          "base_uri": "https://localhost:8080/",
          "height": 306
        },
        "outputId": "17dd69d1-738a-4210-978d-4f49d1e7370a"
      },
      "source": [
        "#assign numerical value to each label using dictionary\n",
        "label_map = {i:j for j, i in enumerate(tag_list)}\n",
        "label_map"
      ],
      "execution_count": 18,
      "outputs": [
        {
          "output_type": "execute_result",
          "data": {
            "text/plain": [
              "{'agriculture': 2,\n",
              " 'artisinal_mine': 13,\n",
              " 'bare_ground': 12,\n",
              " 'blooming': 14,\n",
              " 'blow_down': 16,\n",
              " 'clear': 3,\n",
              " 'cloudy': 9,\n",
              " 'conventional_mine': 11,\n",
              " 'cultivation': 7,\n",
              " 'habitation': 5,\n",
              " 'haze': 0,\n",
              " 'partly_cloudy': 10,\n",
              " 'primary': 1,\n",
              " 'road': 6,\n",
              " 'selective_logging': 15,\n",
              " 'slash_burn': 8,\n",
              " 'water': 4}"
            ]
          },
          "metadata": {
            "tags": []
          },
          "execution_count": 18
        }
      ]
    },
    {
      "cell_type": "code",
      "metadata": {
        "id": "-bVKXpRg6E_w",
        "colab_type": "code",
        "colab": {
          "base_uri": "https://localhost:8080/",
          "height": 34
        },
        "outputId": "4e81f825-a193-4938-fe25-2157a8f58242"
      },
      "source": [
        "# One hot encode the training labels. Convert the images into pixels and resize them\n",
        "X_train, Y_train = [], []\n",
        "for img, label in tqdm(df_train.values, miniters = 1000):\n",
        "  target = np.zeros(17)\n",
        "  for tag in label.split(' '):\n",
        "    target[label_map[tag]]=1\n",
        "  X_train.append(cv2.resize(cv2.imread('/content/planet/planet/train-jpg/{}.jpg'.format(img)), (64,64)))\n",
        "  Y_train.append(target)"
      ],
      "execution_count": 19,
      "outputs": [
        {
          "output_type": "stream",
          "text": [
            "100%|██████████| 40479/40479 [00:57<00:00, 701.39it/s]\n"
          ],
          "name": "stderr"
        }
      ]
    },
    {
      "cell_type": "code",
      "metadata": {
        "id": "SqjQoDvo6Oq_",
        "colab_type": "code",
        "colab": {
          "base_uri": "https://localhost:8080/",
          "height": 51
        },
        "outputId": "3f50e603-bfe9-4a32-e079-1d32aa6c66b6"
      },
      "source": [
        "#convert the test images to pixels and resize them as well\n",
        "X_test=[]\n",
        "for img, label in tqdm(df_test[:40669].values, miniters = 1000):\n",
        "  X_test.append(cv2.resize(cv2.imread('/content/planet/planet/test-jpg/{}.jpg'.format(img)), (64,64)))\n",
        "for img, label in tqdm(df_test[40669:].values, miniters = 1000):\n",
        "  X_test.append(cv2.resize(cv2.imread('/content/test-jpg-additional/test-jpg-additional/{}.jpg'.format(img)), (64,64)))\n",
        "x_test = np.array(X_test, np.float16)/255"
      ],
      "execution_count": 20,
      "outputs": [
        {
          "output_type": "stream",
          "text": [
            "100%|██████████| 40669/40669 [00:57<00:00, 701.90it/s]\n",
            "100%|██████████| 20522/20522 [00:27<00:00, 733.92it/s]\n"
          ],
          "name": "stderr"
        }
      ]
    },
    {
      "cell_type": "code",
      "metadata": {
        "id": "jUlX6nDqAOqY",
        "colab_type": "code",
        "colab": {
          "base_uri": "https://localhost:8080/",
          "height": 34
        },
        "outputId": "97e78a4b-1415-464a-f125-f5bf3b26706c"
      },
      "source": [
        "#Confirm the dimensions\n",
        "len(X_test), len(X_train), len(Y_train)"
      ],
      "execution_count": 21,
      "outputs": [
        {
          "output_type": "execute_result",
          "data": {
            "text/plain": [
              "(61191, 40479, 40479)"
            ]
          },
          "metadata": {
            "tags": []
          },
          "execution_count": 21
        }
      ]
    },
    {
      "cell_type": "code",
      "metadata": {
        "id": "emxwTLWAAUpA",
        "colab_type": "code",
        "colab": {
          "base_uri": "https://localhost:8080/",
          "height": 34
        },
        "outputId": "88ce7dda-76b5-4cdc-df06-7c06d1f4f514"
      },
      "source": [
        "import sys\n",
        "sys.getsizeof(X_train)"
      ],
      "execution_count": 22,
      "outputs": [
        {
          "output_type": "execute_result",
          "data": {
            "text/plain": [
              "361288"
            ]
          },
          "metadata": {
            "tags": []
          },
          "execution_count": 22
        }
      ]
    },
    {
      "cell_type": "code",
      "metadata": {
        "id": "FhQPqf_4AcGf",
        "colab_type": "code",
        "colab": {
          "base_uri": "https://localhost:8080/",
          "height": 34
        },
        "outputId": "bb32ac79-7628-4751-947e-ac1d8a45cbce"
      },
      "source": [
        "#Change lists to numpy arrays and normalize\n",
        "x_train = np.array(X_train, np.float16)/255\n",
        "y_train = np.array(Y_train, np.uint8)\n",
        "\n",
        "x_train, x_val, y_train, y_val = train_test_split(x_train, y_train, test_size = 0.2, shuffle = True, random_state = 1)\n",
        "\n",
        "print(x_train.shape, y_train.shape, x_val.shape, y_val.shape)"
      ],
      "execution_count": 23,
      "outputs": [
        {
          "output_type": "stream",
          "text": [
            "(32383, 64, 64, 3) (32383, 17) (8096, 64, 64, 3) (8096, 17)\n"
          ],
          "name": "stdout"
        }
      ]
    },
    {
      "cell_type": "code",
      "metadata": {
        "id": "RwK9nOnXC-Cr",
        "colab_type": "code",
        "colab": {}
      },
      "source": [
        "#delete X_test, X_train, Y_train to free up space\n",
        "del(X_test, X_train, Y_train)"
      ],
      "execution_count": 24,
      "outputs": []
    },
    {
      "cell_type": "code",
      "metadata": {
        "id": "X_x-4bxgC_gF",
        "colab_type": "code",
        "colab": {}
      },
      "source": [
        "#Split the data into 5 folds and train on 4 folds while validating on 1 fold\n",
        "\n",
        "yfull_test = []\n",
        "yfull_train = []\n",
        "X_train_, X_val_, Y_train_, Y_val_ = train_test_split(x_train, y_train, test_size = 0.2, random_state = 1)"
      ],
      "execution_count": 25,
      "outputs": []
    },
    {
      "cell_type": "code",
      "metadata": {
        "id": "8VBWgcfhDDyy",
        "colab_type": "code",
        "colab": {}
      },
      "source": [
        "#Build a CNN model\n",
        "from keras.applications.vgg19 import VGG19\n",
        "from keras.applications.vgg16 import VGG16\n",
        "from keras.optimizers import Adam, SGD\n",
        "\n",
        "input_size = 64\n",
        "input_channels = 3\n",
        "batch_size = 128\n",
        "\n",
        "# Add model parameters including dropout, layers and activation function\n",
        "base_model = VGG19(include_top=False,\n",
        "                   weights='imagenet',\n",
        "                   input_shape=(input_size, input_size, input_channels))\n",
        "\n",
        "model = Sequential()\n",
        "model.add(BatchNormalization(input_shape=(input_size, input_size, input_channels)))\n",
        "\n",
        "model.add(base_model)\n",
        "model.add(Flatten())\n",
        "model.add(Dropout(0.5))\n",
        "\n",
        "model.add(Dense(17, activation='sigmoid'))"
      ],
      "execution_count": 30,
      "outputs": []
    },
    {
      "cell_type": "code",
      "metadata": {
        "id": "5y8SkPkW0dcW",
        "colab_type": "code",
        "colab": {
          "base_uri": "https://localhost:8080/",
          "height": 323
        },
        "outputId": "e377a77e-8d5a-40a5-8d8b-951f9e030e61"
      },
      "source": [
        "# define model training optimizer parameters\n",
        "opt  = SGD(lr=0.1)\n",
        "model.compile(loss='binary_crossentropy',optimizer=opt, metrics=['accuracy'])\n",
        "callbacks = [EarlyStopping(monitor='val_loss', patience=2, verbose=0),\n",
        "                ModelCheckpoint(filepath='weights/best_weights',\n",
        "                                 save_best_only=True,\n",
        "                                 save_weights_only=True)]\n",
        "model.summary()\n",
        "\n",
        "\n"
      ],
      "execution_count": 31,
      "outputs": [
        {
          "output_type": "stream",
          "text": [
            "Model: \"sequential_1\"\n",
            "_________________________________________________________________\n",
            "Layer (type)                 Output Shape              Param #   \n",
            "=================================================================\n",
            "batch_normalization_1 (Batch (None, 64, 64, 3)         12        \n",
            "_________________________________________________________________\n",
            "vgg19 (Functional)           (None, 2, 2, 512)         20024384  \n",
            "_________________________________________________________________\n",
            "flatten_1 (Flatten)          (None, 2048)              0         \n",
            "_________________________________________________________________\n",
            "dropout_1 (Dropout)          (None, 2048)              0         \n",
            "_________________________________________________________________\n",
            "dense_1 (Dense)              (None, 17)                34833     \n",
            "=================================================================\n",
            "Total params: 20,059,229\n",
            "Trainable params: 20,059,223\n",
            "Non-trainable params: 6\n",
            "_________________________________________________________________\n"
          ],
          "name": "stdout"
        }
      ]
    },
    {
      "cell_type": "code",
      "metadata": {
        "id": "WMBuVIlMUH_J",
        "colab_type": "code",
        "colab": {
          "base_uri": "https://localhost:8080/",
          "height": 34
        },
        "outputId": "d6cb0741-f673-48ae-c7df-d6178af9ac80"
      },
      "source": [
        "gc.collect()"
      ],
      "execution_count": 32,
      "outputs": [
        {
          "output_type": "execute_result",
          "data": {
            "text/plain": [
              "2250"
            ]
          },
          "metadata": {
            "tags": []
          },
          "execution_count": 32
        }
      ]
    },
    {
      "cell_type": "code",
      "metadata": {
        "id": "i0Bb1exiCWcP",
        "colab_type": "code",
        "colab": {
          "base_uri": "https://localhost:8080/",
          "height": 377
        },
        "outputId": "ec8a79a6-b66f-4886-909e-e3cdf7574d9f"
      },
      "source": [
        "#Try a combination of epoch lengths and learning rates\n",
        "\n",
        "model.fit(x = X_train_, y= Y_train_, validation_data=(X_val_, Y_val_),batch_size=64,verbose=2, epochs=15,callbacks=callbacks,shuffle=True)\n",
        "\n",
        "p_val = model.predict(X_val_, batch_size = 64, verbose=2)\n",
        "print(fbeta_score(Y_val_, np.array(p_val) > 0.2, beta=2, average='samples')) #Check the model performance on the validation set\n",
        "\n",
        "p_train = model.predict(x_train, batch_size =64, verbose=2) #save the training predictions\n",
        "yfull_train.append(p_train)\n",
        "        \n",
        "p_test = model.predict(x_test, batch_size = 64, verbose=2) #save the test predictions\n",
        "yfull_test.append(p_test)"
      ],
      "execution_count": 33,
      "outputs": [
        {
          "output_type": "stream",
          "text": [
            "Epoch 1/15\n",
            "WARNING:tensorflow:Callbacks method `on_train_batch_end` is slow compared to the batch time (batch time: 0.0407s vs `on_train_batch_end` time: 0.0901s). Check your callbacks.\n",
            "405/405 - 42s - loss: 0.1503 - accuracy: 0.7126 - val_loss: 0.1138 - val_accuracy: 0.7877\n",
            "Epoch 2/15\n",
            "405/405 - 42s - loss: 0.1160 - accuracy: 0.7136 - val_loss: 0.1071 - val_accuracy: 0.8234\n",
            "Epoch 3/15\n",
            "405/405 - 42s - loss: 0.1067 - accuracy: 0.7249 - val_loss: 0.1193 - val_accuracy: 0.7876\n",
            "Epoch 4/15\n",
            "405/405 - 43s - loss: 0.1005 - accuracy: 0.7286 - val_loss: 0.1000 - val_accuracy: 0.8082\n",
            "Epoch 5/15\n",
            "405/405 - 43s - loss: 0.0956 - accuracy: 0.7181 - val_loss: 0.1060 - val_accuracy: 0.7876\n",
            "Epoch 6/15\n",
            "405/405 - 43s - loss: 0.0920 - accuracy: 0.7183 - val_loss: 0.1012 - val_accuracy: 0.6935\n",
            "WARNING:tensorflow:Callbacks method `on_predict_batch_end` is slow compared to the batch time (batch time: 0.0027s vs `on_predict_batch_end` time: 0.0214s). Check your callbacks.\n",
            "102/102 - 3s\n",
            "0.9160552063959413\n",
            "WARNING:tensorflow:Callbacks method `on_predict_batch_end` is slow compared to the batch time (batch time: 0.0029s vs `on_predict_batch_end` time: 0.0339s). Check your callbacks.\n",
            "506/506 - 15s\n",
            "WARNING:tensorflow:Callbacks method `on_predict_batch_end` is slow compared to the batch time (batch time: 0.0027s vs `on_predict_batch_end` time: 0.0339s). Check your callbacks.\n",
            "957/957 - 28s\n"
          ],
          "name": "stdout"
        }
      ]
    },
    {
      "cell_type": "code",
      "metadata": {
        "id": "1o5LORnjVtXE",
        "colab_type": "code",
        "colab": {
          "base_uri": "https://localhost:8080/",
          "height": 34
        },
        "outputId": "327a5e49-929e-4cd7-c6a6-6d77d726f28f"
      },
      "source": [
        "#import and initialise Garbage Collector\n",
        "import gc\n",
        "gc.collect()"
      ],
      "execution_count": 34,
      "outputs": [
        {
          "output_type": "execute_result",
          "data": {
            "text/plain": [
              "2975"
            ]
          },
          "metadata": {
            "tags": []
          },
          "execution_count": 34
        }
      ]
    },
    {
      "cell_type": "code",
      "metadata": {
        "id": "F4MGaGb5DJsT",
        "colab_type": "code",
        "colab": {
          "base_uri": "https://localhost:8080/",
          "height": 238
        },
        "outputId": "b3e824a6-f6c6-4b19-a3e5-5f449c2198ba"
      },
      "source": [
        "#make predictions\n",
        "predictions = model.predict(x_test, batch_size = 32)\n",
        "predictions"
      ],
      "execution_count": 35,
      "outputs": [
        {
          "output_type": "execute_result",
          "data": {
            "text/plain": [
              "array([[1.1306949e-03, 9.9946707e-01, 6.2640584e-03, ..., 3.5950769e-02,\n",
              "        1.1529802e-02, 2.6837015e-03],\n",
              "       [1.0489249e-03, 9.9919289e-01, 2.4084913e-02, ..., 1.9468985e-01,\n",
              "        1.3956206e-01, 2.1083890e-02],\n",
              "       [4.4831497e-04, 9.9914300e-01, 6.1285873e-03, ..., 9.3166926e-04,\n",
              "        4.2468921e-04, 5.7341682e-04],\n",
              "       ...,\n",
              "       [1.0891976e-04, 9.9991858e-01, 6.6224094e-03, ..., 3.3655821e-03,\n",
              "        6.4981068e-03, 8.9046179e-04],\n",
              "       [2.7970839e-02, 2.7485140e-02, 9.2835433e-04, ..., 4.6305775e-04,\n",
              "        1.1622526e-04, 1.6668806e-04],\n",
              "       [7.6004723e-03, 7.8394133e-01, 2.3010479e-01, ..., 6.1014411e-04,\n",
              "        6.7369253e-03, 1.3129408e-03]], dtype=float32)"
            ]
          },
          "metadata": {
            "tags": []
          },
          "execution_count": 35
        }
      ]
    },
    {
      "cell_type": "code",
      "metadata": {
        "id": "5SEAPkgHDOOr",
        "colab_type": "code",
        "colab": {
          "base_uri": "https://localhost:8080/",
          "height": 439
        },
        "outputId": "af6ee8a6-c2bf-4f7e-af4b-0525cd9bd9d9"
      },
      "source": [
        "#predictions dataframe\n",
        "pred = pd.DataFrame(predictions, columns =  tag_list)\n",
        "pred"
      ],
      "execution_count": 36,
      "outputs": [
        {
          "output_type": "execute_result",
          "data": {
            "text/html": [
              "<div>\n",
              "<style scoped>\n",
              "    .dataframe tbody tr th:only-of-type {\n",
              "        vertical-align: middle;\n",
              "    }\n",
              "\n",
              "    .dataframe tbody tr th {\n",
              "        vertical-align: top;\n",
              "    }\n",
              "\n",
              "    .dataframe thead th {\n",
              "        text-align: right;\n",
              "    }\n",
              "</style>\n",
              "<table border=\"1\" class=\"dataframe\">\n",
              "  <thead>\n",
              "    <tr style=\"text-align: right;\">\n",
              "      <th></th>\n",
              "      <th>haze</th>\n",
              "      <th>primary</th>\n",
              "      <th>agriculture</th>\n",
              "      <th>clear</th>\n",
              "      <th>water</th>\n",
              "      <th>habitation</th>\n",
              "      <th>road</th>\n",
              "      <th>cultivation</th>\n",
              "      <th>slash_burn</th>\n",
              "      <th>cloudy</th>\n",
              "      <th>partly_cloudy</th>\n",
              "      <th>conventional_mine</th>\n",
              "      <th>bare_ground</th>\n",
              "      <th>artisinal_mine</th>\n",
              "      <th>blooming</th>\n",
              "      <th>selective_logging</th>\n",
              "      <th>blow_down</th>\n",
              "    </tr>\n",
              "  </thead>\n",
              "  <tbody>\n",
              "    <tr>\n",
              "      <th>0</th>\n",
              "      <td>0.001131</td>\n",
              "      <td>0.999467</td>\n",
              "      <td>0.006264</td>\n",
              "      <td>0.995945</td>\n",
              "      <td>0.008599</td>\n",
              "      <td>0.001424</td>\n",
              "      <td>0.007473</td>\n",
              "      <td>0.002677</td>\n",
              "      <td>0.000557</td>\n",
              "      <td>0.000428</td>\n",
              "      <td>0.001673</td>\n",
              "      <td>0.000153</td>\n",
              "      <td>0.000760</td>\n",
              "      <td>0.000183</td>\n",
              "      <td>0.035951</td>\n",
              "      <td>0.011530</td>\n",
              "      <td>0.002684</td>\n",
              "    </tr>\n",
              "    <tr>\n",
              "      <th>1</th>\n",
              "      <td>0.001049</td>\n",
              "      <td>0.999193</td>\n",
              "      <td>0.024085</td>\n",
              "      <td>0.995202</td>\n",
              "      <td>0.016324</td>\n",
              "      <td>0.004217</td>\n",
              "      <td>0.028485</td>\n",
              "      <td>0.013040</td>\n",
              "      <td>0.002672</td>\n",
              "      <td>0.000865</td>\n",
              "      <td>0.005215</td>\n",
              "      <td>0.000788</td>\n",
              "      <td>0.002236</td>\n",
              "      <td>0.000974</td>\n",
              "      <td>0.194690</td>\n",
              "      <td>0.139562</td>\n",
              "      <td>0.021084</td>\n",
              "    </tr>\n",
              "    <tr>\n",
              "      <th>2</th>\n",
              "      <td>0.000448</td>\n",
              "      <td>0.999143</td>\n",
              "      <td>0.006129</td>\n",
              "      <td>0.001229</td>\n",
              "      <td>0.020403</td>\n",
              "      <td>0.000798</td>\n",
              "      <td>0.010377</td>\n",
              "      <td>0.001033</td>\n",
              "      <td>0.000232</td>\n",
              "      <td>0.000927</td>\n",
              "      <td>0.998709</td>\n",
              "      <td>0.000223</td>\n",
              "      <td>0.000182</td>\n",
              "      <td>0.000090</td>\n",
              "      <td>0.000932</td>\n",
              "      <td>0.000425</td>\n",
              "      <td>0.000573</td>\n",
              "    </tr>\n",
              "    <tr>\n",
              "      <th>3</th>\n",
              "      <td>0.002392</td>\n",
              "      <td>0.999392</td>\n",
              "      <td>0.296874</td>\n",
              "      <td>0.970950</td>\n",
              "      <td>0.025146</td>\n",
              "      <td>0.010095</td>\n",
              "      <td>0.028197</td>\n",
              "      <td>0.177806</td>\n",
              "      <td>0.005437</td>\n",
              "      <td>0.000434</td>\n",
              "      <td>0.024986</td>\n",
              "      <td>0.000911</td>\n",
              "      <td>0.007634</td>\n",
              "      <td>0.000732</td>\n",
              "      <td>0.039913</td>\n",
              "      <td>0.017523</td>\n",
              "      <td>0.010767</td>\n",
              "    </tr>\n",
              "    <tr>\n",
              "      <th>4</th>\n",
              "      <td>0.006546</td>\n",
              "      <td>0.369935</td>\n",
              "      <td>0.020431</td>\n",
              "      <td>0.004764</td>\n",
              "      <td>0.053703</td>\n",
              "      <td>0.003008</td>\n",
              "      <td>0.015600</td>\n",
              "      <td>0.002950</td>\n",
              "      <td>0.000729</td>\n",
              "      <td>0.642584</td>\n",
              "      <td>0.428842</td>\n",
              "      <td>0.000498</td>\n",
              "      <td>0.003314</td>\n",
              "      <td>0.000504</td>\n",
              "      <td>0.001570</td>\n",
              "      <td>0.000912</td>\n",
              "      <td>0.000769</td>\n",
              "    </tr>\n",
              "    <tr>\n",
              "      <th>...</th>\n",
              "      <td>...</td>\n",
              "      <td>...</td>\n",
              "      <td>...</td>\n",
              "      <td>...</td>\n",
              "      <td>...</td>\n",
              "      <td>...</td>\n",
              "      <td>...</td>\n",
              "      <td>...</td>\n",
              "      <td>...</td>\n",
              "      <td>...</td>\n",
              "      <td>...</td>\n",
              "      <td>...</td>\n",
              "      <td>...</td>\n",
              "      <td>...</td>\n",
              "      <td>...</td>\n",
              "      <td>...</td>\n",
              "      <td>...</td>\n",
              "    </tr>\n",
              "    <tr>\n",
              "      <th>61186</th>\n",
              "      <td>0.005901</td>\n",
              "      <td>0.103889</td>\n",
              "      <td>0.002304</td>\n",
              "      <td>0.004594</td>\n",
              "      <td>0.010129</td>\n",
              "      <td>0.001083</td>\n",
              "      <td>0.001995</td>\n",
              "      <td>0.000446</td>\n",
              "      <td>0.000343</td>\n",
              "      <td>0.871321</td>\n",
              "      <td>0.110685</td>\n",
              "      <td>0.000277</td>\n",
              "      <td>0.000724</td>\n",
              "      <td>0.000248</td>\n",
              "      <td>0.001003</td>\n",
              "      <td>0.000284</td>\n",
              "      <td>0.000304</td>\n",
              "    </tr>\n",
              "    <tr>\n",
              "      <th>61187</th>\n",
              "      <td>0.000659</td>\n",
              "      <td>0.999195</td>\n",
              "      <td>0.047156</td>\n",
              "      <td>0.998061</td>\n",
              "      <td>0.998677</td>\n",
              "      <td>0.024974</td>\n",
              "      <td>0.028971</td>\n",
              "      <td>0.011260</td>\n",
              "      <td>0.000875</td>\n",
              "      <td>0.000266</td>\n",
              "      <td>0.000700</td>\n",
              "      <td>0.000245</td>\n",
              "      <td>0.005330</td>\n",
              "      <td>0.001116</td>\n",
              "      <td>0.003246</td>\n",
              "      <td>0.006791</td>\n",
              "      <td>0.001475</td>\n",
              "    </tr>\n",
              "    <tr>\n",
              "      <th>61188</th>\n",
              "      <td>0.000109</td>\n",
              "      <td>0.999919</td>\n",
              "      <td>0.006622</td>\n",
              "      <td>0.999623</td>\n",
              "      <td>0.322051</td>\n",
              "      <td>0.000664</td>\n",
              "      <td>0.085446</td>\n",
              "      <td>0.001296</td>\n",
              "      <td>0.000235</td>\n",
              "      <td>0.000025</td>\n",
              "      <td>0.000099</td>\n",
              "      <td>0.000056</td>\n",
              "      <td>0.000741</td>\n",
              "      <td>0.000087</td>\n",
              "      <td>0.003366</td>\n",
              "      <td>0.006498</td>\n",
              "      <td>0.000890</td>\n",
              "    </tr>\n",
              "    <tr>\n",
              "      <th>61189</th>\n",
              "      <td>0.027971</td>\n",
              "      <td>0.027485</td>\n",
              "      <td>0.000928</td>\n",
              "      <td>0.004013</td>\n",
              "      <td>0.005042</td>\n",
              "      <td>0.000506</td>\n",
              "      <td>0.000524</td>\n",
              "      <td>0.000164</td>\n",
              "      <td>0.000222</td>\n",
              "      <td>0.967473</td>\n",
              "      <td>0.001843</td>\n",
              "      <td>0.000181</td>\n",
              "      <td>0.000410</td>\n",
              "      <td>0.000065</td>\n",
              "      <td>0.000463</td>\n",
              "      <td>0.000116</td>\n",
              "      <td>0.000167</td>\n",
              "    </tr>\n",
              "    <tr>\n",
              "      <th>61190</th>\n",
              "      <td>0.007600</td>\n",
              "      <td>0.783941</td>\n",
              "      <td>0.230105</td>\n",
              "      <td>0.986124</td>\n",
              "      <td>0.125716</td>\n",
              "      <td>0.996391</td>\n",
              "      <td>0.992137</td>\n",
              "      <td>0.014590</td>\n",
              "      <td>0.000761</td>\n",
              "      <td>0.002982</td>\n",
              "      <td>0.006041</td>\n",
              "      <td>0.003950</td>\n",
              "      <td>0.036142</td>\n",
              "      <td>0.001935</td>\n",
              "      <td>0.000610</td>\n",
              "      <td>0.006737</td>\n",
              "      <td>0.001313</td>\n",
              "    </tr>\n",
              "  </tbody>\n",
              "</table>\n",
              "<p>61191 rows × 17 columns</p>\n",
              "</div>"
            ],
            "text/plain": [
              "           haze   primary  agriculture  ...  blooming  selective_logging  blow_down\n",
              "0      0.001131  0.999467     0.006264  ...  0.035951           0.011530   0.002684\n",
              "1      0.001049  0.999193     0.024085  ...  0.194690           0.139562   0.021084\n",
              "2      0.000448  0.999143     0.006129  ...  0.000932           0.000425   0.000573\n",
              "3      0.002392  0.999392     0.296874  ...  0.039913           0.017523   0.010767\n",
              "4      0.006546  0.369935     0.020431  ...  0.001570           0.000912   0.000769\n",
              "...         ...       ...          ...  ...       ...                ...        ...\n",
              "61186  0.005901  0.103889     0.002304  ...  0.001003           0.000284   0.000304\n",
              "61187  0.000659  0.999195     0.047156  ...  0.003246           0.006791   0.001475\n",
              "61188  0.000109  0.999919     0.006622  ...  0.003366           0.006498   0.000890\n",
              "61189  0.027971  0.027485     0.000928  ...  0.000463           0.000116   0.000167\n",
              "61190  0.007600  0.783941     0.230105  ...  0.000610           0.006737   0.001313\n",
              "\n",
              "[61191 rows x 17 columns]"
            ]
          },
          "metadata": {
            "tags": []
          },
          "execution_count": 36
        }
      ]
    },
    {
      "cell_type": "code",
      "metadata": {
        "id": "MsqOMDkb7C64",
        "colab_type": "code",
        "colab": {
          "base_uri": "https://localhost:8080/",
          "height": 34
        },
        "outputId": "c0075078-10c0-45d1-e1f8-309c1dc50705"
      },
      "source": [
        "#Write a loop to assign each value to its predicted label\n",
        "preds = []\n",
        "for i in tqdm(range(pred.shape[0]), miniters=1000):\n",
        "    a = pred.iloc[[i]]\n",
        "    a = a.apply(lambda x: x > 0.2, axis=1)\n",
        "    a = a.transpose()\n",
        "    a = a.loc[a[i] == True]\n",
        "    ' '.join(list(a.index))\n",
        "    preds.append(' '.join(list(a.index)))"
      ],
      "execution_count": 37,
      "outputs": [
        {
          "output_type": "stream",
          "text": [
            "100%|██████████| 61191/61191 [02:48<00:00, 362.56it/s]\n"
          ],
          "name": "stderr"
        }
      ]
    },
    {
      "cell_type": "code",
      "metadata": {
        "id": "adQc52xJ7Kyr",
        "colab_type": "code",
        "colab": {
          "base_uri": "https://localhost:8080/",
          "height": 204
        },
        "outputId": "9bf1b2e6-56ee-47bc-83fd-97b521af8b6b"
      },
      "source": [
        "#Assign the predictions to the tags column of the df_test data frame\n",
        "df_test['tags'] = preds \n",
        "df_test.to_csv('uthman_12th_Submission.csv', index = False) #Export to csv\n",
        "df_test.head()"
      ],
      "execution_count": 38,
      "outputs": [
        {
          "output_type": "execute_result",
          "data": {
            "text/html": [
              "<div>\n",
              "<style scoped>\n",
              "    .dataframe tbody tr th:only-of-type {\n",
              "        vertical-align: middle;\n",
              "    }\n",
              "\n",
              "    .dataframe tbody tr th {\n",
              "        vertical-align: top;\n",
              "    }\n",
              "\n",
              "    .dataframe thead th {\n",
              "        text-align: right;\n",
              "    }\n",
              "</style>\n",
              "<table border=\"1\" class=\"dataframe\">\n",
              "  <thead>\n",
              "    <tr style=\"text-align: right;\">\n",
              "      <th></th>\n",
              "      <th>image_name</th>\n",
              "      <th>tags</th>\n",
              "    </tr>\n",
              "  </thead>\n",
              "  <tbody>\n",
              "    <tr>\n",
              "      <th>0</th>\n",
              "      <td>test_0</td>\n",
              "      <td>primary clear</td>\n",
              "    </tr>\n",
              "    <tr>\n",
              "      <th>1</th>\n",
              "      <td>test_1</td>\n",
              "      <td>primary clear</td>\n",
              "    </tr>\n",
              "    <tr>\n",
              "      <th>2</th>\n",
              "      <td>test_2</td>\n",
              "      <td>primary partly_cloudy</td>\n",
              "    </tr>\n",
              "    <tr>\n",
              "      <th>3</th>\n",
              "      <td>test_3</td>\n",
              "      <td>primary agriculture clear</td>\n",
              "    </tr>\n",
              "    <tr>\n",
              "      <th>4</th>\n",
              "      <td>test_4</td>\n",
              "      <td>primary cloudy partly_cloudy</td>\n",
              "    </tr>\n",
              "  </tbody>\n",
              "</table>\n",
              "</div>"
            ],
            "text/plain": [
              "  image_name                          tags\n",
              "0     test_0                 primary clear\n",
              "1     test_1                 primary clear\n",
              "2     test_2         primary partly_cloudy\n",
              "3     test_3     primary agriculture clear\n",
              "4     test_4  primary cloudy partly_cloudy"
            ]
          },
          "metadata": {
            "tags": []
          },
          "execution_count": 38
        }
      ]
    },
    {
      "cell_type": "code",
      "metadata": {
        "id": "8mxZsUvjf14t",
        "colab_type": "code",
        "colab": {
          "base_uri": "https://localhost:8080/",
          "height": 17
        },
        "outputId": "e579790a-5420-46e8-84c6-eaf7454489a9"
      },
      "source": [
        "#download submission file\n",
        "from google.colab import files\n",
        "files.download('uthman_12th_Submission.csv')"
      ],
      "execution_count": 39,
      "outputs": [
        {
          "output_type": "display_data",
          "data": {
            "application/javascript": [
              "\n",
              "    async function download(id, filename, size) {\n",
              "      if (!google.colab.kernel.accessAllowed) {\n",
              "        return;\n",
              "      }\n",
              "      const div = document.createElement('div');\n",
              "      const label = document.createElement('label');\n",
              "      label.textContent = `Downloading \"${filename}\": `;\n",
              "      div.appendChild(label);\n",
              "      const progress = document.createElement('progress');\n",
              "      progress.max = size;\n",
              "      div.appendChild(progress);\n",
              "      document.body.appendChild(div);\n",
              "\n",
              "      const buffers = [];\n",
              "      let downloaded = 0;\n",
              "\n",
              "      const channel = await google.colab.kernel.comms.open(id);\n",
              "      // Send a message to notify the kernel that we're ready.\n",
              "      channel.send({})\n",
              "\n",
              "      for await (const message of channel.messages) {\n",
              "        // Send a message to notify the kernel that we're ready.\n",
              "        channel.send({})\n",
              "        if (message.buffers) {\n",
              "          for (const buffer of message.buffers) {\n",
              "            buffers.push(buffer);\n",
              "            downloaded += buffer.byteLength;\n",
              "            progress.value = downloaded;\n",
              "          }\n",
              "        }\n",
              "      }\n",
              "      const blob = new Blob(buffers, {type: 'application/binary'});\n",
              "      const a = document.createElement('a');\n",
              "      a.href = window.URL.createObjectURL(blob);\n",
              "      a.download = filename;\n",
              "      div.appendChild(a);\n",
              "      a.click();\n",
              "      div.remove();\n",
              "    }\n",
              "  "
            ],
            "text/plain": [
              "<IPython.core.display.Javascript object>"
            ]
          },
          "metadata": {
            "tags": []
          }
        },
        {
          "output_type": "display_data",
          "data": {
            "application/javascript": [
              "download(\"download_75a27eb5-eee9-47d5-b368-fb5251f5c5f4\", \"uthman_12th_Submission.csv\", 2343530)"
            ],
            "text/plain": [
              "<IPython.core.display.Javascript object>"
            ]
          },
          "metadata": {
            "tags": []
          }
        }
      ]
    },
    {
      "cell_type": "code",
      "metadata": {
        "id": "7RWAQwPLgfLA",
        "colab_type": "code",
        "colab": {}
      },
      "source": [
        ""
      ],
      "execution_count": 39,
      "outputs": []
    }
  ]
}