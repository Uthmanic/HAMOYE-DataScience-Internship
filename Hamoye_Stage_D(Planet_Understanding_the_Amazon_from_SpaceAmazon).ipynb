{
  "nbformat": 4,
  "nbformat_minor": 0,
  "metadata": {
    "colab": {
      "name": "Hamoye_Stage D(Planet: Understanding the Amazon from SpaceAmazon).ipynb",
      "provenance": [],
      "collapsed_sections": [],
      "include_colab_link": true
    },
    "kernelspec": {
      "name": "python3",
      "display_name": "Python 3"
    },
    "accelerator": "GPU"
  },
  "cells": [
    {
      "cell_type": "markdown",
      "metadata": {
        "id": "view-in-github",
        "colab_type": "text"
      },
      "source": [
        "<a href=\"https://colab.research.google.com/github/Uthmanic/HAMOYE-DataScience-Internship/blob/master/Hamoye_Stage_D(Planet_Understanding_the_Amazon_from_SpaceAmazon).ipynb\" target=\"_parent\"><img src=\"https://colab.research.google.com/assets/colab-badge.svg\" alt=\"Open In Colab\"/></a>"
      ]
    },
    {
      "cell_type": "code",
      "metadata": {
        "id": "smgBbZPTyzYD",
        "colab_type": "code",
        "colab": {
          "base_uri": "https://localhost:8080/",
          "height": 221
        },
        "outputId": "34878463-fc5f-4f76-e97f-2f4902831d62"
      },
      "source": [
        "#install kaggle\n",
        "!pip install kaggle"
      ],
      "execution_count": 1,
      "outputs": [
        {
          "output_type": "stream",
          "text": [
            "Requirement already satisfied: kaggle in /usr/local/lib/python3.6/dist-packages (1.5.8)\n",
            "Requirement already satisfied: python-slugify in /usr/local/lib/python3.6/dist-packages (from kaggle) (4.0.1)\n",
            "Requirement already satisfied: certifi in /usr/local/lib/python3.6/dist-packages (from kaggle) (2020.6.20)\n",
            "Requirement already satisfied: six>=1.10 in /usr/local/lib/python3.6/dist-packages (from kaggle) (1.15.0)\n",
            "Requirement already satisfied: requests in /usr/local/lib/python3.6/dist-packages (from kaggle) (2.23.0)\n",
            "Requirement already satisfied: slugify in /usr/local/lib/python3.6/dist-packages (from kaggle) (0.0.1)\n",
            "Requirement already satisfied: tqdm in /usr/local/lib/python3.6/dist-packages (from kaggle) (4.41.1)\n",
            "Requirement already satisfied: urllib3<1.25,>=1.21.1 in /usr/local/lib/python3.6/dist-packages (from kaggle) (1.24.3)\n",
            "Requirement already satisfied: python-dateutil in /usr/local/lib/python3.6/dist-packages (from kaggle) (2.8.1)\n",
            "Requirement already satisfied: text-unidecode>=1.3 in /usr/local/lib/python3.6/dist-packages (from python-slugify->kaggle) (1.3)\n",
            "Requirement already satisfied: chardet<4,>=3.0.2 in /usr/local/lib/python3.6/dist-packages (from requests->kaggle) (3.0.4)\n",
            "Requirement already satisfied: idna<3,>=2.5 in /usr/local/lib/python3.6/dist-packages (from requests->kaggle) (2.10)\n"
          ],
          "name": "stdout"
        }
      ]
    },
    {
      "cell_type": "code",
      "metadata": {
        "id": "O8UUzeqTzKZi",
        "colab_type": "code",
        "colab": {
          "base_uri": "https://localhost:8080/",
          "height": 34
        },
        "outputId": "3d00ed65-ab5b-48ee-9da1-e335e4ae7361"
      },
      "source": [
        "!mkdir .kaggle"
      ],
      "execution_count": 2,
      "outputs": [
        {
          "output_type": "stream",
          "text": [
            "mkdir: cannot create directory ‘.kaggle’: File exists\n"
          ],
          "name": "stdout"
        }
      ]
    },
    {
      "cell_type": "code",
      "metadata": {
        "id": "7YdEvA42zP56",
        "colab_type": "code",
        "colab": {}
      },
      "source": [
        "import json\n",
        "token = {\"username\":\"tijaniuthman\",\"key\":\"42a091ba934aa0b6d9ef884eb7f52567\"}\n",
        "with open('/content/.kaggle/kaggle.json', 'w') as file:\n",
        "    json.dump(token, file)"
      ],
      "execution_count": 3,
      "outputs": []
    },
    {
      "cell_type": "code",
      "metadata": {
        "id": "_Huo15CLzl2d",
        "colab_type": "code",
        "colab": {}
      },
      "source": [
        "!cp /content/.kaggle/kaggle.json ~/.kaggle/kaggle.json"
      ],
      "execution_count": 4,
      "outputs": []
    },
    {
      "cell_type": "code",
      "metadata": {
        "id": "PMfiq9Vyzthe",
        "colab_type": "code",
        "colab": {
          "base_uri": "https://localhost:8080/",
          "height": 34
        },
        "outputId": "6b803c2f-6027-420d-fc93-6661714fb7e4"
      },
      "source": [
        "!kaggle config set -n path -v{/content}"
      ],
      "execution_count": 5,
      "outputs": [
        {
          "output_type": "stream",
          "text": [
            "- path is now set to: {/content}\n"
          ],
          "name": "stdout"
        }
      ]
    },
    {
      "cell_type": "code",
      "metadata": {
        "id": "zhFqIRSIz2_o",
        "colab_type": "code",
        "colab": {}
      },
      "source": [
        "!chmod 600 /root/.kaggle/kaggle.json"
      ],
      "execution_count": 6,
      "outputs": []
    },
    {
      "cell_type": "code",
      "metadata": {
        "id": "U8WFvA8B01fN",
        "colab_type": "code",
        "colab": {
          "base_uri": "https://localhost:8080/",
          "height": 374
        },
        "outputId": "d276d603-fae7-4fcf-8a47-5085570c38d6"
      },
      "source": [
        "#search for the dataset \n",
        "!kaggle datasets list -s planets-dataset"
      ],
      "execution_count": 7,
      "outputs": [
        {
          "output_type": "stream",
          "text": [
            "Warning: Looks like you're using an outdated API Version, please consider updating (server 1.5.6 / client 1.5.4)\n",
            "ref                                               title                                     size  lastUpdated          downloadCount  \n",
            "------------------------------------------------  ---------------------------------------  -----  -------------------  -------------  \n",
            "nikitarom/planets-dataset                         planets_dataset                            1GB  2020-02-09 22:01:31           1950  \n",
            "mrisdal/open-exoplanet-catalogue                  Open Exoplanet Catalogue                 123KB  2017-06-08 19:59:22           2805  \n",
            "eduardowoj/exoplanets-database                    Exoplanets Database                      281KB  2018-02-28 20:56:05            852  \n",
            "muhakabartay/markmarkohkeplerconfirmedplanets     Kepler Confirmed Planets                 521KB  2019-12-26 20:08:20             17  \n",
            "nasa/kepler-exoplanet-search-results              Kepler Exoplanet Search Results            1MB  2017-10-10 18:26:59           4014  \n",
            "jsphyg/star-wars                                  Star Wars                                 10KB  2019-07-08 12:53:05           1431  \n",
            "aradzhabov/earthquakes-solar-system-objects       Earthquakes <-?-> Solar System objects?    2MB  2017-04-22 21:42:59            839  \n",
            "keplersmachines/kepler-labelled-time-series-data  Exoplanet Hunting in Deep Space           56MB  2017-04-12 16:34:18           6882  \n",
            "scoleman/spacex-launch-data                       SpaceX Launch Data                         2KB  2018-06-14 03:01:05           1407  \n",
            "nasa/trappist1                                    Trappist-1 Solar System                    1KB  2017-02-23 18:11:03            416  \n",
            "fatihhazir/planets                                Planets                                   10KB  2020-07-20 14:06:52              4  \n",
            "markmarkoh/near-earth-asteroids                   Near Earth Asteroids                      18KB  2016-10-05 17:01:46            160  \n",
            "moiraghif/exoplanets                              exoplanets                                 4MB  2018-12-06 14:49:07             33  \n",
            "ukveteran/exoplanets-data                         Exoplanets Data                            1KB  2019-12-30 20:38:42              2  \n",
            "uzairwali/exoplanetsflux                          ExoPlanetsFlux                            56MB  2019-04-03 11:40:11             17  \n",
            "canthonyaustin/cneos-neo-earth-close-approaches   CNEOS NEO Earth Close Approaches           5KB  2020-07-22 22:22:59              3  \n",
            "kazeev/idao2019muonid                             IDAO-2019-MuonID                            0B  2019-01-28 14:46:32             70  \n",
            "jaredsavage/solar-system-major-bodies-data        Solar System major bodies data            22KB  2020-05-23 15:41:48             42  \n"
          ],
          "name": "stdout"
        }
      ]
    },
    {
      "cell_type": "code",
      "metadata": {
        "id": "EwFN-X9b1l6V",
        "colab_type": "code",
        "colab": {
          "base_uri": "https://localhost:8080/",
          "height": 34
        },
        "outputId": "e92c62ef-4313-4b48-b8a7-d9d890822922"
      },
      "source": [
        "#download dataset\n",
        "!kaggle datasets download -d nikitarom/planets-dataset -p /content"
      ],
      "execution_count": 8,
      "outputs": [
        {
          "output_type": "stream",
          "text": [
            "planets-dataset.zip: Skipping, found more recently modified local copy (use --force to force download)\n"
          ],
          "name": "stdout"
        }
      ]
    },
    {
      "cell_type": "code",
      "metadata": {
        "id": "l-LS_OUE173W",
        "colab_type": "code",
        "colab": {}
      },
      "source": [
        "#unzip the dataset\n",
        "%%capture\n",
        "!unzip \\*.zip"
      ],
      "execution_count": 9,
      "outputs": []
    },
    {
      "cell_type": "code",
      "metadata": {
        "id": "tsvjFsDc1_3R",
        "colab_type": "code",
        "colab": {
          "base_uri": "https://localhost:8080/",
          "height": 71
        },
        "outputId": "6017b631-d2fe-4436-f5d9-f8cd65b89ade"
      },
      "source": [
        "#Import necessary libraries\n",
        "import numpy as np # linear algebra\n",
        "import pandas as pd # data processing, CSV file I/O (e.g. pd.read_csv)\n",
        "import os\n",
        "import gc\n",
        "import matplotlib.pyplot as plt\n",
        "import seaborn as sns\n",
        "from tensorflow.keras.preprocessing.image import load_img, img_to_array\n",
        "from sklearn.metrics import fbeta_score\n",
        "from tqdm import tqdm\n",
        "import cv2\n",
        "from PIL import Image\n",
        "from tensorflow import keras\n",
        "from keras.models import Sequential\n",
        "from keras.layers import Dense, Dropout, Flatten\n",
        "from keras.layers import Conv2D, MaxPooling2D, BatchNormalization\n",
        "from keras.callbacks import EarlyStopping, ModelCheckpoint\n",
        "from keras import optimizers\n",
        "\n",
        "from sklearn.model_selection import KFold, train_test_split\n",
        "from sklearn.metrics import fbeta_score\n",
        "import time\n",
        "%matplotlib inline\n",
        "\n",
        "pal = sns.color_palette()\n",
        "\n",
        "import plotly.offline as py\n",
        "py.init_notebook_mode(connected=True)\n",
        "import plotly.graph_objs as go\n",
        "import plotly.tools as tls"
      ],
      "execution_count": 10,
      "outputs": [
        {
          "output_type": "stream",
          "text": [
            "/usr/local/lib/python3.6/dist-packages/statsmodels/tools/_testing.py:19: FutureWarning: pandas.util.testing is deprecated. Use the functions in the public API at pandas.testing instead.\n",
            "  import pandas.util.testing as tm\n"
          ],
          "name": "stderr"
        },
        {
          "output_type": "display_data",
          "data": {
            "text/html": [
              "        <script type=\"text/javascript\">\n",
              "        window.PlotlyConfig = {MathJaxConfig: 'local'};\n",
              "        if (window.MathJax) {MathJax.Hub.Config({SVG: {font: \"STIX-Web\"}});}\n",
              "        if (typeof require !== 'undefined') {\n",
              "        require.undef(\"plotly\");\n",
              "        requirejs.config({\n",
              "            paths: {\n",
              "                'plotly': ['https://cdn.plot.ly/plotly-latest.min']\n",
              "            }\n",
              "        });\n",
              "        require(['plotly'], function(Plotly) {\n",
              "            window._Plotly = Plotly;\n",
              "        });\n",
              "        }\n",
              "        </script>\n",
              "        "
            ]
          },
          "metadata": {
            "tags": []
          }
        }
      ]
    },
    {
      "cell_type": "code",
      "metadata": {
        "id": "myCVksuu5o-I",
        "colab_type": "code",
        "colab": {
          "base_uri": "https://localhost:8080/",
          "height": 34
        },
        "outputId": "260e0ea1-d301-43a2-9d4c-f2e8e5b711b3"
      },
      "source": [
        "#check present working directory\n",
        "! pwd"
      ],
      "execution_count": 11,
      "outputs": [
        {
          "output_type": "stream",
          "text": [
            "/content\n"
          ],
          "name": "stdout"
        }
      ]
    },
    {
      "cell_type": "code",
      "metadata": {
        "id": "l7koKOSh2ZZG",
        "colab_type": "code",
        "colab": {
          "base_uri": "https://localhost:8080/",
          "height": 204
        },
        "outputId": "90e10b02-829e-4a55-acbd-8036b4c549e9"
      },
      "source": [
        "#read the train classes csv file and save a copy\n",
        "df_train_classes= pd.read_csv('/content/planet/planet/train_classes.csv')\n",
        "df_train = df_train_classes.copy()\n",
        "df_train.head()"
      ],
      "execution_count": 12,
      "outputs": [
        {
          "output_type": "execute_result",
          "data": {
            "text/html": [
              "<div>\n",
              "<style scoped>\n",
              "    .dataframe tbody tr th:only-of-type {\n",
              "        vertical-align: middle;\n",
              "    }\n",
              "\n",
              "    .dataframe tbody tr th {\n",
              "        vertical-align: top;\n",
              "    }\n",
              "\n",
              "    .dataframe thead th {\n",
              "        text-align: right;\n",
              "    }\n",
              "</style>\n",
              "<table border=\"1\" class=\"dataframe\">\n",
              "  <thead>\n",
              "    <tr style=\"text-align: right;\">\n",
              "      <th></th>\n",
              "      <th>image_name</th>\n",
              "      <th>tags</th>\n",
              "    </tr>\n",
              "  </thead>\n",
              "  <tbody>\n",
              "    <tr>\n",
              "      <th>0</th>\n",
              "      <td>train_0</td>\n",
              "      <td>haze primary</td>\n",
              "    </tr>\n",
              "    <tr>\n",
              "      <th>1</th>\n",
              "      <td>train_1</td>\n",
              "      <td>agriculture clear primary water</td>\n",
              "    </tr>\n",
              "    <tr>\n",
              "      <th>2</th>\n",
              "      <td>train_2</td>\n",
              "      <td>clear primary</td>\n",
              "    </tr>\n",
              "    <tr>\n",
              "      <th>3</th>\n",
              "      <td>train_3</td>\n",
              "      <td>clear primary</td>\n",
              "    </tr>\n",
              "    <tr>\n",
              "      <th>4</th>\n",
              "      <td>train_4</td>\n",
              "      <td>agriculture clear habitation primary road</td>\n",
              "    </tr>\n",
              "  </tbody>\n",
              "</table>\n",
              "</div>"
            ],
            "text/plain": [
              "  image_name                                       tags\n",
              "0    train_0                               haze primary\n",
              "1    train_1            agriculture clear primary water\n",
              "2    train_2                              clear primary\n",
              "3    train_3                              clear primary\n",
              "4    train_4  agriculture clear habitation primary road"
            ]
          },
          "metadata": {
            "tags": []
          },
          "execution_count": 12
        }
      ]
    },
    {
      "cell_type": "code",
      "metadata": {
        "id": "E0rEYYpyX0f7",
        "colab_type": "code",
        "colab": {
          "base_uri": "https://localhost:8080/",
          "height": 204
        },
        "outputId": "9d79f388-dee0-414c-bdbb-f0f25d8432de"
      },
      "source": [
        "#read the sample submission classes csv file and save a copy\n",
        "df_test_classes = pd.read_csv('/content/planet/planet/sample_submission.csv')\n",
        "df_test = df_test_classes.copy()\n",
        "df_test.head()"
      ],
      "execution_count": 13,
      "outputs": [
        {
          "output_type": "execute_result",
          "data": {
            "text/html": [
              "<div>\n",
              "<style scoped>\n",
              "    .dataframe tbody tr th:only-of-type {\n",
              "        vertical-align: middle;\n",
              "    }\n",
              "\n",
              "    .dataframe tbody tr th {\n",
              "        vertical-align: top;\n",
              "    }\n",
              "\n",
              "    .dataframe thead th {\n",
              "        text-align: right;\n",
              "    }\n",
              "</style>\n",
              "<table border=\"1\" class=\"dataframe\">\n",
              "  <thead>\n",
              "    <tr style=\"text-align: right;\">\n",
              "      <th></th>\n",
              "      <th>image_name</th>\n",
              "      <th>tags</th>\n",
              "    </tr>\n",
              "  </thead>\n",
              "  <tbody>\n",
              "    <tr>\n",
              "      <th>0</th>\n",
              "      <td>test_0</td>\n",
              "      <td>primary clear agriculture road water</td>\n",
              "    </tr>\n",
              "    <tr>\n",
              "      <th>1</th>\n",
              "      <td>test_1</td>\n",
              "      <td>primary clear agriculture road water</td>\n",
              "    </tr>\n",
              "    <tr>\n",
              "      <th>2</th>\n",
              "      <td>test_2</td>\n",
              "      <td>primary clear agriculture road water</td>\n",
              "    </tr>\n",
              "    <tr>\n",
              "      <th>3</th>\n",
              "      <td>test_3</td>\n",
              "      <td>primary clear agriculture road water</td>\n",
              "    </tr>\n",
              "    <tr>\n",
              "      <th>4</th>\n",
              "      <td>test_4</td>\n",
              "      <td>primary clear agriculture road water</td>\n",
              "    </tr>\n",
              "  </tbody>\n",
              "</table>\n",
              "</div>"
            ],
            "text/plain": [
              "  image_name                                  tags\n",
              "0     test_0  primary clear agriculture road water\n",
              "1     test_1  primary clear agriculture road water\n",
              "2     test_2  primary clear agriculture road water\n",
              "3     test_3  primary clear agriculture road water\n",
              "4     test_4  primary clear agriculture road water"
            ]
          },
          "metadata": {
            "tags": []
          },
          "execution_count": 13
        }
      ]
    },
    {
      "cell_type": "code",
      "metadata": {
        "id": "87dtd75YHWMr",
        "colab_type": "code",
        "colab": {
          "base_uri": "https://localhost:8080/",
          "height": 34
        },
        "outputId": "e69ed3b5-373c-4d54-d6e6-06dfea900c25"
      },
      "source": [
        "#total train data points\n",
        "!ls /content/planet/planet/train-jpg | wc -l"
      ],
      "execution_count": 14,
      "outputs": [
        {
          "output_type": "stream",
          "text": [
            "40479\n"
          ],
          "name": "stdout"
        }
      ]
    },
    {
      "cell_type": "code",
      "metadata": {
        "id": "tSofgF2HHXst",
        "colab_type": "code",
        "colab": {}
      },
      "source": [
        "test1 = !ls /content/planet/planet/test-jpg | wc -l\n",
        "test2 = !ls /content/test-jpg-additional/test-jpg-additional | wc -l\n",
        "assert df_test.shape[0] == float(test1[0])+float(test2[0])"
      ],
      "execution_count": 15,
      "outputs": []
    },
    {
      "cell_type": "code",
      "metadata": {
        "id": "Tup07igp4U-p",
        "colab_type": "code",
        "colab": {
          "base_uri": "https://localhost:8080/",
          "height": 306
        },
        "outputId": "8778de7a-51aa-48ad-a77a-6524d38c6aa1"
      },
      "source": [
        "#list of unique labels/tags \n",
        "labels = df_train['tags'].apply(lambda x: x.split(' '))\n",
        "from collections import Counter, defaultdict\n",
        "counts = defaultdict(int)\n",
        "for l in labels:\n",
        "    for l2 in l:\n",
        "        counts[l2] += 1\n",
        "               \n",
        "tag_list=list(counts.keys())\n",
        "tag_list "
      ],
      "execution_count": 16,
      "outputs": [
        {
          "output_type": "execute_result",
          "data": {
            "text/plain": [
              "['haze',\n",
              " 'primary',\n",
              " 'agriculture',\n",
              " 'clear',\n",
              " 'water',\n",
              " 'habitation',\n",
              " 'road',\n",
              " 'cultivation',\n",
              " 'slash_burn',\n",
              " 'cloudy',\n",
              " 'partly_cloudy',\n",
              " 'conventional_mine',\n",
              " 'bare_ground',\n",
              " 'artisinal_mine',\n",
              " 'blooming',\n",
              " 'selective_logging',\n",
              " 'blow_down']"
            ]
          },
          "metadata": {
            "tags": []
          },
          "execution_count": 16
        }
      ]
    },
    {
      "cell_type": "code",
      "metadata": {
        "id": "6Tga92KIHfXi",
        "colab_type": "code",
        "colab": {
          "base_uri": "https://localhost:8080/",
          "height": 34
        },
        "outputId": "b266a876-3cc6-4acf-cc3b-dddd7961981d"
      },
      "source": [
        "#total unique labels\n",
        "len(tag_list)"
      ],
      "execution_count": 17,
      "outputs": [
        {
          "output_type": "execute_result",
          "data": {
            "text/plain": [
              "17"
            ]
          },
          "metadata": {
            "tags": []
          },
          "execution_count": 17
        }
      ]
    },
    {
      "cell_type": "code",
      "metadata": {
        "id": "0O0QUHsMN_MR",
        "colab_type": "code",
        "colab": {
          "base_uri": "https://localhost:8080/",
          "height": 306
        },
        "outputId": "5b2e4bfd-c884-4444-bc95-108ac949d6d5"
      },
      "source": [
        "#assign numerical value to each label using dictionary\n",
        "label_map = {i:j for j, i in enumerate(tag_list)}\n",
        "label_map"
      ],
      "execution_count": 18,
      "outputs": [
        {
          "output_type": "execute_result",
          "data": {
            "text/plain": [
              "{'agriculture': 2,\n",
              " 'artisinal_mine': 13,\n",
              " 'bare_ground': 12,\n",
              " 'blooming': 14,\n",
              " 'blow_down': 16,\n",
              " 'clear': 3,\n",
              " 'cloudy': 9,\n",
              " 'conventional_mine': 11,\n",
              " 'cultivation': 7,\n",
              " 'habitation': 5,\n",
              " 'haze': 0,\n",
              " 'partly_cloudy': 10,\n",
              " 'primary': 1,\n",
              " 'road': 6,\n",
              " 'selective_logging': 15,\n",
              " 'slash_burn': 8,\n",
              " 'water': 4}"
            ]
          },
          "metadata": {
            "tags": []
          },
          "execution_count": 18
        }
      ]
    },
    {
      "cell_type": "code",
      "metadata": {
        "id": "-bVKXpRg6E_w",
        "colab_type": "code",
        "colab": {
          "base_uri": "https://localhost:8080/",
          "height": 34
        },
        "outputId": "da862526-9336-478a-a950-90e5edcb14cc"
      },
      "source": [
        "# One hot encode the training labels. Convert the images into pixels and resize them\n",
        "X_train, Y_train = [], []\n",
        "for img, label in tqdm(df_train.values, miniters = 1000):\n",
        "  target = np.zeros(17)\n",
        "  for tag in label.split(' '):\n",
        "    target[label_map[tag]]=1\n",
        "  X_train.append(cv2.resize(cv2.imread('/content/planet/planet/train-jpg/{}.jpg'.format(img)), (64,64)))\n",
        "  Y_train.append(target)"
      ],
      "execution_count": 19,
      "outputs": [
        {
          "output_type": "stream",
          "text": [
            "100%|██████████| 40479/40479 [00:53<00:00, 752.39it/s]\n"
          ],
          "name": "stderr"
        }
      ]
    },
    {
      "cell_type": "code",
      "metadata": {
        "id": "SqjQoDvo6Oq_",
        "colab_type": "code",
        "colab": {
          "base_uri": "https://localhost:8080/",
          "height": 51
        },
        "outputId": "0ae6e2b5-f451-4081-a36c-86a1e9156e14"
      },
      "source": [
        "#convert the test images to pixels and resize them as well\n",
        "X_test=[]\n",
        "for img, label in tqdm(df_test[:40669].values, miniters = 1000):\n",
        "  X_test.append(cv2.resize(cv2.imread('/content/planet/planet/test-jpg/{}.jpg'.format(img)), (64,64)))\n",
        "for img, label in tqdm(df_test[40669:].values, miniters = 1000):\n",
        "  X_test.append(cv2.resize(cv2.imread('/content/test-jpg-additional/test-jpg-additional/{}.jpg'.format(img)), (64,64)))\n",
        "x_test = np.array(X_test, np.float16)/255"
      ],
      "execution_count": 20,
      "outputs": [
        {
          "output_type": "stream",
          "text": [
            "100%|██████████| 40669/40669 [00:58<00:00, 690.96it/s]\n",
            "100%|██████████| 20522/20522 [00:27<00:00, 741.67it/s]\n"
          ],
          "name": "stderr"
        }
      ]
    },
    {
      "cell_type": "code",
      "metadata": {
        "id": "jUlX6nDqAOqY",
        "colab_type": "code",
        "colab": {
          "base_uri": "https://localhost:8080/",
          "height": 34
        },
        "outputId": "6834606e-bf86-4b8b-9c5d-0bcf6bf86f56"
      },
      "source": [
        "#Confirm the dimensions\n",
        "len(X_test), len(X_train), len(Y_train)"
      ],
      "execution_count": 21,
      "outputs": [
        {
          "output_type": "execute_result",
          "data": {
            "text/plain": [
              "(61191, 40479, 40479)"
            ]
          },
          "metadata": {
            "tags": []
          },
          "execution_count": 21
        }
      ]
    },
    {
      "cell_type": "code",
      "metadata": {
        "id": "emxwTLWAAUpA",
        "colab_type": "code",
        "colab": {
          "base_uri": "https://localhost:8080/",
          "height": 34
        },
        "outputId": "249dbbdc-cd64-46f7-b6c0-d98e03f05f36"
      },
      "source": [
        "import sys\n",
        "sys.getsizeof(X_train)"
      ],
      "execution_count": 22,
      "outputs": [
        {
          "output_type": "execute_result",
          "data": {
            "text/plain": [
              "361288"
            ]
          },
          "metadata": {
            "tags": []
          },
          "execution_count": 22
        }
      ]
    },
    {
      "cell_type": "code",
      "metadata": {
        "id": "FhQPqf_4AcGf",
        "colab_type": "code",
        "colab": {
          "base_uri": "https://localhost:8080/",
          "height": 34
        },
        "outputId": "abe6f573-7258-40ec-ec40-5fd3bcb984f8"
      },
      "source": [
        "#Change lists to numpy arrays and normalize\n",
        "x_train = np.array(X_train, np.float16)/255\n",
        "y_train = np.array(Y_train, np.uint8)\n",
        "\n",
        "x_train, x_val, y_train, y_val = train_test_split(x_train, y_train, test_size = 0.2, shuffle = True, random_state = 1)\n",
        "\n",
        "print(x_train.shape, y_train.shape, x_val.shape, y_val.shape)"
      ],
      "execution_count": 24,
      "outputs": [
        {
          "output_type": "stream",
          "text": [
            "(32383, 64, 64, 3) (32383, 17) (8096, 64, 64, 3) (8096, 17)\n"
          ],
          "name": "stdout"
        }
      ]
    },
    {
      "cell_type": "code",
      "metadata": {
        "id": "RwK9nOnXC-Cr",
        "colab_type": "code",
        "colab": {}
      },
      "source": [
        "#delete X_test, X_train, Y_train to free up space\n",
        "del(X_test, X_train, Y_train)"
      ],
      "execution_count": 25,
      "outputs": []
    },
    {
      "cell_type": "code",
      "metadata": {
        "id": "X_x-4bxgC_gF",
        "colab_type": "code",
        "colab": {}
      },
      "source": [
        "#Split the data into 5 folds and train on 4 folds while validating on 1 fold\n",
        "\n",
        "yfull_test = []\n",
        "yfull_train = []\n",
        "X_train_, X_val_, Y_train_, Y_val_ = train_test_split(x_train, y_train, test_size = 0.2, random_state = 1)"
      ],
      "execution_count": 26,
      "outputs": []
    },
    {
      "cell_type": "code",
      "metadata": {
        "id": "8VBWgcfhDDyy",
        "colab_type": "code",
        "colab": {}
      },
      "source": [
        "#Build a CNN model\n",
        "from keras.applications.vgg19 import VGG19\n",
        "from keras.optimizers import Adam, SGD\n",
        "\n",
        "input_size = 64\n",
        "input_channels = 3\n",
        "batch_size = 64\n",
        "\n",
        "# Add model parameters including dropout, layers and activation function\n",
        "base_model = VGG19(include_top=False,\n",
        "                   weights='imagenet',\n",
        "                   input_shape=(input_size, input_size, input_channels))\n",
        "\n",
        "model = Sequential()\n",
        "model.add(BatchNormalization(input_shape=(input_size, input_size, input_channels)))\n",
        "\n",
        "model.add(base_model)\n",
        "model.add(Flatten())\n",
        "model.add(Dropout(0.5))\n",
        "\n",
        "model.add(Dense(17, activation='sigmoid'))"
      ],
      "execution_count": 28,
      "outputs": []
    },
    {
      "cell_type": "code",
      "metadata": {
        "id": "5y8SkPkW0dcW",
        "colab_type": "code",
        "colab": {
          "base_uri": "https://localhost:8080/",
          "height": 323
        },
        "outputId": "c96cd598-92d9-4c1b-e86f-dbfa52d479d9"
      },
      "source": [
        "# define model training optimizer parameters\n",
        "opt  = SGD(lr=0.1)\n",
        "model.compile(loss='binary_crossentropy',optimizer=opt, metrics=['accuracy'])\n",
        "callbacks = [EarlyStopping(monitor='val_loss', patience=2, verbose=0),\n",
        "                ModelCheckpoint(filepath='weights/best_weights',\n",
        "                                 save_best_only=True,\n",
        "                                 save_weights_only=True)]\n",
        "model.summary()\n",
        "\n",
        "\n"
      ],
      "execution_count": 30,
      "outputs": [
        {
          "output_type": "stream",
          "text": [
            "Model: \"sequential\"\n",
            "_________________________________________________________________\n",
            "Layer (type)                 Output Shape              Param #   \n",
            "=================================================================\n",
            "batch_normalization (BatchNo (None, 64, 64, 3)         12        \n",
            "_________________________________________________________________\n",
            "vgg19 (Functional)           (None, 2, 2, 512)         20024384  \n",
            "_________________________________________________________________\n",
            "flatten (Flatten)            (None, 2048)              0         \n",
            "_________________________________________________________________\n",
            "dropout (Dropout)            (None, 2048)              0         \n",
            "_________________________________________________________________\n",
            "dense (Dense)                (None, 17)                34833     \n",
            "=================================================================\n",
            "Total params: 20,059,229\n",
            "Trainable params: 20,059,223\n",
            "Non-trainable params: 6\n",
            "_________________________________________________________________\n"
          ],
          "name": "stdout"
        }
      ]
    },
    {
      "cell_type": "code",
      "metadata": {
        "id": "WMBuVIlMUH_J",
        "colab_type": "code",
        "colab": {
          "base_uri": "https://localhost:8080/",
          "height": 34
        },
        "outputId": "b2374274-e839-4276-fd18-f5e3940de5dc"
      },
      "source": [
        "gc.collect()"
      ],
      "execution_count": 31,
      "outputs": [
        {
          "output_type": "execute_result",
          "data": {
            "text/plain": [
              "0"
            ]
          },
          "metadata": {
            "tags": []
          },
          "execution_count": 31
        }
      ]
    },
    {
      "cell_type": "code",
      "metadata": {
        "id": "i0Bb1exiCWcP",
        "colab_type": "code",
        "colab": {
          "base_uri": "https://localhost:8080/",
          "height": 445
        },
        "outputId": "8674b1ce-2ee5-478f-d355-d4a112babe14"
      },
      "source": [
        "#Try a combination of epoch lengths and learning rates\n",
        "\n",
        "model.fit(x = X_train_, y= Y_train_, validation_data=(X_val_, Y_val_),batch_size=64,verbose=2, epochs=15,callbacks=callbacks,shuffle=True)\n",
        "\n",
        "p_val = model.predict(X_val_, batch_size = 64, verbose=2)\n",
        "print(fbeta_score(Y_val_, np.array(p_val) > 0.2, beta=2, average='samples')) #Check the model performance on the validation set\n",
        "\n",
        "p_train = model.predict(x_train, batch_size =64, verbose=2) #save the training predictions\n",
        "yfull_train.append(p_train)\n",
        "        \n",
        "p_test = model.predict(x_test, batch_size = 64, verbose=2) #save the test predictions\n",
        "yfull_test.append(p_test)"
      ],
      "execution_count": 32,
      "outputs": [
        {
          "output_type": "stream",
          "text": [
            "Epoch 1/15\n",
            "WARNING:tensorflow:Callbacks method `on_train_batch_end` is slow compared to the batch time (batch time: 0.0291s vs `on_train_batch_end` time: 0.0590s). Check your callbacks.\n",
            "405/405 - 42s - loss: 0.1530 - accuracy: 0.7354 - val_loss: 0.1219 - val_accuracy: 0.8478\n",
            "Epoch 2/15\n",
            "405/405 - 42s - loss: 0.1164 - accuracy: 0.7277 - val_loss: 0.1053 - val_accuracy: 0.8072\n",
            "Epoch 3/15\n",
            "405/405 - 44s - loss: 0.1068 - accuracy: 0.7247 - val_loss: 0.1102 - val_accuracy: 0.7973\n",
            "Epoch 4/15\n",
            "405/405 - 44s - loss: 0.1012 - accuracy: 0.7175 - val_loss: 0.1006 - val_accuracy: 0.8044\n",
            "Epoch 5/15\n",
            "405/405 - 44s - loss: 0.0963 - accuracy: 0.6998 - val_loss: 0.1027 - val_accuracy: 0.7826\n",
            "Epoch 6/15\n",
            "405/405 - 44s - loss: 0.0921 - accuracy: 0.6937 - val_loss: 0.0979 - val_accuracy: 0.7588\n",
            "Epoch 7/15\n",
            "405/405 - 44s - loss: 0.0889 - accuracy: 0.7018 - val_loss: 0.0997 - val_accuracy: 0.7865\n",
            "Epoch 8/15\n",
            "405/405 - 44s - loss: 0.0840 - accuracy: 0.6645 - val_loss: 0.0998 - val_accuracy: 0.7584\n",
            "WARNING:tensorflow:Callbacks method `on_predict_batch_end` is slow compared to the batch time (batch time: 0.0025s vs `on_predict_batch_end` time: 0.0223s). Check your callbacks.\n",
            "102/102 - 3s\n",
            "0.9151250790927791\n",
            "WARNING:tensorflow:Callbacks method `on_predict_batch_end` is slow compared to the batch time (batch time: 0.0027s vs `on_predict_batch_end` time: 0.0339s). Check your callbacks.\n",
            "506/506 - 16s\n",
            "WARNING:tensorflow:Callbacks method `on_predict_batch_end` is slow compared to the batch time (batch time: 0.0027s vs `on_predict_batch_end` time: 0.0339s). Check your callbacks.\n",
            "957/957 - 29s\n"
          ],
          "name": "stdout"
        }
      ]
    },
    {
      "cell_type": "code",
      "metadata": {
        "id": "1o5LORnjVtXE",
        "colab_type": "code",
        "colab": {
          "base_uri": "https://localhost:8080/",
          "height": 34
        },
        "outputId": "4f86dcf5-7d8e-4887-cade-3269a7fda745"
      },
      "source": [
        "#import and initialise Garbage Collector\n",
        "import gc\n",
        "gc.collect()"
      ],
      "execution_count": 33,
      "outputs": [
        {
          "output_type": "execute_result",
          "data": {
            "text/plain": [
              "3693"
            ]
          },
          "metadata": {
            "tags": []
          },
          "execution_count": 33
        }
      ]
    },
    {
      "cell_type": "code",
      "metadata": {
        "id": "F4MGaGb5DJsT",
        "colab_type": "code",
        "colab": {
          "base_uri": "https://localhost:8080/",
          "height": 238
        },
        "outputId": "bba157b3-2c9b-4920-babe-7ff0cd2c6d94"
      },
      "source": [
        "#make predictions\n",
        "predictions = model.predict(x_test, batch_size = 32)\n",
        "predictions"
      ],
      "execution_count": 34,
      "outputs": [
        {
          "output_type": "execute_result",
          "data": {
            "text/plain": [
              "array([[7.58401118e-04, 9.99818623e-01, 5.84853813e-03, ...,\n",
              "        4.96029258e-02, 8.47792905e-03, 2.68029724e-03],\n",
              "       [1.63648103e-04, 9.99877334e-01, 8.65130313e-03, ...,\n",
              "        2.48123825e-01, 4.35863957e-02, 1.34456195e-02],\n",
              "       [2.05903756e-03, 9.99307990e-01, 4.53616343e-02, ...,\n",
              "        1.27396523e-03, 9.91400564e-04, 7.35363283e-04],\n",
              "       ...,\n",
              "       [1.22860845e-04, 9.99898672e-01, 8.49977415e-03, ...,\n",
              "        7.42257014e-03, 9.52372607e-03, 7.86441204e-04],\n",
              "       [5.79984747e-02, 9.31957513e-02, 3.68988723e-03, ...,\n",
              "        7.89352460e-04, 5.85522386e-04, 4.55373869e-04],\n",
              "       [1.02320546e-02, 9.24791932e-01, 1.32721186e-01, ...,\n",
              "        8.51988443e-04, 6.49517961e-03, 8.36013409e-04]], dtype=float32)"
            ]
          },
          "metadata": {
            "tags": []
          },
          "execution_count": 34
        }
      ]
    },
    {
      "cell_type": "code",
      "metadata": {
        "id": "5SEAPkgHDOOr",
        "colab_type": "code",
        "colab": {
          "base_uri": "https://localhost:8080/",
          "height": 439
        },
        "outputId": "b4addcda-d672-4435-c740-cda7062b1e32"
      },
      "source": [
        "#predictions dataframe\n",
        "pred = pd.DataFrame(predictions, columns =  tag_list)\n",
        "pred"
      ],
      "execution_count": 35,
      "outputs": [
        {
          "output_type": "execute_result",
          "data": {
            "text/html": [
              "<div>\n",
              "<style scoped>\n",
              "    .dataframe tbody tr th:only-of-type {\n",
              "        vertical-align: middle;\n",
              "    }\n",
              "\n",
              "    .dataframe tbody tr th {\n",
              "        vertical-align: top;\n",
              "    }\n",
              "\n",
              "    .dataframe thead th {\n",
              "        text-align: right;\n",
              "    }\n",
              "</style>\n",
              "<table border=\"1\" class=\"dataframe\">\n",
              "  <thead>\n",
              "    <tr style=\"text-align: right;\">\n",
              "      <th></th>\n",
              "      <th>haze</th>\n",
              "      <th>primary</th>\n",
              "      <th>agriculture</th>\n",
              "      <th>clear</th>\n",
              "      <th>water</th>\n",
              "      <th>habitation</th>\n",
              "      <th>road</th>\n",
              "      <th>cultivation</th>\n",
              "      <th>slash_burn</th>\n",
              "      <th>cloudy</th>\n",
              "      <th>partly_cloudy</th>\n",
              "      <th>conventional_mine</th>\n",
              "      <th>bare_ground</th>\n",
              "      <th>artisinal_mine</th>\n",
              "      <th>blooming</th>\n",
              "      <th>selective_logging</th>\n",
              "      <th>blow_down</th>\n",
              "    </tr>\n",
              "  </thead>\n",
              "  <tbody>\n",
              "    <tr>\n",
              "      <th>0</th>\n",
              "      <td>0.000758</td>\n",
              "      <td>0.999819</td>\n",
              "      <td>0.005849</td>\n",
              "      <td>0.995796</td>\n",
              "      <td>0.002214</td>\n",
              "      <td>0.001323</td>\n",
              "      <td>0.002666</td>\n",
              "      <td>0.001711</td>\n",
              "      <td>0.000339</td>\n",
              "      <td>0.000123</td>\n",
              "      <td>0.003655</td>\n",
              "      <td>0.000165</td>\n",
              "      <td>0.000641</td>\n",
              "      <td>0.000064</td>\n",
              "      <td>0.049603</td>\n",
              "      <td>0.008478</td>\n",
              "      <td>0.002680</td>\n",
              "    </tr>\n",
              "    <tr>\n",
              "      <th>1</th>\n",
              "      <td>0.000164</td>\n",
              "      <td>0.999877</td>\n",
              "      <td>0.008651</td>\n",
              "      <td>0.997669</td>\n",
              "      <td>0.000682</td>\n",
              "      <td>0.002061</td>\n",
              "      <td>0.002106</td>\n",
              "      <td>0.004936</td>\n",
              "      <td>0.000765</td>\n",
              "      <td>0.000076</td>\n",
              "      <td>0.003972</td>\n",
              "      <td>0.000261</td>\n",
              "      <td>0.000979</td>\n",
              "      <td>0.000120</td>\n",
              "      <td>0.248124</td>\n",
              "      <td>0.043586</td>\n",
              "      <td>0.013446</td>\n",
              "    </tr>\n",
              "    <tr>\n",
              "      <th>2</th>\n",
              "      <td>0.002059</td>\n",
              "      <td>0.999308</td>\n",
              "      <td>0.045362</td>\n",
              "      <td>0.002444</td>\n",
              "      <td>0.086951</td>\n",
              "      <td>0.003314</td>\n",
              "      <td>0.036281</td>\n",
              "      <td>0.010482</td>\n",
              "      <td>0.000754</td>\n",
              "      <td>0.000593</td>\n",
              "      <td>0.997619</td>\n",
              "      <td>0.000314</td>\n",
              "      <td>0.000770</td>\n",
              "      <td>0.000138</td>\n",
              "      <td>0.001274</td>\n",
              "      <td>0.000991</td>\n",
              "      <td>0.000735</td>\n",
              "    </tr>\n",
              "    <tr>\n",
              "      <th>3</th>\n",
              "      <td>0.001737</td>\n",
              "      <td>0.999750</td>\n",
              "      <td>0.453548</td>\n",
              "      <td>0.985435</td>\n",
              "      <td>0.003371</td>\n",
              "      <td>0.005761</td>\n",
              "      <td>0.006620</td>\n",
              "      <td>0.155872</td>\n",
              "      <td>0.002370</td>\n",
              "      <td>0.000189</td>\n",
              "      <td>0.014865</td>\n",
              "      <td>0.000215</td>\n",
              "      <td>0.005680</td>\n",
              "      <td>0.000170</td>\n",
              "      <td>0.022023</td>\n",
              "      <td>0.003065</td>\n",
              "      <td>0.008659</td>\n",
              "    </tr>\n",
              "    <tr>\n",
              "      <th>4</th>\n",
              "      <td>0.009797</td>\n",
              "      <td>0.779058</td>\n",
              "      <td>0.043251</td>\n",
              "      <td>0.006277</td>\n",
              "      <td>0.069778</td>\n",
              "      <td>0.004437</td>\n",
              "      <td>0.025398</td>\n",
              "      <td>0.004390</td>\n",
              "      <td>0.000751</td>\n",
              "      <td>0.198203</td>\n",
              "      <td>0.790184</td>\n",
              "      <td>0.000391</td>\n",
              "      <td>0.003970</td>\n",
              "      <td>0.000855</td>\n",
              "      <td>0.001547</td>\n",
              "      <td>0.000885</td>\n",
              "      <td>0.001218</td>\n",
              "    </tr>\n",
              "    <tr>\n",
              "      <th>...</th>\n",
              "      <td>...</td>\n",
              "      <td>...</td>\n",
              "      <td>...</td>\n",
              "      <td>...</td>\n",
              "      <td>...</td>\n",
              "      <td>...</td>\n",
              "      <td>...</td>\n",
              "      <td>...</td>\n",
              "      <td>...</td>\n",
              "      <td>...</td>\n",
              "      <td>...</td>\n",
              "      <td>...</td>\n",
              "      <td>...</td>\n",
              "      <td>...</td>\n",
              "      <td>...</td>\n",
              "      <td>...</td>\n",
              "      <td>...</td>\n",
              "    </tr>\n",
              "    <tr>\n",
              "      <th>61186</th>\n",
              "      <td>0.003655</td>\n",
              "      <td>0.904809</td>\n",
              "      <td>0.003176</td>\n",
              "      <td>0.004390</td>\n",
              "      <td>0.008031</td>\n",
              "      <td>0.001636</td>\n",
              "      <td>0.009036</td>\n",
              "      <td>0.000505</td>\n",
              "      <td>0.000221</td>\n",
              "      <td>0.101549</td>\n",
              "      <td>0.859027</td>\n",
              "      <td>0.000188</td>\n",
              "      <td>0.000306</td>\n",
              "      <td>0.000085</td>\n",
              "      <td>0.001244</td>\n",
              "      <td>0.000500</td>\n",
              "      <td>0.000427</td>\n",
              "    </tr>\n",
              "    <tr>\n",
              "      <th>61187</th>\n",
              "      <td>0.000759</td>\n",
              "      <td>0.998928</td>\n",
              "      <td>0.008694</td>\n",
              "      <td>0.994569</td>\n",
              "      <td>0.999183</td>\n",
              "      <td>0.010213</td>\n",
              "      <td>0.018106</td>\n",
              "      <td>0.002762</td>\n",
              "      <td>0.000352</td>\n",
              "      <td>0.000263</td>\n",
              "      <td>0.002703</td>\n",
              "      <td>0.001562</td>\n",
              "      <td>0.003404</td>\n",
              "      <td>0.001356</td>\n",
              "      <td>0.007713</td>\n",
              "      <td>0.013581</td>\n",
              "      <td>0.000686</td>\n",
              "    </tr>\n",
              "    <tr>\n",
              "      <th>61188</th>\n",
              "      <td>0.000123</td>\n",
              "      <td>0.999899</td>\n",
              "      <td>0.008500</td>\n",
              "      <td>0.999570</td>\n",
              "      <td>0.086047</td>\n",
              "      <td>0.001371</td>\n",
              "      <td>0.067706</td>\n",
              "      <td>0.002047</td>\n",
              "      <td>0.000170</td>\n",
              "      <td>0.000027</td>\n",
              "      <td>0.000194</td>\n",
              "      <td>0.000097</td>\n",
              "      <td>0.000611</td>\n",
              "      <td>0.000064</td>\n",
              "      <td>0.007423</td>\n",
              "      <td>0.009524</td>\n",
              "      <td>0.000786</td>\n",
              "    </tr>\n",
              "    <tr>\n",
              "      <th>61189</th>\n",
              "      <td>0.057998</td>\n",
              "      <td>0.093196</td>\n",
              "      <td>0.003690</td>\n",
              "      <td>0.039191</td>\n",
              "      <td>0.035902</td>\n",
              "      <td>0.001144</td>\n",
              "      <td>0.004871</td>\n",
              "      <td>0.000904</td>\n",
              "      <td>0.000312</td>\n",
              "      <td>0.862227</td>\n",
              "      <td>0.002721</td>\n",
              "      <td>0.000217</td>\n",
              "      <td>0.001552</td>\n",
              "      <td>0.000160</td>\n",
              "      <td>0.000789</td>\n",
              "      <td>0.000586</td>\n",
              "      <td>0.000455</td>\n",
              "    </tr>\n",
              "    <tr>\n",
              "      <th>61190</th>\n",
              "      <td>0.010232</td>\n",
              "      <td>0.924792</td>\n",
              "      <td>0.132721</td>\n",
              "      <td>0.964052</td>\n",
              "      <td>0.174165</td>\n",
              "      <td>0.985708</td>\n",
              "      <td>0.978061</td>\n",
              "      <td>0.017654</td>\n",
              "      <td>0.001188</td>\n",
              "      <td>0.001485</td>\n",
              "      <td>0.015798</td>\n",
              "      <td>0.002220</td>\n",
              "      <td>0.020713</td>\n",
              "      <td>0.001638</td>\n",
              "      <td>0.000852</td>\n",
              "      <td>0.006495</td>\n",
              "      <td>0.000836</td>\n",
              "    </tr>\n",
              "  </tbody>\n",
              "</table>\n",
              "<p>61191 rows × 17 columns</p>\n",
              "</div>"
            ],
            "text/plain": [
              "           haze   primary  agriculture  ...  blooming  selective_logging  blow_down\n",
              "0      0.000758  0.999819     0.005849  ...  0.049603           0.008478   0.002680\n",
              "1      0.000164  0.999877     0.008651  ...  0.248124           0.043586   0.013446\n",
              "2      0.002059  0.999308     0.045362  ...  0.001274           0.000991   0.000735\n",
              "3      0.001737  0.999750     0.453548  ...  0.022023           0.003065   0.008659\n",
              "4      0.009797  0.779058     0.043251  ...  0.001547           0.000885   0.001218\n",
              "...         ...       ...          ...  ...       ...                ...        ...\n",
              "61186  0.003655  0.904809     0.003176  ...  0.001244           0.000500   0.000427\n",
              "61187  0.000759  0.998928     0.008694  ...  0.007713           0.013581   0.000686\n",
              "61188  0.000123  0.999899     0.008500  ...  0.007423           0.009524   0.000786\n",
              "61189  0.057998  0.093196     0.003690  ...  0.000789           0.000586   0.000455\n",
              "61190  0.010232  0.924792     0.132721  ...  0.000852           0.006495   0.000836\n",
              "\n",
              "[61191 rows x 17 columns]"
            ]
          },
          "metadata": {
            "tags": []
          },
          "execution_count": 35
        }
      ]
    },
    {
      "cell_type": "code",
      "metadata": {
        "id": "MsqOMDkb7C64",
        "colab_type": "code",
        "colab": {
          "base_uri": "https://localhost:8080/",
          "height": 34
        },
        "outputId": "fdfff519-6c8a-44d8-f34b-035bcf24dc84"
      },
      "source": [
        "#Write a loop to assign each value to its predicted label\n",
        "preds = []\n",
        "for i in tqdm(range(pred.shape[0]), miniters=1000):\n",
        "    a = pred.iloc[[i]]\n",
        "    a = a.apply(lambda x: x > 0.2, axis=1)\n",
        "    a = a.transpose()\n",
        "    a = a.loc[a[i] == True]\n",
        "    ' '.join(list(a.index))\n",
        "    preds.append(' '.join(list(a.index)))"
      ],
      "execution_count": 36,
      "outputs": [
        {
          "output_type": "stream",
          "text": [
            "100%|██████████| 61191/61191 [02:55<00:00, 347.86it/s]\n"
          ],
          "name": "stderr"
        }
      ]
    },
    {
      "cell_type": "code",
      "metadata": {
        "id": "adQc52xJ7Kyr",
        "colab_type": "code",
        "colab": {
          "base_uri": "https://localhost:8080/",
          "height": 204
        },
        "outputId": "1fe22d6b-57ca-48a3-a8a5-98331b36a0b3"
      },
      "source": [
        "#Assign the predictions to the tags column of the df_test data frame\n",
        "df_test['tags'] = preds \n",
        "df_test.to_csv('uthman_11th_Submission.csv', index = False) #Export to csv\n",
        "df_test.head()"
      ],
      "execution_count": 37,
      "outputs": [
        {
          "output_type": "execute_result",
          "data": {
            "text/html": [
              "<div>\n",
              "<style scoped>\n",
              "    .dataframe tbody tr th:only-of-type {\n",
              "        vertical-align: middle;\n",
              "    }\n",
              "\n",
              "    .dataframe tbody tr th {\n",
              "        vertical-align: top;\n",
              "    }\n",
              "\n",
              "    .dataframe thead th {\n",
              "        text-align: right;\n",
              "    }\n",
              "</style>\n",
              "<table border=\"1\" class=\"dataframe\">\n",
              "  <thead>\n",
              "    <tr style=\"text-align: right;\">\n",
              "      <th></th>\n",
              "      <th>image_name</th>\n",
              "      <th>tags</th>\n",
              "    </tr>\n",
              "  </thead>\n",
              "  <tbody>\n",
              "    <tr>\n",
              "      <th>0</th>\n",
              "      <td>test_0</td>\n",
              "      <td>primary clear</td>\n",
              "    </tr>\n",
              "    <tr>\n",
              "      <th>1</th>\n",
              "      <td>test_1</td>\n",
              "      <td>primary clear blooming</td>\n",
              "    </tr>\n",
              "    <tr>\n",
              "      <th>2</th>\n",
              "      <td>test_2</td>\n",
              "      <td>primary partly_cloudy</td>\n",
              "    </tr>\n",
              "    <tr>\n",
              "      <th>3</th>\n",
              "      <td>test_3</td>\n",
              "      <td>primary agriculture clear</td>\n",
              "    </tr>\n",
              "    <tr>\n",
              "      <th>4</th>\n",
              "      <td>test_4</td>\n",
              "      <td>primary partly_cloudy</td>\n",
              "    </tr>\n",
              "  </tbody>\n",
              "</table>\n",
              "</div>"
            ],
            "text/plain": [
              "  image_name                       tags\n",
              "0     test_0              primary clear\n",
              "1     test_1     primary clear blooming\n",
              "2     test_2      primary partly_cloudy\n",
              "3     test_3  primary agriculture clear\n",
              "4     test_4      primary partly_cloudy"
            ]
          },
          "metadata": {
            "tags": []
          },
          "execution_count": 37
        }
      ]
    },
    {
      "cell_type": "code",
      "metadata": {
        "id": "8mxZsUvjf14t",
        "colab_type": "code",
        "colab": {
          "base_uri": "https://localhost:8080/",
          "height": 17
        },
        "outputId": "056ebbdf-339f-4771-c5d1-14c43ee0f164"
      },
      "source": [
        "#download submission file\n",
        "from google.colab import files\n",
        "files.download('uthman_11th_Submission.csv')"
      ],
      "execution_count": 1,
      "outputs": [
        {
          "output_type": "display_data",
          "data": {
            "application/javascript": [
              "\n",
              "    async function download(id, filename, size) {\n",
              "      if (!google.colab.kernel.accessAllowed) {\n",
              "        return;\n",
              "      }\n",
              "      const div = document.createElement('div');\n",
              "      const label = document.createElement('label');\n",
              "      label.textContent = `Downloading \"${filename}\": `;\n",
              "      div.appendChild(label);\n",
              "      const progress = document.createElement('progress');\n",
              "      progress.max = size;\n",
              "      div.appendChild(progress);\n",
              "      document.body.appendChild(div);\n",
              "\n",
              "      const buffers = [];\n",
              "      let downloaded = 0;\n",
              "\n",
              "      const channel = await google.colab.kernel.comms.open(id);\n",
              "      // Send a message to notify the kernel that we're ready.\n",
              "      channel.send({})\n",
              "\n",
              "      for await (const message of channel.messages) {\n",
              "        // Send a message to notify the kernel that we're ready.\n",
              "        channel.send({})\n",
              "        if (message.buffers) {\n",
              "          for (const buffer of message.buffers) {\n",
              "            buffers.push(buffer);\n",
              "            downloaded += buffer.byteLength;\n",
              "            progress.value = downloaded;\n",
              "          }\n",
              "        }\n",
              "      }\n",
              "      const blob = new Blob(buffers, {type: 'application/binary'});\n",
              "      const a = document.createElement('a');\n",
              "      a.href = window.URL.createObjectURL(blob);\n",
              "      a.download = filename;\n",
              "      div.appendChild(a);\n",
              "      a.click();\n",
              "      div.remove();\n",
              "    }\n",
              "  "
            ],
            "text/plain": [
              "<IPython.core.display.Javascript object>"
            ]
          },
          "metadata": {
            "tags": []
          }
        },
        {
          "output_type": "display_data",
          "data": {
            "application/javascript": [
              "download(\"download_86997ce0-8579-46c5-90e1-8de68ce67e30\", \"uthman_10th_Submission.csv\", 2321135)"
            ],
            "text/plain": [
              "<IPython.core.display.Javascript object>"
            ]
          },
          "metadata": {
            "tags": []
          }
        }
      ]
    },
    {
      "cell_type": "code",
      "metadata": {
        "id": "7RWAQwPLgfLA",
        "colab_type": "code",
        "colab": {}
      },
      "source": [
        ""
      ],
      "execution_count": 38,
      "outputs": []
    }
  ]
}