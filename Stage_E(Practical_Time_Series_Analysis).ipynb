{
  "nbformat": 4,
  "nbformat_minor": 0,
  "metadata": {
    "colab": {
      "name": "Stage_E(Practical Time Series Analysis).ipynb",
      "provenance": [],
      "collapsed_sections": [],
      "authorship_tag": "ABX9TyNR8p360JGDa0MCCzL/ia5/",
      "include_colab_link": true
    },
    "kernelspec": {
      "name": "python3",
      "display_name": "Python 3"
    }
  },
  "cells": [
    {
      "cell_type": "markdown",
      "metadata": {
        "id": "view-in-github",
        "colab_type": "text"
      },
      "source": [
        "<a href=\"https://colab.research.google.com/github/Uthmanic/HAMOYE-DataScience-Internship/blob/Stage-E/Stage_E(Practical_Time_Series_Analysis).ipynb\" target=\"_parent\"><img src=\"https://colab.research.google.com/assets/colab-badge.svg\" alt=\"Open In Colab\"/></a>"
      ]
    },
    {
      "cell_type": "code",
      "metadata": {
        "id": "DwO4MovUN77A"
      },
      "source": [
        "# import necessary libraries\n",
        "import numpy as np\n",
        "import pandas as pd \n",
        "import seaborn as sns\n",
        "import matplotlib.pyplot as plt\n",
        "%matplotlib inline"
      ],
      "execution_count": 30,
      "outputs": []
    },
    {
      "cell_type": "code",
      "metadata": {
        "id": "fnjF8R0TSNsR",
        "outputId": "21e48f74-46dd-41cd-ec55-11fa8a0d0b04",
        "colab": {
          "base_uri": "https://localhost:8080/",
          "height": 34
        }
      },
      "source": [
        "from google.colab import drive\n",
        "drive.mount('drive')"
      ],
      "execution_count": 2,
      "outputs": [
        {
          "output_type": "stream",
          "text": [
            "Drive already mounted at drive; to attempt to forcibly remount, call drive.mount(\"drive\", force_remount=True).\n"
          ],
          "name": "stdout"
        }
      ]
    },
    {
      "cell_type": "code",
      "metadata": {
        "id": "vUfr_hVSR-IG",
        "outputId": "0a39f705-6cb0-4efb-e815-627d2512cf1a",
        "colab": {
          "base_uri": "https://localhost:8080/",
          "height": 235
        }
      },
      "source": [
        "power = pd.read_csv('drive/My Drive/household_power_consumption.csv', low_memory=False,\n",
        "                    infer_datetime_format=True, parse_dates={\"Datetime\":['Date','Time']},index_col=[\"Datetime\"])\n",
        "power_data = power.copy()\n",
        "power_data.head()"
      ],
      "execution_count": 3,
      "outputs": [
        {
          "output_type": "execute_result",
          "data": {
            "text/html": [
              "<div>\n",
              "<style scoped>\n",
              "    .dataframe tbody tr th:only-of-type {\n",
              "        vertical-align: middle;\n",
              "    }\n",
              "\n",
              "    .dataframe tbody tr th {\n",
              "        vertical-align: top;\n",
              "    }\n",
              "\n",
              "    .dataframe thead th {\n",
              "        text-align: right;\n",
              "    }\n",
              "</style>\n",
              "<table border=\"1\" class=\"dataframe\">\n",
              "  <thead>\n",
              "    <tr style=\"text-align: right;\">\n",
              "      <th></th>\n",
              "      <th>Global_active_power</th>\n",
              "      <th>Global_reactive_power</th>\n",
              "      <th>Voltage</th>\n",
              "      <th>Global_intensity</th>\n",
              "      <th>Sub_metering_1</th>\n",
              "      <th>Sub_metering_2</th>\n",
              "      <th>Sub_metering_3</th>\n",
              "    </tr>\n",
              "    <tr>\n",
              "      <th>Datetime</th>\n",
              "      <th></th>\n",
              "      <th></th>\n",
              "      <th></th>\n",
              "      <th></th>\n",
              "      <th></th>\n",
              "      <th></th>\n",
              "      <th></th>\n",
              "    </tr>\n",
              "  </thead>\n",
              "  <tbody>\n",
              "    <tr>\n",
              "      <th>2006-12-16 17:24:00</th>\n",
              "      <td>4.216</td>\n",
              "      <td>0.418</td>\n",
              "      <td>234.840</td>\n",
              "      <td>18.400</td>\n",
              "      <td>0.000</td>\n",
              "      <td>1.000</td>\n",
              "      <td>17.0</td>\n",
              "    </tr>\n",
              "    <tr>\n",
              "      <th>2006-12-16 17:25:00</th>\n",
              "      <td>5.360</td>\n",
              "      <td>0.436</td>\n",
              "      <td>233.630</td>\n",
              "      <td>23.000</td>\n",
              "      <td>0.000</td>\n",
              "      <td>1.000</td>\n",
              "      <td>16.0</td>\n",
              "    </tr>\n",
              "    <tr>\n",
              "      <th>2006-12-16 17:26:00</th>\n",
              "      <td>5.374</td>\n",
              "      <td>0.498</td>\n",
              "      <td>233.290</td>\n",
              "      <td>23.000</td>\n",
              "      <td>0.000</td>\n",
              "      <td>2.000</td>\n",
              "      <td>17.0</td>\n",
              "    </tr>\n",
              "    <tr>\n",
              "      <th>2006-12-16 17:27:00</th>\n",
              "      <td>5.388</td>\n",
              "      <td>0.502</td>\n",
              "      <td>233.740</td>\n",
              "      <td>23.000</td>\n",
              "      <td>0.000</td>\n",
              "      <td>1.000</td>\n",
              "      <td>17.0</td>\n",
              "    </tr>\n",
              "    <tr>\n",
              "      <th>2006-12-16 17:28:00</th>\n",
              "      <td>3.666</td>\n",
              "      <td>0.528</td>\n",
              "      <td>235.680</td>\n",
              "      <td>15.800</td>\n",
              "      <td>0.000</td>\n",
              "      <td>1.000</td>\n",
              "      <td>17.0</td>\n",
              "    </tr>\n",
              "  </tbody>\n",
              "</table>\n",
              "</div>"
            ],
            "text/plain": [
              "                    Global_active_power  ... Sub_metering_3\n",
              "Datetime                                 ...               \n",
              "2006-12-16 17:24:00               4.216  ...           17.0\n",
              "2006-12-16 17:25:00               5.360  ...           16.0\n",
              "2006-12-16 17:26:00               5.374  ...           17.0\n",
              "2006-12-16 17:27:00               5.388  ...           17.0\n",
              "2006-12-16 17:28:00               3.666  ...           17.0\n",
              "\n",
              "[5 rows x 7 columns]"
            ]
          },
          "metadata": {
            "tags": []
          },
          "execution_count": 3
        }
      ]
    },
    {
      "cell_type": "code",
      "metadata": {
        "id": "6NgMrsi4GuMx",
        "outputId": "fe0badeb-7434-472d-c7d3-4ecb43622a11",
        "colab": {
          "base_uri": "https://localhost:8080/",
          "height": 153
        }
      },
      "source": [
        "power_data.replace({'?': np.nan},inplace=True)    #changing missing values with '?' to the NaN\n",
        "power_data.isnull().sum()    #check NaN missing values"
      ],
      "execution_count": 4,
      "outputs": [
        {
          "output_type": "execute_result",
          "data": {
            "text/plain": [
              "Global_active_power      25979\n",
              "Global_reactive_power    25979\n",
              "Voltage                  25979\n",
              "Global_intensity         25979\n",
              "Sub_metering_1           25979\n",
              "Sub_metering_2           25979\n",
              "Sub_metering_3           25979\n",
              "dtype: int64"
            ]
          },
          "metadata": {
            "tags": []
          },
          "execution_count": 4
        }
      ]
    },
    {
      "cell_type": "code",
      "metadata": {
        "id": "YlywfIMQsi0Q",
        "outputId": "df8dbcdc-a8cd-4a82-86ee-b9326de7a75e",
        "colab": {
          "base_uri": "https://localhost:8080/",
          "height": 255
        }
      },
      "source": [
        "# change columns with 'object' dtype to float\n",
        "for column in power_data.select_dtypes(include=['object']).columns:\n",
        "  if column != 'Time':\n",
        "    power_data[[column]] = power_data[[column]].astype('float')\n",
        "\n",
        "power_data.info()"
      ],
      "execution_count": 5,
      "outputs": [
        {
          "output_type": "stream",
          "text": [
            "<class 'pandas.core.frame.DataFrame'>\n",
            "DatetimeIndex: 2075259 entries, 2006-12-16 17:24:00 to 2010-11-26 21:02:00\n",
            "Data columns (total 7 columns):\n",
            " #   Column                 Dtype  \n",
            "---  ------                 -----  \n",
            " 0   Global_active_power    float64\n",
            " 1   Global_reactive_power  float64\n",
            " 2   Voltage                float64\n",
            " 3   Global_intensity       float64\n",
            " 4   Sub_metering_1         float64\n",
            " 5   Sub_metering_2         float64\n",
            " 6   Sub_metering_3         float64\n",
            "dtypes: float64(7)\n",
            "memory usage: 126.7 MB\n"
          ],
          "name": "stdout"
        }
      ]
    },
    {
      "cell_type": "code",
      "metadata": {
        "id": "gnYNPYhrntnS",
        "outputId": "57ca2e2a-6e41-4d74-dac4-e2b25d56e968",
        "colab": {
          "base_uri": "https://localhost:8080/",
          "height": 153
        }
      },
      "source": [
        "#Filling missing data with respective column mean\n",
        "power_data = power_data.fillna(power_data.mean())\n",
        "power_data.isnull().sum()"
      ],
      "execution_count": 6,
      "outputs": [
        {
          "output_type": "execute_result",
          "data": {
            "text/plain": [
              "Global_active_power      0\n",
              "Global_reactive_power    0\n",
              "Voltage                  0\n",
              "Global_intensity         0\n",
              "Sub_metering_1           0\n",
              "Sub_metering_2           0\n",
              "Sub_metering_3           0\n",
              "dtype: int64"
            ]
          },
          "metadata": {
            "tags": []
          },
          "execution_count": 6
        }
      ]
    },
    {
      "cell_type": "code",
      "metadata": {
        "id": "VVIGVcWQDA8J",
        "outputId": "de510e06-86b7-4c59-d1a7-ce3f3285e186",
        "colab": {
          "base_uri": "https://localhost:8080/",
          "height": 272
        }
      },
      "source": [
        "#downsample data to daily data points\n",
        "power_daily = power_data.resample('D').sum()\n",
        "power_daily.info()"
      ],
      "execution_count": 7,
      "outputs": [
        {
          "output_type": "stream",
          "text": [
            "<class 'pandas.core.frame.DataFrame'>\n",
            "DatetimeIndex: 1442 entries, 2006-12-16 to 2010-11-26\n",
            "Freq: D\n",
            "Data columns (total 7 columns):\n",
            " #   Column                 Non-Null Count  Dtype  \n",
            "---  ------                 --------------  -----  \n",
            " 0   Global_active_power    1442 non-null   float64\n",
            " 1   Global_reactive_power  1442 non-null   float64\n",
            " 2   Voltage                1442 non-null   float64\n",
            " 3   Global_intensity       1442 non-null   float64\n",
            " 4   Sub_metering_1         1442 non-null   float64\n",
            " 5   Sub_metering_2         1442 non-null   float64\n",
            " 6   Sub_metering_3         1442 non-null   float64\n",
            "dtypes: float64(7)\n",
            "memory usage: 90.1 KB\n"
          ],
          "name": "stdout"
        }
      ]
    },
    {
      "cell_type": "markdown",
      "metadata": {
        "id": "LThWrOh76L-q"
      },
      "source": [
        "**Question 11**"
      ]
    },
    {
      "cell_type": "code",
      "metadata": {
        "id": "qCGZYwkfzErl",
        "outputId": "8d24b561-6c9a-41f0-b41c-29be4a2f4f81",
        "colab": {
          "base_uri": "https://localhost:8080/",
          "height": 405
        }
      },
      "source": [
        "#plot of the daily global_active_power over time\n",
        "plt.figure(figsize=(10,6))\n",
        "plt.plot(power_daily.index, power_daily.Global_active_power, '--')\n",
        "plt.grid()\n",
        "plt.xlabel('Day')\n",
        "plt.ylabel('G_A_P')"
      ],
      "execution_count": 29,
      "outputs": [
        {
          "output_type": "execute_result",
          "data": {
            "text/plain": [
              "Text(0, 0.5, 'G_A_P')"
            ]
          },
          "metadata": {
            "tags": []
          },
          "execution_count": 29
        },
        {
          "output_type": "display_data",
          "data": {
            "image/png": "[encoded data removed]",
            "text/plain": [
              "<Figure size 720x432 with 1 Axes>"
            ]
          },
          "metadata": {
            "tags": [],
            "needs_background": "light"
          }
        }
      ]
    },
    {
      "cell_type": "markdown",
      "metadata": {
        "id": "9-tk1D5rrrxC"
      },
      "source": [
        "**Question 12** - Pearsons correlation between global active and reactive power"
      ]
    },
    {
      "cell_type": "code",
      "metadata": {
        "id": "oTuDQhgpDA0i",
        "outputId": "77684239-161e-456d-e93b-fd4cf5415460",
        "colab": {
          "base_uri": "https://localhost:8080/",
          "height": 34
        }
      },
      "source": [
        "#Pearsons correlation between global active and reactive power\n",
        "print(round(power_daily['Global_active_power'].corr(power_daily['Global_reactive_power']), 2))"
      ],
      "execution_count": 8,
      "outputs": [
        {
          "output_type": "stream",
          "text": [
            "0.04\n"
          ],
          "name": "stdout"
        }
      ]
    },
    {
      "cell_type": "markdown",
      "metadata": {
        "id": "LV12mRjGrkhb"
      },
      "source": [
        "**Question 13** - Pearsons correlation between Voltage and Global_intensity"
      ]
    },
    {
      "cell_type": "code",
      "metadata": {
        "id": "K55TYdT1q6u_",
        "outputId": "2395a386-2f44-4edc-deb9-a8a9341ce720",
        "colab": {
          "base_uri": "https://localhost:8080/",
          "height": 34
        }
      },
      "source": [
        "#Pearsons correlation between Voltage and Global_intensity\n",
        "print(round(power_daily['Global_intensity'].corr(power_daily['Voltage']), 2))"
      ],
      "execution_count": 9,
      "outputs": [
        {
          "output_type": "stream",
          "text": [
            "0.05\n"
          ],
          "name": "stdout"
        }
      ]
    },
    {
      "cell_type": "markdown",
      "metadata": {
        "id": "dIxtkF0irxxZ"
      },
      "source": [
        "**QUESTION 14 and 15**"
      ]
    },
    {
      "cell_type": "code",
      "metadata": {
        "id": "_20drYxva2iq",
        "outputId": "25158104-928f-4b28-a9d7-53c655a4f93a",
        "colab": {
          "base_uri": "https://localhost:8080/",
          "height": 204
        }
      },
      "source": [
        "# reset index\n",
        "power_daily = power_daily.reset_index()\n",
        "power_daily.head()"
      ],
      "execution_count": 10,
      "outputs": [
        {
          "output_type": "execute_result",
          "data": {
            "text/html": [
              "<div>\n",
              "<style scoped>\n",
              "    .dataframe tbody tr th:only-of-type {\n",
              "        vertical-align: middle;\n",
              "    }\n",
              "\n",
              "    .dataframe tbody tr th {\n",
              "        vertical-align: top;\n",
              "    }\n",
              "\n",
              "    .dataframe thead th {\n",
              "        text-align: right;\n",
              "    }\n",
              "</style>\n",
              "<table border=\"1\" class=\"dataframe\">\n",
              "  <thead>\n",
              "    <tr style=\"text-align: right;\">\n",
              "      <th></th>\n",
              "      <th>Datetime</th>\n",
              "      <th>Global_active_power</th>\n",
              "      <th>Global_reactive_power</th>\n",
              "      <th>Voltage</th>\n",
              "      <th>Global_intensity</th>\n",
              "      <th>Sub_metering_1</th>\n",
              "      <th>Sub_metering_2</th>\n",
              "      <th>Sub_metering_3</th>\n",
              "    </tr>\n",
              "  </thead>\n",
              "  <tbody>\n",
              "    <tr>\n",
              "      <th>0</th>\n",
              "      <td>2006-12-16</td>\n",
              "      <td>1209.176</td>\n",
              "      <td>34.922</td>\n",
              "      <td>93552.53</td>\n",
              "      <td>5180.8</td>\n",
              "      <td>0.0</td>\n",
              "      <td>546.0</td>\n",
              "      <td>4926.0</td>\n",
              "    </tr>\n",
              "    <tr>\n",
              "      <th>1</th>\n",
              "      <td>2006-12-17</td>\n",
              "      <td>3390.460</td>\n",
              "      <td>226.006</td>\n",
              "      <td>345725.32</td>\n",
              "      <td>14398.6</td>\n",
              "      <td>2033.0</td>\n",
              "      <td>4187.0</td>\n",
              "      <td>13341.0</td>\n",
              "    </tr>\n",
              "    <tr>\n",
              "      <th>2</th>\n",
              "      <td>2006-12-18</td>\n",
              "      <td>2203.826</td>\n",
              "      <td>161.792</td>\n",
              "      <td>347373.64</td>\n",
              "      <td>9247.2</td>\n",
              "      <td>1063.0</td>\n",
              "      <td>2621.0</td>\n",
              "      <td>14018.0</td>\n",
              "    </tr>\n",
              "    <tr>\n",
              "      <th>3</th>\n",
              "      <td>2006-12-19</td>\n",
              "      <td>1666.194</td>\n",
              "      <td>150.942</td>\n",
              "      <td>348479.01</td>\n",
              "      <td>7094.0</td>\n",
              "      <td>839.0</td>\n",
              "      <td>7602.0</td>\n",
              "      <td>6197.0</td>\n",
              "    </tr>\n",
              "    <tr>\n",
              "      <th>4</th>\n",
              "      <td>2006-12-20</td>\n",
              "      <td>2225.748</td>\n",
              "      <td>160.998</td>\n",
              "      <td>348923.61</td>\n",
              "      <td>9313.0</td>\n",
              "      <td>0.0</td>\n",
              "      <td>2648.0</td>\n",
              "      <td>14063.0</td>\n",
              "    </tr>\n",
              "  </tbody>\n",
              "</table>\n",
              "</div>"
            ],
            "text/plain": [
              "    Datetime  Global_active_power  ...  Sub_metering_2  Sub_metering_3\n",
              "0 2006-12-16             1209.176  ...           546.0          4926.0\n",
              "1 2006-12-17             3390.460  ...          4187.0         13341.0\n",
              "2 2006-12-18             2203.826  ...          2621.0         14018.0\n",
              "3 2006-12-19             1666.194  ...          7602.0          6197.0\n",
              "4 2006-12-20             2225.748  ...          2648.0         14063.0\n",
              "\n",
              "[5 rows x 8 columns]"
            ]
          },
          "metadata": {
            "tags": []
          },
          "execution_count": 10
        }
      ]
    },
    {
      "cell_type": "code",
      "metadata": {
        "id": "Pml492w2DAwS",
        "outputId": "6ee395c0-1322-4cb8-b2c6-28570723614d",
        "colab": {
          "base_uri": "https://localhost:8080/",
          "height": 204
        }
      },
      "source": [
        "# select columns for predictive model\n",
        "model_data = power_daily[['Datetime', 'Global_active_power']]\n",
        "\n",
        "#rename columns to 'ds' and 'y' respectively\n",
        "model_data = model_data.rename(columns={'Datetime':'ds', 'Global_active_power':'y'})\n",
        "\n",
        "model_data.head()"
      ],
      "execution_count": 11,
      "outputs": [
        {
          "output_type": "execute_result",
          "data": {
            "text/html": [
              "<div>\n",
              "<style scoped>\n",
              "    .dataframe tbody tr th:only-of-type {\n",
              "        vertical-align: middle;\n",
              "    }\n",
              "\n",
              "    .dataframe tbody tr th {\n",
              "        vertical-align: top;\n",
              "    }\n",
              "\n",
              "    .dataframe thead th {\n",
              "        text-align: right;\n",
              "    }\n",
              "</style>\n",
              "<table border=\"1\" class=\"dataframe\">\n",
              "  <thead>\n",
              "    <tr style=\"text-align: right;\">\n",
              "      <th></th>\n",
              "      <th>ds</th>\n",
              "      <th>y</th>\n",
              "    </tr>\n",
              "  </thead>\n",
              "  <tbody>\n",
              "    <tr>\n",
              "      <th>0</th>\n",
              "      <td>2006-12-16</td>\n",
              "      <td>1209.176</td>\n",
              "    </tr>\n",
              "    <tr>\n",
              "      <th>1</th>\n",
              "      <td>2006-12-17</td>\n",
              "      <td>3390.460</td>\n",
              "    </tr>\n",
              "    <tr>\n",
              "      <th>2</th>\n",
              "      <td>2006-12-18</td>\n",
              "      <td>2203.826</td>\n",
              "    </tr>\n",
              "    <tr>\n",
              "      <th>3</th>\n",
              "      <td>2006-12-19</td>\n",
              "      <td>1666.194</td>\n",
              "    </tr>\n",
              "    <tr>\n",
              "      <th>4</th>\n",
              "      <td>2006-12-20</td>\n",
              "      <td>2225.748</td>\n",
              "    </tr>\n",
              "  </tbody>\n",
              "</table>\n",
              "</div>"
            ],
            "text/plain": [
              "          ds         y\n",
              "0 2006-12-16  1209.176\n",
              "1 2006-12-17  3390.460\n",
              "2 2006-12-18  2203.826\n",
              "3 2006-12-19  1666.194\n",
              "4 2006-12-20  2225.748"
            ]
          },
          "metadata": {
            "tags": []
          },
          "execution_count": 11
        }
      ]
    },
    {
      "cell_type": "code",
      "metadata": {
        "id": "7O1i8FB4DAt3",
        "outputId": "0cf62bb1-a6c1-4c68-d1c0-dea6f0d98752",
        "colab": {
          "base_uri": "https://localhost:8080/",
          "height": 51
        }
      },
      "source": [
        "# assign train and test data\n",
        "train = model_data[:-365]\n",
        "test = model_data[-365:]\n",
        "print('train shape', train.shape)\n",
        "print('test shape', test.shape)"
      ],
      "execution_count": 12,
      "outputs": [
        {
          "output_type": "stream",
          "text": [
            "train shape (1077, 2)\n",
            "test shape (365, 2)\n"
          ],
          "name": "stdout"
        }
      ]
    },
    {
      "cell_type": "code",
      "metadata": {
        "id": "wIdc8WqpDAqZ",
        "outputId": "c990e9da-aa88-418c-cbf1-2dff5b9c4fca",
        "colab": {
          "base_uri": "https://localhost:8080/",
          "height": 68
        }
      },
      "source": [
        "# fit train data to Fbprophet model\n",
        "from fbprophet import Prophet\n",
        "model = Prophet()\n",
        "model.fit(train)"
      ],
      "execution_count": 13,
      "outputs": [
        {
          "output_type": "stream",
          "text": [
            "INFO:numexpr.utils:NumExpr defaulting to 2 threads.\n",
            "INFO:fbprophet:Disabling daily seasonality. Run prophet with daily_seasonality=True to override this.\n"
          ],
          "name": "stderr"
        },
        {
          "output_type": "execute_result",
          "data": {
            "text/plain": [
              "<fbprophet.forecaster.Prophet at 0x7f958de485c0>"
            ]
          },
          "metadata": {
            "tags": []
          },
          "execution_count": 13
        }
      ]
    },
    {
      "cell_type": "code",
      "metadata": {
        "id": "CSgWfFB1coPz",
        "outputId": "2e25de55-f7ff-4aa6-9ed0-842aaeb86353",
        "colab": {
          "base_uri": "https://localhost:8080/",
          "height": 309
        }
      },
      "source": [
        "# predict for the next 365 days\n",
        "#future = model.make_future_dataframe(periods=365, freq='D') \n",
        "forecast = model.predict(test) \n",
        "forecast.head()"
      ],
      "execution_count": 14,
      "outputs": [
        {
          "output_type": "execute_result",
          "data": {
            "text/html": [
              "<div>\n",
              "<style scoped>\n",
              "    .dataframe tbody tr th:only-of-type {\n",
              "        vertical-align: middle;\n",
              "    }\n",
              "\n",
              "    .dataframe tbody tr th {\n",
              "        vertical-align: top;\n",
              "    }\n",
              "\n",
              "    .dataframe thead th {\n",
              "        text-align: right;\n",
              "    }\n",
              "</style>\n",
              "<table border=\"1\" class=\"dataframe\">\n",
              "  <thead>\n",
              "    <tr style=\"text-align: right;\">\n",
              "      <th></th>\n",
              "      <th>ds</th>\n",
              "      <th>trend</th>\n",
              "      <th>yhat_lower</th>\n",
              "      <th>yhat_upper</th>\n",
              "      <th>trend_lower</th>\n",
              "      <th>trend_upper</th>\n",
              "      <th>additive_terms</th>\n",
              "      <th>additive_terms_lower</th>\n",
              "      <th>additive_terms_upper</th>\n",
              "      <th>weekly</th>\n",
              "      <th>weekly_lower</th>\n",
              "      <th>weekly_upper</th>\n",
              "      <th>yearly</th>\n",
              "      <th>yearly_lower</th>\n",
              "      <th>yearly_upper</th>\n",
              "      <th>multiplicative_terms</th>\n",
              "      <th>multiplicative_terms_lower</th>\n",
              "      <th>multiplicative_terms_upper</th>\n",
              "      <th>yhat</th>\n",
              "    </tr>\n",
              "  </thead>\n",
              "  <tbody>\n",
              "    <tr>\n",
              "      <th>0</th>\n",
              "      <td>2009-11-27</td>\n",
              "      <td>1583.306870</td>\n",
              "      <td>1497.161662</td>\n",
              "      <td>2681.089067</td>\n",
              "      <td>1583.306870</td>\n",
              "      <td>1583.306870</td>\n",
              "      <td>518.920935</td>\n",
              "      <td>518.920935</td>\n",
              "      <td>518.920935</td>\n",
              "      <td>-64.095698</td>\n",
              "      <td>-64.095698</td>\n",
              "      <td>-64.095698</td>\n",
              "      <td>583.016633</td>\n",
              "      <td>583.016633</td>\n",
              "      <td>583.016633</td>\n",
              "      <td>0.0</td>\n",
              "      <td>0.0</td>\n",
              "      <td>0.0</td>\n",
              "      <td>2102.227805</td>\n",
              "    </tr>\n",
              "    <tr>\n",
              "      <th>1</th>\n",
              "      <td>2009-11-28</td>\n",
              "      <td>1583.442715</td>\n",
              "      <td>1867.733662</td>\n",
              "      <td>2995.323881</td>\n",
              "      <td>1583.442715</td>\n",
              "      <td>1583.442715</td>\n",
              "      <td>822.086242</td>\n",
              "      <td>822.086242</td>\n",
              "      <td>822.086242</td>\n",
              "      <td>245.727868</td>\n",
              "      <td>245.727868</td>\n",
              "      <td>245.727868</td>\n",
              "      <td>576.358374</td>\n",
              "      <td>576.358374</td>\n",
              "      <td>576.358374</td>\n",
              "      <td>0.0</td>\n",
              "      <td>0.0</td>\n",
              "      <td>0.0</td>\n",
              "      <td>2405.528957</td>\n",
              "    </tr>\n",
              "    <tr>\n",
              "      <th>2</th>\n",
              "      <td>2009-11-29</td>\n",
              "      <td>1583.578560</td>\n",
              "      <td>1814.699343</td>\n",
              "      <td>2928.288126</td>\n",
              "      <td>1583.578560</td>\n",
              "      <td>1583.578560</td>\n",
              "      <td>796.157498</td>\n",
              "      <td>796.157498</td>\n",
              "      <td>796.157498</td>\n",
              "      <td>228.437514</td>\n",
              "      <td>228.437514</td>\n",
              "      <td>228.437514</td>\n",
              "      <td>567.719983</td>\n",
              "      <td>567.719983</td>\n",
              "      <td>567.719983</td>\n",
              "      <td>0.0</td>\n",
              "      <td>0.0</td>\n",
              "      <td>0.0</td>\n",
              "      <td>2379.736058</td>\n",
              "    </tr>\n",
              "    <tr>\n",
              "      <th>3</th>\n",
              "      <td>2009-11-30</td>\n",
              "      <td>1583.714406</td>\n",
              "      <td>1436.274914</td>\n",
              "      <td>2585.382748</td>\n",
              "      <td>1583.714406</td>\n",
              "      <td>1583.714406</td>\n",
              "      <td>396.388235</td>\n",
              "      <td>396.388235</td>\n",
              "      <td>396.388235</td>\n",
              "      <td>-161.218418</td>\n",
              "      <td>-161.218418</td>\n",
              "      <td>-161.218418</td>\n",
              "      <td>557.606654</td>\n",
              "      <td>557.606654</td>\n",
              "      <td>557.606654</td>\n",
              "      <td>0.0</td>\n",
              "      <td>0.0</td>\n",
              "      <td>0.0</td>\n",
              "      <td>1980.102641</td>\n",
              "    </tr>\n",
              "    <tr>\n",
              "      <th>4</th>\n",
              "      <td>2009-12-01</td>\n",
              "      <td>1583.850251</td>\n",
              "      <td>1548.595578</td>\n",
              "      <td>2653.777325</td>\n",
              "      <td>1583.850251</td>\n",
              "      <td>1583.850251</td>\n",
              "      <td>517.221117</td>\n",
              "      <td>517.221117</td>\n",
              "      <td>517.221117</td>\n",
              "      <td>-29.322660</td>\n",
              "      <td>-29.322660</td>\n",
              "      <td>-29.322660</td>\n",
              "      <td>546.543777</td>\n",
              "      <td>546.543777</td>\n",
              "      <td>546.543777</td>\n",
              "      <td>0.0</td>\n",
              "      <td>0.0</td>\n",
              "      <td>0.0</td>\n",
              "      <td>2101.071368</td>\n",
              "    </tr>\n",
              "  </tbody>\n",
              "</table>\n",
              "</div>"
            ],
            "text/plain": [
              "          ds        trend  ...  multiplicative_terms_upper         yhat\n",
              "0 2009-11-27  1583.306870  ...                         0.0  2102.227805\n",
              "1 2009-11-28  1583.442715  ...                         0.0  2405.528957\n",
              "2 2009-11-29  1583.578560  ...                         0.0  2379.736058\n",
              "3 2009-11-30  1583.714406  ...                         0.0  1980.102641\n",
              "4 2009-12-01  1583.850251  ...                         0.0  2101.071368\n",
              "\n",
              "[5 rows x 19 columns]"
            ]
          },
          "metadata": {
            "tags": []
          },
          "execution_count": 14
        }
      ]
    },
    {
      "cell_type": "code",
      "metadata": {
        "id": "wTjrZ2dneN98",
        "outputId": "1d1c8ab3-24a4-4c93-bd61-97d28623b6a6",
        "colab": {
          "base_uri": "https://localhost:8080/",
          "height": 419
        }
      },
      "source": [
        "#yhat is the prediction while yhat_lower and yhat_upper are the upper and lower boundaries\n",
        "forecast[['ds', 'yhat', 'yhat_lower', 'yhat_upper', 'trend', 'trend_lower', 'trend_upper']]"
      ],
      "execution_count": 15,
      "outputs": [
        {
          "output_type": "execute_result",
          "data": {
            "text/html": [
              "<div>\n",
              "<style scoped>\n",
              "    .dataframe tbody tr th:only-of-type {\n",
              "        vertical-align: middle;\n",
              "    }\n",
              "\n",
              "    .dataframe tbody tr th {\n",
              "        vertical-align: top;\n",
              "    }\n",
              "\n",
              "    .dataframe thead th {\n",
              "        text-align: right;\n",
              "    }\n",
              "</style>\n",
              "<table border=\"1\" class=\"dataframe\">\n",
              "  <thead>\n",
              "    <tr style=\"text-align: right;\">\n",
              "      <th></th>\n",
              "      <th>ds</th>\n",
              "      <th>yhat</th>\n",
              "      <th>yhat_lower</th>\n",
              "      <th>yhat_upper</th>\n",
              "      <th>trend</th>\n",
              "      <th>trend_lower</th>\n",
              "      <th>trend_upper</th>\n",
              "    </tr>\n",
              "  </thead>\n",
              "  <tbody>\n",
              "    <tr>\n",
              "      <th>0</th>\n",
              "      <td>2009-11-27</td>\n",
              "      <td>2102.227805</td>\n",
              "      <td>1497.161662</td>\n",
              "      <td>2681.089067</td>\n",
              "      <td>1583.306870</td>\n",
              "      <td>1583.306870</td>\n",
              "      <td>1583.306870</td>\n",
              "    </tr>\n",
              "    <tr>\n",
              "      <th>1</th>\n",
              "      <td>2009-11-28</td>\n",
              "      <td>2405.528957</td>\n",
              "      <td>1867.733662</td>\n",
              "      <td>2995.323881</td>\n",
              "      <td>1583.442715</td>\n",
              "      <td>1583.442715</td>\n",
              "      <td>1583.442715</td>\n",
              "    </tr>\n",
              "    <tr>\n",
              "      <th>2</th>\n",
              "      <td>2009-11-29</td>\n",
              "      <td>2379.736058</td>\n",
              "      <td>1814.699343</td>\n",
              "      <td>2928.288126</td>\n",
              "      <td>1583.578560</td>\n",
              "      <td>1583.578560</td>\n",
              "      <td>1583.578560</td>\n",
              "    </tr>\n",
              "    <tr>\n",
              "      <th>3</th>\n",
              "      <td>2009-11-30</td>\n",
              "      <td>1980.102641</td>\n",
              "      <td>1436.274914</td>\n",
              "      <td>2585.382748</td>\n",
              "      <td>1583.714406</td>\n",
              "      <td>1583.714406</td>\n",
              "      <td>1583.714406</td>\n",
              "    </tr>\n",
              "    <tr>\n",
              "      <th>4</th>\n",
              "      <td>2009-12-01</td>\n",
              "      <td>2101.071368</td>\n",
              "      <td>1548.595578</td>\n",
              "      <td>2653.777325</td>\n",
              "      <td>1583.850251</td>\n",
              "      <td>1583.850251</td>\n",
              "      <td>1583.850251</td>\n",
              "    </tr>\n",
              "    <tr>\n",
              "      <th>...</th>\n",
              "      <td>...</td>\n",
              "      <td>...</td>\n",
              "      <td>...</td>\n",
              "      <td>...</td>\n",
              "      <td>...</td>\n",
              "      <td>...</td>\n",
              "      <td>...</td>\n",
              "    </tr>\n",
              "    <tr>\n",
              "      <th>360</th>\n",
              "      <td>2010-11-22</td>\n",
              "      <td>2040.151795</td>\n",
              "      <td>1481.461874</td>\n",
              "      <td>2608.456038</td>\n",
              "      <td>1632.211137</td>\n",
              "      <td>1620.686861</td>\n",
              "      <td>1646.196425</td>\n",
              "    </tr>\n",
              "    <tr>\n",
              "      <th>361</th>\n",
              "      <td>2010-11-23</td>\n",
              "      <td>2182.312497</td>\n",
              "      <td>1673.668532</td>\n",
              "      <td>2741.940384</td>\n",
              "      <td>1632.346982</td>\n",
              "      <td>1620.781663</td>\n",
              "      <td>1646.394655</td>\n",
              "    </tr>\n",
              "    <tr>\n",
              "      <th>362</th>\n",
              "      <td>2010-11-24</td>\n",
              "      <td>2193.411479</td>\n",
              "      <td>1629.665836</td>\n",
              "      <td>2819.788620</td>\n",
              "      <td>1632.482827</td>\n",
              "      <td>1620.874572</td>\n",
              "      <td>1646.596333</td>\n",
              "    </tr>\n",
              "    <tr>\n",
              "      <th>363</th>\n",
              "      <td>2010-11-25</td>\n",
              "      <td>2026.197054</td>\n",
              "      <td>1493.734334</td>\n",
              "      <td>2593.322377</td>\n",
              "      <td>1632.618672</td>\n",
              "      <td>1620.960118</td>\n",
              "      <td>1646.798011</td>\n",
              "    </tr>\n",
              "    <tr>\n",
              "      <th>364</th>\n",
              "      <td>2010-11-26</td>\n",
              "      <td>2156.500936</td>\n",
              "      <td>1603.485754</td>\n",
              "      <td>2734.777402</td>\n",
              "      <td>1632.754517</td>\n",
              "      <td>1621.034204</td>\n",
              "      <td>1646.991637</td>\n",
              "    </tr>\n",
              "  </tbody>\n",
              "</table>\n",
              "<p>365 rows × 7 columns</p>\n",
              "</div>"
            ],
            "text/plain": [
              "            ds         yhat   yhat_lower  ...        trend  trend_lower  trend_upper\n",
              "0   2009-11-27  2102.227805  1497.161662  ...  1583.306870  1583.306870  1583.306870\n",
              "1   2009-11-28  2405.528957  1867.733662  ...  1583.442715  1583.442715  1583.442715\n",
              "2   2009-11-29  2379.736058  1814.699343  ...  1583.578560  1583.578560  1583.578560\n",
              "3   2009-11-30  1980.102641  1436.274914  ...  1583.714406  1583.714406  1583.714406\n",
              "4   2009-12-01  2101.071368  1548.595578  ...  1583.850251  1583.850251  1583.850251\n",
              "..         ...          ...          ...  ...          ...          ...          ...\n",
              "360 2010-11-22  2040.151795  1481.461874  ...  1632.211137  1620.686861  1646.196425\n",
              "361 2010-11-23  2182.312497  1673.668532  ...  1632.346982  1620.781663  1646.394655\n",
              "362 2010-11-24  2193.411479  1629.665836  ...  1632.482827  1620.874572  1646.596333\n",
              "363 2010-11-25  2026.197054  1493.734334  ...  1632.618672  1620.960118  1646.798011\n",
              "364 2010-11-26  2156.500936  1603.485754  ...  1632.754517  1621.034204  1646.991637\n",
              "\n",
              "[365 rows x 7 columns]"
            ]
          },
          "metadata": {
            "tags": []
          },
          "execution_count": 15
        }
      ]
    },
    {
      "cell_type": "code",
      "metadata": {
        "id": "5bQRkfUlsYsL",
        "outputId": "84c05cdb-a768-488d-cc8a-f33b2d8c83b4",
        "colab": {
          "base_uri": "https://localhost:8080/",
          "height": 51
        }
      },
      "source": [
        "mape = np.mean(np.abs(np.array(test['y']) - np.array(forecast['yhat']))/ np.array(test['y'])) *100\n",
        " \n",
        "from sklearn import metrics \n",
        "rmse = np.sqrt(metrics.mean_squared_error(np.array(test['y']),np.array(forecast['yhat'])))\n",
        " \n",
        "print('mean_absolute_percentage_error', round(mape,2))\n",
        "print('root mean_squared_error', round(rmse,2))"
      ],
      "execution_count": 16,
      "outputs": [
        {
          "output_type": "stream",
          "text": [
            "mean_absolute_percentage_error 20.9\n",
            "root mean_squared_error 375.04\n"
          ],
          "name": "stdout"
        }
      ]
    },
    {
      "cell_type": "markdown",
      "metadata": {
        "id": "1Uv2C4Lm7B84"
      },
      "source": [
        "**Question 16**"
      ]
    },
    {
      "cell_type": "code",
      "metadata": {
        "id": "BViLLugrebNZ",
        "outputId": "a491349d-0040-4bdf-eff5-e417ff0552c2",
        "colab": {
          "base_uri": "https://localhost:8080/",
          "height": 422
        }
      },
      "source": [
        "from fbprophet.plot import plot_yearly\n",
        "plot_yearly(model)"
      ],
      "execution_count": 17,
      "outputs": [
        {
          "output_type": "execute_result",
          "data": {
            "text/plain": [
              "[<matplotlib.lines.Line2D at 0x7f9589396358>,\n",
              " <matplotlib.collections.PolyCollection at 0x7f95892ac358>]"
            ]
          },
          "metadata": {
            "tags": []
          },
          "execution_count": 17
        },
        {
          "output_type": "display_data",
          "data": {
            "image/png": "[encoded data removed]",
            "text/plain": [
              "<Figure size 720x432 with 1 Axes>"
            ]
          },
          "metadata": {
            "tags": []
          }
        }
      ]
    },
    {
      "cell_type": "markdown",
      "metadata": {
        "id": "_Ch7ArV57J7i"
      },
      "source": [
        "**Question 17 and 18**"
      ]
    },
    {
      "cell_type": "code",
      "metadata": {
        "id": "GjOsxRPtejTA",
        "outputId": "88f75eb2-a94d-4c0a-88c6-9b1301338386",
        "colab": {
          "base_uri": "https://localhost:8080/",
          "height": 204
        }
      },
      "source": [
        " multi_model = power_daily.rename(columns = {'Datetime':'ds','Global_active_power':'y',\n",
        "                                           'Global_reactive_power':'add1','Voltage':'add2',\n",
        "                                           'Global_intensity':'add3','Sub_metering_1':'add4',\n",
        "                                          'Sub_metering_2':'add5','Sub_metering_3':'add6'})\n",
        "multi_model.head()"
      ],
      "execution_count": 18,
      "outputs": [
        {
          "output_type": "execute_result",
          "data": {
            "text/html": [
              "<div>\n",
              "<style scoped>\n",
              "    .dataframe tbody tr th:only-of-type {\n",
              "        vertical-align: middle;\n",
              "    }\n",
              "\n",
              "    .dataframe tbody tr th {\n",
              "        vertical-align: top;\n",
              "    }\n",
              "\n",
              "    .dataframe thead th {\n",
              "        text-align: right;\n",
              "    }\n",
              "</style>\n",
              "<table border=\"1\" class=\"dataframe\">\n",
              "  <thead>\n",
              "    <tr style=\"text-align: right;\">\n",
              "      <th></th>\n",
              "      <th>ds</th>\n",
              "      <th>y</th>\n",
              "      <th>add1</th>\n",
              "      <th>add2</th>\n",
              "      <th>add3</th>\n",
              "      <th>add4</th>\n",
              "      <th>add5</th>\n",
              "      <th>add6</th>\n",
              "    </tr>\n",
              "  </thead>\n",
              "  <tbody>\n",
              "    <tr>\n",
              "      <th>0</th>\n",
              "      <td>2006-12-16</td>\n",
              "      <td>1209.176</td>\n",
              "      <td>34.922</td>\n",
              "      <td>93552.53</td>\n",
              "      <td>5180.8</td>\n",
              "      <td>0.0</td>\n",
              "      <td>546.0</td>\n",
              "      <td>4926.0</td>\n",
              "    </tr>\n",
              "    <tr>\n",
              "      <th>1</th>\n",
              "      <td>2006-12-17</td>\n",
              "      <td>3390.460</td>\n",
              "      <td>226.006</td>\n",
              "      <td>345725.32</td>\n",
              "      <td>14398.6</td>\n",
              "      <td>2033.0</td>\n",
              "      <td>4187.0</td>\n",
              "      <td>13341.0</td>\n",
              "    </tr>\n",
              "    <tr>\n",
              "      <th>2</th>\n",
              "      <td>2006-12-18</td>\n",
              "      <td>2203.826</td>\n",
              "      <td>161.792</td>\n",
              "      <td>347373.64</td>\n",
              "      <td>9247.2</td>\n",
              "      <td>1063.0</td>\n",
              "      <td>2621.0</td>\n",
              "      <td>14018.0</td>\n",
              "    </tr>\n",
              "    <tr>\n",
              "      <th>3</th>\n",
              "      <td>2006-12-19</td>\n",
              "      <td>1666.194</td>\n",
              "      <td>150.942</td>\n",
              "      <td>348479.01</td>\n",
              "      <td>7094.0</td>\n",
              "      <td>839.0</td>\n",
              "      <td>7602.0</td>\n",
              "      <td>6197.0</td>\n",
              "    </tr>\n",
              "    <tr>\n",
              "      <th>4</th>\n",
              "      <td>2006-12-20</td>\n",
              "      <td>2225.748</td>\n",
              "      <td>160.998</td>\n",
              "      <td>348923.61</td>\n",
              "      <td>9313.0</td>\n",
              "      <td>0.0</td>\n",
              "      <td>2648.0</td>\n",
              "      <td>14063.0</td>\n",
              "    </tr>\n",
              "  </tbody>\n",
              "</table>\n",
              "</div>"
            ],
            "text/plain": [
              "          ds         y     add1       add2     add3    add4    add5     add6\n",
              "0 2006-12-16  1209.176   34.922   93552.53   5180.8     0.0   546.0   4926.0\n",
              "1 2006-12-17  3390.460  226.006  345725.32  14398.6  2033.0  4187.0  13341.0\n",
              "2 2006-12-18  2203.826  161.792  347373.64   9247.2  1063.0  2621.0  14018.0\n",
              "3 2006-12-19  1666.194  150.942  348479.01   7094.0   839.0  7602.0   6197.0\n",
              "4 2006-12-20  2225.748  160.998  348923.61   9313.0     0.0  2648.0  14063.0"
            ]
          },
          "metadata": {
            "tags": []
          },
          "execution_count": 18
        }
      ]
    },
    {
      "cell_type": "code",
      "metadata": {
        "id": "-iyfp0SxHdcQ",
        "outputId": "79f304f6-e607-4389-bec1-555d1764cfb1",
        "colab": {
          "base_uri": "https://localhost:8080/",
          "height": 51
        }
      },
      "source": [
        "# assign train and test data\n",
        "train2 = multi_model[:-365]\n",
        "test2 = multi_model[-365:]\n",
        "print('train shape', train2.shape)\n",
        "print('test shape', test2.shape)"
      ],
      "execution_count": 19,
      "outputs": [
        {
          "output_type": "stream",
          "text": [
            "train shape (1077, 8)\n",
            "test shape (365, 8)\n"
          ],
          "name": "stdout"
        }
      ]
    },
    {
      "cell_type": "code",
      "metadata": {
        "id": "QemPkOPEHyqU",
        "outputId": "bc5c30a9-1684-4fbe-e48e-d6e1606a0e92",
        "colab": {
          "base_uri": "https://localhost:8080/",
          "height": 34
        }
      },
      "source": [
        " #creat multivariate model\n",
        "model2 = Prophet()\n",
        "model2.add_regressor('add1')\n",
        "model2.add_regressor('add2')\n",
        "model2.add_regressor('add3')\n",
        "model2.add_regressor('add4')\n",
        "model2.add_regressor('add5')\n",
        "model2.add_regressor('add6')"
      ],
      "execution_count": 20,
      "outputs": [
        {
          "output_type": "execute_result",
          "data": {
            "text/plain": [
              "<fbprophet.forecaster.Prophet at 0x7f95893c18d0>"
            ]
          },
          "metadata": {
            "tags": []
          },
          "execution_count": 20
        }
      ]
    },
    {
      "cell_type": "code",
      "metadata": {
        "id": "xJa3BqU0JMQa",
        "outputId": "6923bb25-6f91-43f1-bff0-ab3de06e4419",
        "colab": {
          "base_uri": "https://localhost:8080/",
          "height": 34
        }
      },
      "source": [
        " \n",
        "model2.fit(train2)\n",
        " \n",
        "forecast2 = model2.predict(test2)"
      ],
      "execution_count": 21,
      "outputs": [
        {
          "output_type": "stream",
          "text": [
            "INFO:fbprophet:Disabling daily seasonality. Run prophet with daily_seasonality=True to override this.\n"
          ],
          "name": "stderr"
        }
      ]
    },
    {
      "cell_type": "code",
      "metadata": {
        "id": "9Y2a-qdRkjW8",
        "outputId": "60bdd2d1-aee2-483f-cea7-458a0c48ec86",
        "colab": {
          "base_uri": "https://localhost:8080/",
          "height": 609
        }
      },
      "source": [
        "forecast2"
      ],
      "execution_count": 22,
      "outputs": [
        {
          "output_type": "execute_result",
          "data": {
            "text/html": [
              "<div>\n",
              "<style scoped>\n",
              "    .dataframe tbody tr th:only-of-type {\n",
              "        vertical-align: middle;\n",
              "    }\n",
              "\n",
              "    .dataframe tbody tr th {\n",
              "        vertical-align: top;\n",
              "    }\n",
              "\n",
              "    .dataframe thead th {\n",
              "        text-align: right;\n",
              "    }\n",
              "</style>\n",
              "<table border=\"1\" class=\"dataframe\">\n",
              "  <thead>\n",
              "    <tr style=\"text-align: right;\">\n",
              "      <th></th>\n",
              "      <th>ds</th>\n",
              "      <th>trend</th>\n",
              "      <th>yhat_lower</th>\n",
              "      <th>yhat_upper</th>\n",
              "      <th>trend_lower</th>\n",
              "      <th>trend_upper</th>\n",
              "      <th>add1</th>\n",
              "      <th>add1_lower</th>\n",
              "      <th>add1_upper</th>\n",
              "      <th>add2</th>\n",
              "      <th>add2_lower</th>\n",
              "      <th>add2_upper</th>\n",
              "      <th>add3</th>\n",
              "      <th>add3_lower</th>\n",
              "      <th>add3_upper</th>\n",
              "      <th>add4</th>\n",
              "      <th>add4_lower</th>\n",
              "      <th>add4_upper</th>\n",
              "      <th>add5</th>\n",
              "      <th>add5_lower</th>\n",
              "      <th>add5_upper</th>\n",
              "      <th>add6</th>\n",
              "      <th>add6_lower</th>\n",
              "      <th>add6_upper</th>\n",
              "      <th>additive_terms</th>\n",
              "      <th>additive_terms_lower</th>\n",
              "      <th>additive_terms_upper</th>\n",
              "      <th>extra_regressors_additive</th>\n",
              "      <th>extra_regressors_additive_lower</th>\n",
              "      <th>extra_regressors_additive_upper</th>\n",
              "      <th>weekly</th>\n",
              "      <th>weekly_lower</th>\n",
              "      <th>weekly_upper</th>\n",
              "      <th>yearly</th>\n",
              "      <th>yearly_lower</th>\n",
              "      <th>yearly_upper</th>\n",
              "      <th>multiplicative_terms</th>\n",
              "      <th>multiplicative_terms_lower</th>\n",
              "      <th>multiplicative_terms_upper</th>\n",
              "      <th>yhat</th>\n",
              "    </tr>\n",
              "  </thead>\n",
              "  <tbody>\n",
              "    <tr>\n",
              "      <th>0</th>\n",
              "      <td>2009-11-27</td>\n",
              "      <td>1596.426121</td>\n",
              "      <td>1365.422106</td>\n",
              "      <td>1397.787473</td>\n",
              "      <td>1596.426121</td>\n",
              "      <td>1596.426121</td>\n",
              "      <td>7.541574</td>\n",
              "      <td>7.541574</td>\n",
              "      <td>7.541574</td>\n",
              "      <td>0.614069</td>\n",
              "      <td>0.614069</td>\n",
              "      <td>0.614069</td>\n",
              "      <td>-232.325836</td>\n",
              "      <td>-232.325836</td>\n",
              "      <td>-232.325836</td>\n",
              "      <td>2.196835</td>\n",
              "      <td>2.196835</td>\n",
              "      <td>2.196835</td>\n",
              "      <td>0.821706</td>\n",
              "      <td>0.821706</td>\n",
              "      <td>0.821706</td>\n",
              "      <td>3.860963</td>\n",
              "      <td>3.860963</td>\n",
              "      <td>3.860963</td>\n",
              "      <td>-215.231457</td>\n",
              "      <td>-215.231457</td>\n",
              "      <td>-215.231457</td>\n",
              "      <td>-217.290689</td>\n",
              "      <td>-217.290689</td>\n",
              "      <td>-217.290689</td>\n",
              "      <td>-0.112838</td>\n",
              "      <td>-0.112838</td>\n",
              "      <td>-0.112838</td>\n",
              "      <td>2.172070</td>\n",
              "      <td>2.172070</td>\n",
              "      <td>2.172070</td>\n",
              "      <td>0.0</td>\n",
              "      <td>0.0</td>\n",
              "      <td>0.0</td>\n",
              "      <td>1381.194664</td>\n",
              "    </tr>\n",
              "    <tr>\n",
              "      <th>1</th>\n",
              "      <td>2009-11-28</td>\n",
              "      <td>1596.556409</td>\n",
              "      <td>1846.013976</td>\n",
              "      <td>1876.758255</td>\n",
              "      <td>1596.556409</td>\n",
              "      <td>1596.556409</td>\n",
              "      <td>-8.886784</td>\n",
              "      <td>-8.886784</td>\n",
              "      <td>-8.886784</td>\n",
              "      <td>0.505234</td>\n",
              "      <td>0.505234</td>\n",
              "      <td>0.505234</td>\n",
              "      <td>263.403386</td>\n",
              "      <td>263.403386</td>\n",
              "      <td>263.403386</td>\n",
              "      <td>-2.022916</td>\n",
              "      <td>-2.022916</td>\n",
              "      <td>-2.022916</td>\n",
              "      <td>0.826962</td>\n",
              "      <td>0.826962</td>\n",
              "      <td>0.826962</td>\n",
              "      <td>7.743796</td>\n",
              "      <td>7.743796</td>\n",
              "      <td>7.743796</td>\n",
              "      <td>265.479235</td>\n",
              "      <td>265.479235</td>\n",
              "      <td>265.479235</td>\n",
              "      <td>261.569679</td>\n",
              "      <td>261.569679</td>\n",
              "      <td>261.569679</td>\n",
              "      <td>1.408596</td>\n",
              "      <td>1.408596</td>\n",
              "      <td>1.408596</td>\n",
              "      <td>2.500960</td>\n",
              "      <td>2.500960</td>\n",
              "      <td>2.500960</td>\n",
              "      <td>0.0</td>\n",
              "      <td>0.0</td>\n",
              "      <td>0.0</td>\n",
              "      <td>1862.035644</td>\n",
              "    </tr>\n",
              "    <tr>\n",
              "      <th>2</th>\n",
              "      <td>2009-11-29</td>\n",
              "      <td>1596.686696</td>\n",
              "      <td>1628.174720</td>\n",
              "      <td>1660.796970</td>\n",
              "      <td>1596.686696</td>\n",
              "      <td>1596.686696</td>\n",
              "      <td>-2.797493</td>\n",
              "      <td>-2.797493</td>\n",
              "      <td>-2.797493</td>\n",
              "      <td>1.215510</td>\n",
              "      <td>1.215510</td>\n",
              "      <td>1.215510</td>\n",
              "      <td>47.462898</td>\n",
              "      <td>47.462898</td>\n",
              "      <td>47.462898</td>\n",
              "      <td>0.781457</td>\n",
              "      <td>0.781457</td>\n",
              "      <td>0.781457</td>\n",
              "      <td>-0.578994</td>\n",
              "      <td>-0.578994</td>\n",
              "      <td>-0.578994</td>\n",
              "      <td>-1.461525</td>\n",
              "      <td>-1.461525</td>\n",
              "      <td>-1.461525</td>\n",
              "      <td>47.650995</td>\n",
              "      <td>47.650995</td>\n",
              "      <td>47.650995</td>\n",
              "      <td>44.621854</td>\n",
              "      <td>44.621854</td>\n",
              "      <td>44.621854</td>\n",
              "      <td>0.164156</td>\n",
              "      <td>0.164156</td>\n",
              "      <td>0.164156</td>\n",
              "      <td>2.864986</td>\n",
              "      <td>2.864986</td>\n",
              "      <td>2.864986</td>\n",
              "      <td>0.0</td>\n",
              "      <td>0.0</td>\n",
              "      <td>0.0</td>\n",
              "      <td>1644.337692</td>\n",
              "    </tr>\n",
              "    <tr>\n",
              "      <th>3</th>\n",
              "      <td>2009-11-30</td>\n",
              "      <td>1596.816984</td>\n",
              "      <td>1727.818459</td>\n",
              "      <td>1758.033493</td>\n",
              "      <td>1596.816984</td>\n",
              "      <td>1596.816984</td>\n",
              "      <td>3.917803</td>\n",
              "      <td>3.917803</td>\n",
              "      <td>3.917803</td>\n",
              "      <td>1.404493</td>\n",
              "      <td>1.404493</td>\n",
              "      <td>1.404493</td>\n",
              "      <td>131.752113</td>\n",
              "      <td>131.752113</td>\n",
              "      <td>131.752113</td>\n",
              "      <td>0.772224</td>\n",
              "      <td>0.772224</td>\n",
              "      <td>0.772224</td>\n",
              "      <td>0.840102</td>\n",
              "      <td>0.840102</td>\n",
              "      <td>0.840102</td>\n",
              "      <td>4.481991</td>\n",
              "      <td>4.481991</td>\n",
              "      <td>4.481991</td>\n",
              "      <td>146.099282</td>\n",
              "      <td>146.099282</td>\n",
              "      <td>146.099282</td>\n",
              "      <td>143.168725</td>\n",
              "      <td>143.168725</td>\n",
              "      <td>143.168725</td>\n",
              "      <td>-0.338153</td>\n",
              "      <td>-0.338153</td>\n",
              "      <td>-0.338153</td>\n",
              "      <td>3.268710</td>\n",
              "      <td>3.268710</td>\n",
              "      <td>3.268710</td>\n",
              "      <td>0.0</td>\n",
              "      <td>0.0</td>\n",
              "      <td>0.0</td>\n",
              "      <td>1742.916266</td>\n",
              "    </tr>\n",
              "    <tr>\n",
              "      <th>4</th>\n",
              "      <td>2009-12-01</td>\n",
              "      <td>1596.947271</td>\n",
              "      <td>1745.954998</td>\n",
              "      <td>1779.633181</td>\n",
              "      <td>1596.947271</td>\n",
              "      <td>1596.947271</td>\n",
              "      <td>5.969075</td>\n",
              "      <td>5.969075</td>\n",
              "      <td>5.969075</td>\n",
              "      <td>0.935274</td>\n",
              "      <td>0.935274</td>\n",
              "      <td>0.935274</td>\n",
              "      <td>150.954235</td>\n",
              "      <td>150.954235</td>\n",
              "      <td>150.954235</td>\n",
              "      <td>2.196835</td>\n",
              "      <td>2.196835</td>\n",
              "      <td>2.196835</td>\n",
              "      <td>0.843781</td>\n",
              "      <td>0.843781</td>\n",
              "      <td>0.843781</td>\n",
              "      <td>2.762874</td>\n",
              "      <td>2.762874</td>\n",
              "      <td>2.762874</td>\n",
              "      <td>165.708177</td>\n",
              "      <td>165.708177</td>\n",
              "      <td>165.708177</td>\n",
              "      <td>163.662074</td>\n",
              "      <td>163.662074</td>\n",
              "      <td>163.662074</td>\n",
              "      <td>-1.669783</td>\n",
              "      <td>-1.669783</td>\n",
              "      <td>-1.669783</td>\n",
              "      <td>3.715886</td>\n",
              "      <td>3.715886</td>\n",
              "      <td>3.715886</td>\n",
              "      <td>0.0</td>\n",
              "      <td>0.0</td>\n",
              "      <td>0.0</td>\n",
              "      <td>1762.655448</td>\n",
              "    </tr>\n",
              "    <tr>\n",
              "      <th>...</th>\n",
              "      <td>...</td>\n",
              "      <td>...</td>\n",
              "      <td>...</td>\n",
              "      <td>...</td>\n",
              "      <td>...</td>\n",
              "      <td>...</td>\n",
              "      <td>...</td>\n",
              "      <td>...</td>\n",
              "      <td>...</td>\n",
              "      <td>...</td>\n",
              "      <td>...</td>\n",
              "      <td>...</td>\n",
              "      <td>...</td>\n",
              "      <td>...</td>\n",
              "      <td>...</td>\n",
              "      <td>...</td>\n",
              "      <td>...</td>\n",
              "      <td>...</td>\n",
              "      <td>...</td>\n",
              "      <td>...</td>\n",
              "      <td>...</td>\n",
              "      <td>...</td>\n",
              "      <td>...</td>\n",
              "      <td>...</td>\n",
              "      <td>...</td>\n",
              "      <td>...</td>\n",
              "      <td>...</td>\n",
              "      <td>...</td>\n",
              "      <td>...</td>\n",
              "      <td>...</td>\n",
              "      <td>...</td>\n",
              "      <td>...</td>\n",
              "      <td>...</td>\n",
              "      <td>...</td>\n",
              "      <td>...</td>\n",
              "      <td>...</td>\n",
              "      <td>...</td>\n",
              "      <td>...</td>\n",
              "      <td>...</td>\n",
              "      <td>...</td>\n",
              "    </tr>\n",
              "    <tr>\n",
              "      <th>360</th>\n",
              "      <td>2010-11-22</td>\n",
              "      <td>1643.329613</td>\n",
              "      <td>1836.524022</td>\n",
              "      <td>2385.028449</td>\n",
              "      <td>1367.066975</td>\n",
              "      <td>1900.033190</td>\n",
              "      <td>5.883516</td>\n",
              "      <td>5.883516</td>\n",
              "      <td>5.883516</td>\n",
              "      <td>-0.075230</td>\n",
              "      <td>-0.075230</td>\n",
              "      <td>-0.075230</td>\n",
              "      <td>472.006090</td>\n",
              "      <td>472.006090</td>\n",
              "      <td>472.006090</td>\n",
              "      <td>-4.207320</td>\n",
              "      <td>-4.207320</td>\n",
              "      <td>-4.207320</td>\n",
              "      <td>-0.079157</td>\n",
              "      <td>-0.079157</td>\n",
              "      <td>-0.079157</td>\n",
              "      <td>1.796047</td>\n",
              "      <td>1.796047</td>\n",
              "      <td>1.796047</td>\n",
              "      <td>475.788813</td>\n",
              "      <td>475.788813</td>\n",
              "      <td>475.788813</td>\n",
              "      <td>475.323947</td>\n",
              "      <td>475.323947</td>\n",
              "      <td>475.323947</td>\n",
              "      <td>-0.338153</td>\n",
              "      <td>-0.338153</td>\n",
              "      <td>-0.338153</td>\n",
              "      <td>0.803020</td>\n",
              "      <td>0.803020</td>\n",
              "      <td>0.803020</td>\n",
              "      <td>0.0</td>\n",
              "      <td>0.0</td>\n",
              "      <td>0.0</td>\n",
              "      <td>2119.118426</td>\n",
              "    </tr>\n",
              "    <tr>\n",
              "      <th>361</th>\n",
              "      <td>2010-11-23</td>\n",
              "      <td>1643.459900</td>\n",
              "      <td>1382.300024</td>\n",
              "      <td>1923.100397</td>\n",
              "      <td>1366.373157</td>\n",
              "      <td>1901.921127</td>\n",
              "      <td>6.757642</td>\n",
              "      <td>6.757642</td>\n",
              "      <td>6.757642</td>\n",
              "      <td>0.081740</td>\n",
              "      <td>0.081740</td>\n",
              "      <td>0.081740</td>\n",
              "      <td>12.394010</td>\n",
              "      <td>12.394010</td>\n",
              "      <td>12.394010</td>\n",
              "      <td>-0.271172</td>\n",
              "      <td>-0.271172</td>\n",
              "      <td>-0.271172</td>\n",
              "      <td>0.789120</td>\n",
              "      <td>0.789120</td>\n",
              "      <td>0.789120</td>\n",
              "      <td>-1.767804</td>\n",
              "      <td>-1.767804</td>\n",
              "      <td>-1.767804</td>\n",
              "      <td>17.352790</td>\n",
              "      <td>17.352790</td>\n",
              "      <td>17.352790</td>\n",
              "      <td>17.983536</td>\n",
              "      <td>17.983536</td>\n",
              "      <td>17.983536</td>\n",
              "      <td>-1.669783</td>\n",
              "      <td>-1.669783</td>\n",
              "      <td>-1.669783</td>\n",
              "      <td>1.039037</td>\n",
              "      <td>1.039037</td>\n",
              "      <td>1.039037</td>\n",
              "      <td>0.0</td>\n",
              "      <td>0.0</td>\n",
              "      <td>0.0</td>\n",
              "      <td>1660.812690</td>\n",
              "    </tr>\n",
              "    <tr>\n",
              "      <th>362</th>\n",
              "      <td>2010-11-24</td>\n",
              "      <td>1643.590188</td>\n",
              "      <td>1591.246289</td>\n",
              "      <td>2133.309092</td>\n",
              "      <td>1365.442885</td>\n",
              "      <td>1903.851681</td>\n",
              "      <td>7.647097</td>\n",
              "      <td>7.647097</td>\n",
              "      <td>7.647097</td>\n",
              "      <td>-0.144153</td>\n",
              "      <td>-0.144153</td>\n",
              "      <td>-0.144153</td>\n",
              "      <td>209.704152</td>\n",
              "      <td>209.704152</td>\n",
              "      <td>209.704152</td>\n",
              "      <td>0.751119</td>\n",
              "      <td>0.751119</td>\n",
              "      <td>0.751119</td>\n",
              "      <td>-0.467043</td>\n",
              "      <td>-0.467043</td>\n",
              "      <td>-0.467043</td>\n",
              "      <td>4.743104</td>\n",
              "      <td>4.743104</td>\n",
              "      <td>4.743104</td>\n",
              "      <td>224.616620</td>\n",
              "      <td>224.616620</td>\n",
              "      <td>224.616620</td>\n",
              "      <td>222.234276</td>\n",
              "      <td>222.234276</td>\n",
              "      <td>222.234276</td>\n",
              "      <td>1.101892</td>\n",
              "      <td>1.101892</td>\n",
              "      <td>1.101892</td>\n",
              "      <td>1.280452</td>\n",
              "      <td>1.280452</td>\n",
              "      <td>1.280452</td>\n",
              "      <td>0.0</td>\n",
              "      <td>0.0</td>\n",
              "      <td>0.0</td>\n",
              "      <td>1868.206808</td>\n",
              "    </tr>\n",
              "    <tr>\n",
              "      <th>363</th>\n",
              "      <td>2010-11-25</td>\n",
              "      <td>1643.720475</td>\n",
              "      <td>1212.774919</td>\n",
              "      <td>1750.669848</td>\n",
              "      <td>1364.437042</td>\n",
              "      <td>1904.619443</td>\n",
              "      <td>10.558235</td>\n",
              "      <td>10.558235</td>\n",
              "      <td>10.558235</td>\n",
              "      <td>0.480265</td>\n",
              "      <td>0.480265</td>\n",
              "      <td>0.480265</td>\n",
              "      <td>-160.853919</td>\n",
              "      <td>-160.853919</td>\n",
              "      <td>-160.853919</td>\n",
              "      <td>0.777500</td>\n",
              "      <td>0.777500</td>\n",
              "      <td>0.777500</td>\n",
              "      <td>0.805938</td>\n",
              "      <td>0.805938</td>\n",
              "      <td>0.805938</td>\n",
              "      <td>-5.351415</td>\n",
              "      <td>-5.351415</td>\n",
              "      <td>-5.351415</td>\n",
              "      <td>-152.604317</td>\n",
              "      <td>-152.604317</td>\n",
              "      <td>-152.604317</td>\n",
              "      <td>-153.583395</td>\n",
              "      <td>-153.583395</td>\n",
              "      <td>-153.583395</td>\n",
              "      <td>-0.553871</td>\n",
              "      <td>-0.553871</td>\n",
              "      <td>-0.553871</td>\n",
              "      <td>1.532949</td>\n",
              "      <td>1.532949</td>\n",
              "      <td>1.532949</td>\n",
              "      <td>0.0</td>\n",
              "      <td>0.0</td>\n",
              "      <td>0.0</td>\n",
              "      <td>1491.116158</td>\n",
              "    </tr>\n",
              "    <tr>\n",
              "      <th>364</th>\n",
              "      <td>2010-11-26</td>\n",
              "      <td>1643.850763</td>\n",
              "      <td>1267.715835</td>\n",
              "      <td>1810.809758</td>\n",
              "      <td>1363.431200</td>\n",
              "      <td>1906.203803</td>\n",
              "      <td>9.720828</td>\n",
              "      <td>9.720828</td>\n",
              "      <td>9.720828</td>\n",
              "      <td>-12.288156</td>\n",
              "      <td>-12.288156</td>\n",
              "      <td>-12.288156</td>\n",
              "      <td>-99.912197</td>\n",
              "      <td>-99.912197</td>\n",
              "      <td>-99.912197</td>\n",
              "      <td>0.772224</td>\n",
              "      <td>0.772224</td>\n",
              "      <td>0.772224</td>\n",
              "      <td>0.827488</td>\n",
              "      <td>0.827488</td>\n",
              "      <td>0.827488</td>\n",
              "      <td>1.588567</td>\n",
              "      <td>1.588567</td>\n",
              "      <td>1.588567</td>\n",
              "      <td>-97.601671</td>\n",
              "      <td>-97.601671</td>\n",
              "      <td>-97.601671</td>\n",
              "      <td>-99.291246</td>\n",
              "      <td>-99.291246</td>\n",
              "      <td>-99.291246</td>\n",
              "      <td>-0.112838</td>\n",
              "      <td>-0.112838</td>\n",
              "      <td>-0.112838</td>\n",
              "      <td>1.802413</td>\n",
              "      <td>1.802413</td>\n",
              "      <td>1.802413</td>\n",
              "      <td>0.0</td>\n",
              "      <td>0.0</td>\n",
              "      <td>0.0</td>\n",
              "      <td>1546.249092</td>\n",
              "    </tr>\n",
              "  </tbody>\n",
              "</table>\n",
              "<p>365 rows × 40 columns</p>\n",
              "</div>"
            ],
            "text/plain": [
              "            ds        trend  ...  multiplicative_terms_upper         yhat\n",
              "0   2009-11-27  1596.426121  ...                         0.0  1381.194664\n",
              "1   2009-11-28  1596.556409  ...                         0.0  1862.035644\n",
              "2   2009-11-29  1596.686696  ...                         0.0  1644.337692\n",
              "3   2009-11-30  1596.816984  ...                         0.0  1742.916266\n",
              "4   2009-12-01  1596.947271  ...                         0.0  1762.655448\n",
              "..         ...          ...  ...                         ...          ...\n",
              "360 2010-11-22  1643.329613  ...                         0.0  2119.118426\n",
              "361 2010-11-23  1643.459900  ...                         0.0  1660.812690\n",
              "362 2010-11-24  1643.590188  ...                         0.0  1868.206808\n",
              "363 2010-11-25  1643.720475  ...                         0.0  1491.116158\n",
              "364 2010-11-26  1643.850763  ...                         0.0  1546.249092\n",
              "\n",
              "[365 rows x 40 columns]"
            ]
          },
          "metadata": {
            "tags": []
          },
          "execution_count": 22
        }
      ]
    },
    {
      "cell_type": "markdown",
      "metadata": {
        "id": "YTvwO55BJtyy"
      },
      "source": [
        "\n",
        "calculate the MAPE"
      ]
    },
    {
      "cell_type": "code",
      "metadata": {
        "id": "wjFYJJViJpLq",
        "outputId": "5a6f2566-eb91-4ff4-9577-2f5d10dc4b2c",
        "colab": {
          "base_uri": "https://localhost:8080/",
          "height": 34
        }
      },
      "source": [
        " \n",
        "#calculating mean absolute percentage error\n",
        "mape2 = np.mean(np.abs(np.array(test2['y']) -np.array(forecast2['yhat']))/ np.array(test2['y'])) *100\n",
        "round(mape2,2)"
      ],
      "execution_count": 23,
      "outputs": [
        {
          "output_type": "execute_result",
          "data": {
            "text/plain": [
              "2.83"
            ]
          },
          "metadata": {
            "tags": []
          },
          "execution_count": 23
        }
      ]
    },
    {
      "cell_type": "code",
      "metadata": {
        "id": "jGoQ18d8OPwd",
        "outputId": "44d47d67-fbaf-41bc-8630-cc37bf52fed5",
        "colab": {
          "base_uri": "https://localhost:8080/",
          "height": 34
        }
      },
      "source": [
        " \n",
        "#calculate rmse\n",
        "from sklearn import metrics \n",
        "rmse2 = np.sqrt(metrics.mean_squared_error(np.array(test2['y']),np.array(forecast2['yhat'])))\n",
        "round(rmse2,2)"
      ],
      "execution_count": 24,
      "outputs": [
        {
          "output_type": "execute_result",
          "data": {
            "text/plain": [
              "41.93"
            ]
          },
          "metadata": {
            "tags": []
          },
          "execution_count": 24
        }
      ]
    },
    {
      "cell_type": "markdown",
      "metadata": {
        "id": "QV3oq1cWPItQ"
      },
      "source": [
        "**Question 19**"
      ]
    },
    {
      "cell_type": "code",
      "metadata": {
        "id": "g3QIHoA8O0y4",
        "outputId": "c74929aa-0f48-4c77-bc06-4716e9ba428d",
        "colab": {
          "base_uri": "https://localhost:8080/",
          "height": 422
        }
      },
      "source": [
        " \n",
        "# visualize each components (trends, monthly)\n",
        "from fbprophet.plot import plot_weekly\n",
        "plot_weekly(model2)"
      ],
      "execution_count": 25,
      "outputs": [
        {
          "output_type": "execute_result",
          "data": {
            "text/plain": [
              "[<matplotlib.lines.Line2D at 0x7f95879426a0>,\n",
              " <matplotlib.collections.PolyCollection at 0x7f95879424e0>]"
            ]
          },
          "metadata": {
            "tags": []
          },
          "execution_count": 25
        },
        {
          "output_type": "display_data",
          "data": {
            "image/png": "[encoded data removed]",
            "text/plain": [
              "<Figure size 720x432 with 1 Axes>"
            ]
          },
          "metadata": {
            "tags": []
          }
        }
      ]
    },
    {
      "cell_type": "markdown",
      "metadata": {
        "id": "4Vtp93d48gfS"
      },
      "source": [
        "Tuesday has the lowest value"
      ]
    },
    {
      "cell_type": "code",
      "metadata": {
        "id": "Ps0P3hir8uj8"
      },
      "source": [
        ""
      ],
      "execution_count": null,
      "outputs": []
    }
  ]
}