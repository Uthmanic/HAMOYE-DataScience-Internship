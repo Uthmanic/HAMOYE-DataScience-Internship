{
  "nbformat": 4,
  "nbformat_minor": 0,
  "metadata": {
    "colab": {
      "name": "stage_C_Quiz.ipynb",
      "provenance": [],
      "authorship_tag": "ABX9TyNamoCbPipUjCqeEgJhOfVn",
      "include_colab_link": true
    },
    "kernelspec": {
      "name": "python3",
      "display_name": "Python 3"
    }
  },
  "cells": [
    {
      "cell_type": "markdown",
      "metadata": {
        "id": "view-in-github",
        "colab_type": "text"
      },
      "source": [
        "<a href=\"https://colab.research.google.com/github/Uthmanic/HAMOYE-DataScience-Internship/blob/master/stage_C_Quiz.ipynb\" target=\"_parent\"><img src=\"https://colab.research.google.com/assets/colab-badge.svg\" alt=\"Open In Colab\"/></a>"
      ]
    },
    {
      "cell_type": "code",
      "metadata": {
        "id": "0UTYQ1FP9nWW",
        "colab_type": "code",
        "colab": {}
      },
      "source": [
        "#importing necessary libraries\n",
        "import numpy as np\n",
        "import pandas as pd \n",
        "import seaborn as sns"
      ],
      "execution_count": 2,
      "outputs": []
    },
    {
      "cell_type": "code",
      "metadata": {
        "id": "pwG0mh7n98Zw",
        "colab_type": "code",
        "colab": {}
      },
      "source": [
        "# load the dataset \n",
        "data = pd.read_csv('https://archive.ics.uci.edu/ml/machine-learning-databases/00471/Data_for_UCI_named.csv')"
      ],
      "execution_count": 3,
      "outputs": []
    },
    {
      "cell_type": "code",
      "metadata": {
        "id": "h3CGPYt4-NzQ",
        "colab_type": "code",
        "colab": {
          "base_uri": "https://localhost:8080/",
          "height": 204
        },
        "outputId": "cdcf3540-7f4e-4703-821b-4a3af95fc874"
      },
      "source": [
        "# drop 'stab' column as instructed\n",
        "data = data.drop(columns=['stab'])\n",
        "data.head()"
      ],
      "execution_count": 4,
      "outputs": [
        {
          "output_type": "execute_result",
          "data": {
            "text/html": [
              "<div>\n",
              "<style scoped>\n",
              "    .dataframe tbody tr th:only-of-type {\n",
              "        vertical-align: middle;\n",
              "    }\n",
              "\n",
              "    .dataframe tbody tr th {\n",
              "        vertical-align: top;\n",
              "    }\n",
              "\n",
              "    .dataframe thead th {\n",
              "        text-align: right;\n",
              "    }\n",
              "</style>\n",
              "<table border=\"1\" class=\"dataframe\">\n",
              "  <thead>\n",
              "    <tr style=\"text-align: right;\">\n",
              "      <th></th>\n",
              "      <th>tau1</th>\n",
              "      <th>tau2</th>\n",
              "      <th>tau3</th>\n",
              "      <th>tau4</th>\n",
              "      <th>p1</th>\n",
              "      <th>p2</th>\n",
              "      <th>p3</th>\n",
              "      <th>p4</th>\n",
              "      <th>g1</th>\n",
              "      <th>g2</th>\n",
              "      <th>g3</th>\n",
              "      <th>g4</th>\n",
              "      <th>stabf</th>\n",
              "    </tr>\n",
              "  </thead>\n",
              "  <tbody>\n",
              "    <tr>\n",
              "      <th>0</th>\n",
              "      <td>2.959060</td>\n",
              "      <td>3.079885</td>\n",
              "      <td>8.381025</td>\n",
              "      <td>9.780754</td>\n",
              "      <td>3.763085</td>\n",
              "      <td>-0.782604</td>\n",
              "      <td>-1.257395</td>\n",
              "      <td>-1.723086</td>\n",
              "      <td>0.650456</td>\n",
              "      <td>0.859578</td>\n",
              "      <td>0.887445</td>\n",
              "      <td>0.958034</td>\n",
              "      <td>unstable</td>\n",
              "    </tr>\n",
              "    <tr>\n",
              "      <th>1</th>\n",
              "      <td>9.304097</td>\n",
              "      <td>4.902524</td>\n",
              "      <td>3.047541</td>\n",
              "      <td>1.369357</td>\n",
              "      <td>5.067812</td>\n",
              "      <td>-1.940058</td>\n",
              "      <td>-1.872742</td>\n",
              "      <td>-1.255012</td>\n",
              "      <td>0.413441</td>\n",
              "      <td>0.862414</td>\n",
              "      <td>0.562139</td>\n",
              "      <td>0.781760</td>\n",
              "      <td>stable</td>\n",
              "    </tr>\n",
              "    <tr>\n",
              "      <th>2</th>\n",
              "      <td>8.971707</td>\n",
              "      <td>8.848428</td>\n",
              "      <td>3.046479</td>\n",
              "      <td>1.214518</td>\n",
              "      <td>3.405158</td>\n",
              "      <td>-1.207456</td>\n",
              "      <td>-1.277210</td>\n",
              "      <td>-0.920492</td>\n",
              "      <td>0.163041</td>\n",
              "      <td>0.766689</td>\n",
              "      <td>0.839444</td>\n",
              "      <td>0.109853</td>\n",
              "      <td>unstable</td>\n",
              "    </tr>\n",
              "    <tr>\n",
              "      <th>3</th>\n",
              "      <td>0.716415</td>\n",
              "      <td>7.669600</td>\n",
              "      <td>4.486641</td>\n",
              "      <td>2.340563</td>\n",
              "      <td>3.963791</td>\n",
              "      <td>-1.027473</td>\n",
              "      <td>-1.938944</td>\n",
              "      <td>-0.997374</td>\n",
              "      <td>0.446209</td>\n",
              "      <td>0.976744</td>\n",
              "      <td>0.929381</td>\n",
              "      <td>0.362718</td>\n",
              "      <td>unstable</td>\n",
              "    </tr>\n",
              "    <tr>\n",
              "      <th>4</th>\n",
              "      <td>3.134112</td>\n",
              "      <td>7.608772</td>\n",
              "      <td>4.943759</td>\n",
              "      <td>9.857573</td>\n",
              "      <td>3.525811</td>\n",
              "      <td>-1.125531</td>\n",
              "      <td>-1.845975</td>\n",
              "      <td>-0.554305</td>\n",
              "      <td>0.797110</td>\n",
              "      <td>0.455450</td>\n",
              "      <td>0.656947</td>\n",
              "      <td>0.820923</td>\n",
              "      <td>unstable</td>\n",
              "    </tr>\n",
              "  </tbody>\n",
              "</table>\n",
              "</div>"
            ],
            "text/plain": [
              "       tau1      tau2      tau3  ...        g3        g4     stabf\n",
              "0  2.959060  3.079885  8.381025  ...  0.887445  0.958034  unstable\n",
              "1  9.304097  4.902524  3.047541  ...  0.562139  0.781760    stable\n",
              "2  8.971707  8.848428  3.046479  ...  0.839444  0.109853  unstable\n",
              "3  0.716415  7.669600  4.486641  ...  0.929381  0.362718  unstable\n",
              "4  3.134112  7.608772  4.943759  ...  0.656947  0.820923  unstable\n",
              "\n",
              "[5 rows x 13 columns]"
            ]
          },
          "metadata": {
            "tags": []
          },
          "execution_count": 4
        }
      ]
    },
    {
      "cell_type": "code",
      "metadata": {
        "id": "RsVP05Yi-SUU",
        "colab_type": "code",
        "colab": {}
      },
      "source": [
        "# assign features and the target class\n",
        "X = data.drop(columns=['stabf'])\n",
        "y = data['stabf']\n",
        "\n",
        "#split the data into training and testing sets\n",
        "from sklearn.model_selection import train_test_split\n",
        "x_train, x_test, y_train, y_test = train_test_split(X, y, test_size=0.2, random_state=1)"
      ],
      "execution_count": 5,
      "outputs": []
    },
    {
      "cell_type": "code",
      "metadata": {
        "id": "ULzCZY4l-iYR",
        "colab_type": "code",
        "colab": {}
      },
      "source": [
        "#importing standard scaler\n",
        "from sklearn.preprocessing import StandardScaler\n",
        "scaler = StandardScaler()\n",
        "\n",
        "#use standard scaler to transform train and test\n",
        "x_train_scaler = scaler.fit_transform(x_train)\n",
        "x_test_scaler = scaler.transform(x_test)"
      ],
      "execution_count": 6,
      "outputs": []
    },
    {
      "cell_type": "markdown",
      "metadata": {
        "id": "xiEmGxnQEm2a",
        "colab_type": "text"
      },
      "source": [
        "**Question 1**"
      ]
    },
    {
      "cell_type": "code",
      "metadata": {
        "id": "XwLQVU4RDNam",
        "colab_type": "code",
        "colab": {
          "base_uri": "https://localhost:8080/",
          "height": 34
        },
        "outputId": "50c44e9d-2673-4c1e-bd98-a7ed7f0079db"
      },
      "source": [
        "#calculate f1_score\n",
        "tp = 355\n",
        "tn = 120\n",
        "fp = 1480\n",
        "fn = 45\n",
        "precision = tp / (tp + fp)\n",
        "recall= tp / (tp + fn)\n",
        "f1_score=  2*((precision* recall)/(precision+recall))\n",
        "\n",
        "round(f1_score,4)"
      ],
      "execution_count": 7,
      "outputs": [
        {
          "output_type": "execute_result",
          "data": {
            "text/plain": [
              "0.3177"
            ]
          },
          "metadata": {
            "tags": []
          },
          "execution_count": 7
        }
      ]
    },
    {
      "cell_type": "markdown",
      "metadata": {
        "id": "Wy1_c_DaFT4Z",
        "colab_type": "text"
      },
      "source": [
        "**Question 3**"
      ]
    },
    {
      "cell_type": "code",
      "metadata": {
        "id": "MO0A2h7WFMvy",
        "colab_type": "code",
        "colab": {
          "base_uri": "https://localhost:8080/",
          "height": 34
        },
        "outputId": "613289ca-7641-4be7-e0f6-a49efbc81721"
      },
      "source": [
        "# calculate the recall\n",
        "tp1 = 82\n",
        "tn1 = 9\n",
        "fp1 = 2\n",
        "fn1 = 18\n",
        "precision = tp1 / (tp1 + fp1)\n",
        "recall= tp1 / (tp1 + fn1)\n",
        "f1_score=  2*((precision* recall)/(precision+recall))\n",
        "print('recall: %f' % recall)"
      ],
      "execution_count": 8,
      "outputs": [
        {
          "output_type": "stream",
          "text": [
            "recall: 0.820000\n"
          ],
          "name": "stdout"
        }
      ]
    },
    {
      "cell_type": "markdown",
      "metadata": {
        "id": "Cp4HROa2F3yL",
        "colab_type": "text"
      },
      "source": [
        "**Question 15**"
      ]
    },
    {
      "cell_type": "code",
      "metadata": {
        "id": "DnPets2z-l_F",
        "colab_type": "code",
        "colab": {
          "base_uri": "https://localhost:8080/",
          "height": 34
        },
        "outputId": "72da6feb-5e66-4ba5-e8f1-86f8e02ba847"
      },
      "source": [
        "#importing Random Forest classifier\n",
        "from sklearn.ensemble import RandomForestClassifier\n",
        "RFC = RandomForestClassifier(random_state=1)\n",
        "\n",
        "#fit train set\n",
        "RFC.fit(x_train_scaler, y_train)\n",
        "\n",
        "# predict test set\n",
        "RFC_pred = RFC.predict(x_test_scaler)\n",
        "\n",
        "# accuracy of test set\n",
        "from sklearn.metrics import recall_score, accuracy_score, precision_score, f1_score, confusion_matrix\n",
        "RFC_accuracy = accuracy_score(y_true=y_test, y_pred=RFC_pred)\n",
        "print('Accuracy: {}'.format(RFC_accuracy))"
      ],
      "execution_count": 9,
      "outputs": [
        {
          "output_type": "stream",
          "text": [
            "Accuracy: 0.929\n"
          ],
          "name": "stdout"
        }
      ]
    },
    {
      "cell_type": "markdown",
      "metadata": {
        "id": "9qDrJp90GJs5",
        "colab_type": "text"
      },
      "source": [
        "**Question 16**"
      ]
    },
    {
      "cell_type": "code",
      "metadata": {
        "id": "oqZ5lB9L-rP6",
        "colab_type": "code",
        "colab": {
          "base_uri": "https://localhost:8080/",
          "height": 34
        },
        "outputId": "f1215ad8-36fd-4cd3-d9c3-865447cadd67"
      },
      "source": [
        "#importing LGBM classifier\n",
        "from lightgbm import LGBMClassifier\n",
        "LGBM = LGBMClassifier(random_state=1)\n",
        "\n",
        "#fit train set\n",
        "LGBM.fit(x_train_scaler, y_train)\n",
        "\n",
        "# predict test set\n",
        "LGBM_pred = LGBM.predict(x_test_scaler)\n",
        "\n",
        "# accuracy of test set\n",
        "LGBM_accuracy = accuracy_score(y_true=y_test, y_pred=LGBM_pred)\n",
        "print('Accuracy: {}'.format(LGBM_accuracy))"
      ],
      "execution_count": 10,
      "outputs": [
        {
          "output_type": "stream",
          "text": [
            "Accuracy: 0.9375\n"
          ],
          "name": "stdout"
        }
      ]
    },
    {
      "cell_type": "markdown",
      "metadata": {
        "id": "_vtuLLVBGX9Z",
        "colab_type": "text"
      },
      "source": [
        "**Question 17**"
      ]
    },
    {
      "cell_type": "code",
      "metadata": {
        "id": "mtmd899V_Ptq",
        "colab_type": "code",
        "colab": {
          "base_uri": "https://localhost:8080/",
          "height": 34
        },
        "outputId": "04d52c91-21f3-4158-b6c3-496e55ffd24a"
      },
      "source": [
        "#importing XGBoost classifier\n",
        "from xgboost import XGBClassifier\n",
        "XGB = XGBClassifier(random_state=1)\n",
        "\n",
        "#fit train set\n",
        "XGB.fit(x_train_scaler, y_train)\n",
        "\n",
        "# predict test set\n",
        "XGB_pred = XGB.predict(x_test_scaler)\n",
        "\n",
        "# accuracy of test set\n",
        "XGB_accuracy = accuracy_score(y_true=y_test, y_pred=XGB_pred)\n",
        "print('Accuracy: {}'.format(XGB_accuracy))"
      ],
      "execution_count": 11,
      "outputs": [
        {
          "output_type": "stream",
          "text": [
            "Accuracy: 0.9195\n"
          ],
          "name": "stdout"
        }
      ]
    },
    {
      "cell_type": "markdown",
      "metadata": {
        "id": "qf10yCwSGe8L",
        "colab_type": "text"
      },
      "source": [
        "**Question 18**"
      ]
    },
    {
      "cell_type": "code",
      "metadata": {
        "id": "YLVBQtPwEY9D",
        "colab_type": "code",
        "colab": {
          "base_uri": "https://localhost:8080/",
          "height": 34
        },
        "outputId": "bbaa7614-962b-47dd-caad-1f122075be37"
      },
      "source": [
        "# importing extra tree classifier\n",
        "from sklearn.ensemble import ExtraTreesClassifier\n",
        "ETC = ExtraTreesClassifier(random_state=1)\n",
        "\n",
        "#fit train set\n",
        "ETC.fit(x_train_scaler, y_train)\n",
        "\n",
        "# predict test set\n",
        "ETC_pred = ETC.predict(x_test_scaler)\n",
        "\n",
        "# accuracy of test set\n",
        "ETC_accuracy = accuracy_score(y_true=y_test, y_pred=ETC_pred)\n",
        "print('Accuracy: {}'.format(ETC_accuracy))\n"
      ],
      "execution_count": 12,
      "outputs": [
        {
          "output_type": "stream",
          "text": [
            "Accuracy: 0.928\n"
          ],
          "name": "stdout"
        }
      ]
    },
    {
      "cell_type": "code",
      "metadata": {
        "id": "OlAoWR8rIhXj",
        "colab_type": "code",
        "colab": {
          "base_uri": "https://localhost:8080/",
          "height": 85
        },
        "outputId": "a7be943f-141d-401c-9e37-c15cb4b40f7a"
      },
      "source": [
        "# range of parameters to find the best hyperparameters\n",
        "n_estimators = [50, 100, 300, 500, 1000]\n",
        "min_samples_split = [2, 3, 5, 7, 9]\n",
        "min_samples_leaf = [1, 2, 4, 6, 8]\n",
        "max_features = ['auto', 'sqrt', 'log2', None]\n",
        "\n",
        "hyperparameter_grid = {'n_estimators': n_estimators,\n",
        "                       'min_samples_leaf': min_samples_leaf,\n",
        "                       'min_samples_split': min_samples_split,\n",
        "                       'max_features': max_features}\n",
        "\n",
        "#importing Random Search CV\n",
        "from sklearn.model_selection import RandomizedSearchCV\n",
        "clf =  RandomizedSearchCV(ETC,hyperparameter_grid, cv=5, n_iter=10, scoring = 'accuracy', n_jobs = -1, verbose = 1, random_state = 1)\n",
        "\n",
        "#fit train set\n",
        "searchCV = clf.fit(x_train_scaler, y_train)\n"
      ],
      "execution_count": 13,
      "outputs": [
        {
          "output_type": "stream",
          "text": [
            "Fitting 5 folds for each of 10 candidates, totalling 50 fits\n"
          ],
          "name": "stdout"
        },
        {
          "output_type": "stream",
          "text": [
            "[Parallel(n_jobs=-1)]: Using backend LokyBackend with 2 concurrent workers.\n",
            "[Parallel(n_jobs=-1)]: Done  46 tasks      | elapsed:  1.4min\n",
            "[Parallel(n_jobs=-1)]: Done  50 out of  50 | elapsed:  1.5min finished\n"
          ],
          "name": "stderr"
        }
      ]
    },
    {
      "cell_type": "code",
      "metadata": {
        "id": "qTRokhTILFuZ",
        "colab_type": "code",
        "colab": {
          "base_uri": "https://localhost:8080/",
          "height": 85
        },
        "outputId": "c6474ca1-421b-4604-de58-35b7206720be"
      },
      "source": [
        "# best hyperparameters from the randomized search CV\n",
        "searchCV.best_params_"
      ],
      "execution_count": 14,
      "outputs": [
        {
          "output_type": "execute_result",
          "data": {
            "text/plain": [
              "{'max_features': None,\n",
              " 'min_samples_leaf': 8,\n",
              " 'min_samples_split': 2,\n",
              " 'n_estimators': 1000}"
            ]
          },
          "metadata": {
            "tags": []
          },
          "execution_count": 14
        }
      ]
    },
    {
      "cell_type": "markdown",
      "metadata": {
        "id": "S2YWNtPSGtC1",
        "colab_type": "text"
      },
      "source": [
        "**Question 19**"
      ]
    },
    {
      "cell_type": "code",
      "metadata": {
        "id": "nOabvEhONvdd",
        "colab_type": "code",
        "colab": {
          "base_uri": "https://localhost:8080/",
          "height": 34
        },
        "outputId": "f250253a-f3bf-4691-be21-07d60b761c68"
      },
      "source": [
        "#new optimal ExtraTreesClassifier\n",
        "ETC1 = ExtraTreesClassifier(max_features=None,min_samples_leaf=8,min_samples_split=2,n_estimators=1000,random_state=1)\n",
        "\n",
        "#fit train set\n",
        "ETC1.fit(x_train_scaler, y_train)\n",
        "\n",
        "# predict test set\n",
        "ETC1_pred = ETC1.predict(x_test_scaler)\n",
        "\n",
        "# accuracy of test set\n",
        "ETC1_accuracy = accuracy_score(y_true=y_test, y_pred=ETC1_pred)\n",
        "print('Accuracy: {}'.format(ETC1_accuracy))"
      ],
      "execution_count": 15,
      "outputs": [
        {
          "output_type": "stream",
          "text": [
            "Accuracy: 0.927\n"
          ],
          "name": "stdout"
        }
      ]
    },
    {
      "cell_type": "markdown",
      "metadata": {
        "id": "wZQbx3jhHCfr",
        "colab_type": "text"
      },
      "source": [
        " The accuracy of the new optimal model is **lower** than the initial ExtraTreesClassifier model with no hyperparameter tuning"
      ]
    },
    {
      "cell_type": "markdown",
      "metadata": {
        "id": "UmD6HAB1HOEG",
        "colab_type": "text"
      },
      "source": [
        "**Question 20**"
      ]
    },
    {
      "cell_type": "code",
      "metadata": {
        "id": "gnG91hS6QUxD",
        "colab_type": "code",
        "colab": {
          "base_uri": "https://localhost:8080/",
          "height": 421
        },
        "outputId": "673696ad-c42d-4ed1-e1b3-0d44a2a109e6"
      },
      "source": [
        "feature = X.columns\n",
        "\n",
        "# features importance\n",
        "feat_importance = pd.DataFrame(ETC.feature_importances_,index=feature)\n",
        "feat = feat_importance.sort_values(0)\n",
        "feat\n"
      ],
      "execution_count": 16,
      "outputs": [
        {
          "output_type": "execute_result",
          "data": {
            "text/html": [
              "<div>\n",
              "<style scoped>\n",
              "    .dataframe tbody tr th:only-of-type {\n",
              "        vertical-align: middle;\n",
              "    }\n",
              "\n",
              "    .dataframe tbody tr th {\n",
              "        vertical-align: top;\n",
              "    }\n",
              "\n",
              "    .dataframe thead th {\n",
              "        text-align: right;\n",
              "    }\n",
              "</style>\n",
              "<table border=\"1\" class=\"dataframe\">\n",
              "  <thead>\n",
              "    <tr style=\"text-align: right;\">\n",
              "      <th></th>\n",
              "      <th>0</th>\n",
              "    </tr>\n",
              "  </thead>\n",
              "  <tbody>\n",
              "    <tr>\n",
              "      <th>p1</th>\n",
              "      <td>0.039507</td>\n",
              "    </tr>\n",
              "    <tr>\n",
              "      <th>p2</th>\n",
              "      <td>0.040371</td>\n",
              "    </tr>\n",
              "    <tr>\n",
              "      <th>p4</th>\n",
              "      <td>0.040579</td>\n",
              "    </tr>\n",
              "    <tr>\n",
              "      <th>p3</th>\n",
              "      <td>0.040706</td>\n",
              "    </tr>\n",
              "    <tr>\n",
              "      <th>g1</th>\n",
              "      <td>0.089783</td>\n",
              "    </tr>\n",
              "    <tr>\n",
              "      <th>g2</th>\n",
              "      <td>0.093676</td>\n",
              "    </tr>\n",
              "    <tr>\n",
              "      <th>g4</th>\n",
              "      <td>0.094019</td>\n",
              "    </tr>\n",
              "    <tr>\n",
              "      <th>g3</th>\n",
              "      <td>0.096883</td>\n",
              "    </tr>\n",
              "    <tr>\n",
              "      <th>tau3</th>\n",
              "      <td>0.113169</td>\n",
              "    </tr>\n",
              "    <tr>\n",
              "      <th>tau4</th>\n",
              "      <td>0.115466</td>\n",
              "    </tr>\n",
              "    <tr>\n",
              "      <th>tau1</th>\n",
              "      <td>0.117397</td>\n",
              "    </tr>\n",
              "    <tr>\n",
              "      <th>tau2</th>\n",
              "      <td>0.118445</td>\n",
              "    </tr>\n",
              "  </tbody>\n",
              "</table>\n",
              "</div>"
            ],
            "text/plain": [
              "             0\n",
              "p1    0.039507\n",
              "p2    0.040371\n",
              "p4    0.040579\n",
              "p3    0.040706\n",
              "g1    0.089783\n",
              "g2    0.093676\n",
              "g4    0.094019\n",
              "g3    0.096883\n",
              "tau3  0.113169\n",
              "tau4  0.115466\n",
              "tau1  0.117397\n",
              "tau2  0.118445"
            ]
          },
          "metadata": {
            "tags": []
          },
          "execution_count": 16
        }
      ]
    },
    {
      "cell_type": "code",
      "metadata": {
        "id": "A2c9mArQSQ9p",
        "colab_type": "code",
        "colab": {
          "base_uri": "https://localhost:8080/",
          "height": 85
        },
        "outputId": "f7e5cb77-a000-47b9-f972-27079cf0e907"
      },
      "source": [
        "# most important feature\n",
        "print('most important feature: {}'.format(feat.idxmax()))\n",
        "\n",
        "# least important feature\n",
        "print('least important feature: {}'.format(feat.idxmin()))\n"
      ],
      "execution_count": 17,
      "outputs": [
        {
          "output_type": "stream",
          "text": [
            "most important feature: 0    tau2\n",
            "dtype: object\n",
            "least important feature: 0    p1\n",
            "dtype: object\n"
          ],
          "name": "stdout"
        }
      ]
    }
  ]
}